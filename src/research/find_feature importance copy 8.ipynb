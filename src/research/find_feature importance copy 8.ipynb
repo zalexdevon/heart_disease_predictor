{
 "cells": [
  {
   "cell_type": "code",
   "execution_count": null,
   "metadata": {},
   "outputs": [
    {
     "data": {
      "text/plain": [
       "'d:\\\\DA_workspace\\\\alzheimers_prediction\\\\src'"
      ]
     },
     "execution_count": 1,
     "metadata": {},
     "output_type": "execute_result"
    }
   ],
   "source": [
    "import os\n",
    "\n",
    "\n",
    "os.chdir(\"../\")\n",
    "\n",
    "\n",
    "os.getcwd()\n"
   ]
  },
  {
   "cell_type": "code",
   "execution_count": null,
   "metadata": {},
   "outputs": [],
   "source": [
    "import pandas as pd\n",
    "import numpy as np\n",
    "from sklearn.model_selection import train_test_split, GridSearchCV\n",
    "from classifier.Mylib import myfuncs\n",
    "from sklearn.decomposition import PCA\n",
    "import plotly.express as px\n",
    "from sklearn.neighbors import KNeighborsTransformer\n",
    "from xgboost import XGBClassifier\n",
    "from sklearn.pipeline import Pipeline\n",
    "from sklearn.inspection import permutation_importance\n",
    "from sklearn.ensemble import RandomForestClassifier\n"
   ]
  },
  {
   "cell_type": "code",
   "execution_count": null,
   "metadata": {},
   "outputs": [
    {
     "name": "stdout",
     "output_type": "stream",
     "text": [
      "                              feature      score\n",
      "0                                 Age  22.292878\n",
      "2                                 BMI   5.252697\n",
      "3                Cognitive_Test_Score   4.323056\n",
      "7          do_get_Genetic_Risk_Factor   3.974160\n",
      "1                     Education_Level   2.808182\n",
      "6                   do_Family_History   2.332143\n",
      "15               Smoking_Status_level   1.047623\n",
      "20                         Diet_level   0.979938\n",
      "21       Air_Pollution_Exposure_level   0.947030\n",
      "14            Physical_Activity_Level   0.888507\n",
      "19                Sleep_Quality_Level   0.866070\n",
      "23                       Income_Level   0.853355\n",
      "24                      Stress_Levels   0.843820\n",
      "18                   Depression_Level   0.812034\n",
      "16          Alcohol_Consumption_Level   0.777069\n",
      "22            Social_Engagement_Level   0.768842\n",
      "11          Employment_Status_Retired   0.579997\n",
      "9               Marital_Status_Single   0.555504\n",
      "12       Employment_Status_Unemployed   0.534375\n",
      "17                  Cholesterol_Level   0.521287\n",
      "13                        Gender_Male   0.486697\n",
      "8   living_place_urban_or_rural_Urban   0.461642\n",
      "5                 do_get_Hypertension   0.447619\n",
      "4                     do_get_Diabetes   0.406858\n",
      "10             Marital_Status_Widowed   0.293364\n"
     ]
    }
   ],
   "source": [
    "train_features = myfuncs.load_python_object(\n",
    "    \"../artifacts/data_transformation_1/train_features.pkl\"\n",
    ")\n",
    "train_target = myfuncs.load_python_object(\n",
    "    \"../artifacts/data_transformation_1/train_target.pkl\"\n",
    ")\n",
    "\n",
    "model = XGBClassifier()\n",
    "model.fit(train_features, train_target)\n",
    "result = permutation_importance(\n",
    "    model, train_features, train_target, n_repeats=10, random_state=42\n",
    ")\n",
    "\n",
    "importance = pd.DataFrame(\n",
    "    data={\"feature\": train_features.columns, \"score\": result.importances_mean * 100}\n",
    ")\n",
    "\n",
    "importance = importance.sort_values(by=\"score\", ascending=False)\n",
    "\n",
    "print(importance)\n"
   ]
  },
  {
   "cell_type": "code",
   "execution_count": null,
   "metadata": {},
   "outputs": [
    {
     "data": {
      "text/plain": [
       "['do_get_Genetic_Risk_Factor', 'do_Family_History', 'Age']"
      ]
     },
     "execution_count": 6,
     "metadata": {},
     "output_type": "execute_result"
    }
   ],
   "source": [
    "importance[\"feature\"].tolist()[:3]\n"
   ]
  },
  {
   "cell_type": "code",
   "execution_count": null,
   "metadata": {},
   "outputs": [
    {
     "data": {
      "text/plain": [
       "(74283, 25)"
      ]
     },
     "execution_count": 4,
     "metadata": {},
     "output_type": "execute_result"
    }
   ],
   "source": [
    "df.shape\n"
   ]
  },
  {
   "cell_type": "code",
   "execution_count": null,
   "metadata": {},
   "outputs": [],
   "source": [
    "df_train, df_test = train_test_split(\n",
    "    df, stratify=df[\"Alzheimer’s Diagnosis\"], test_size=0.1, random_state=42\n",
    ")\n",
    "\n",
    "df_train = df_train.reset_index(drop=True)\n",
    "df_test = df_test.reset_index(drop=True)\n",
    "\n",
    "\n",
    "data_folder = \"../artifacts/data_ingestion\"\n",
    "os.makedirs(data_folder, exist_ok=True)\n",
    "\n",
    "myfuncs.save_python_object(os.path.join(data_folder, \"raw_data.pkl\"), df)\n",
    "myfuncs.save_python_object(os.path.join(data_folder, \"train_data.pkl\"), df_train)\n",
    "myfuncs.save_python_object(os.path.join(data_folder, \"test_data.pkl\"), df_test)\n"
   ]
  }
 ],
 "metadata": {
  "kernelspec": {
   "display_name": "Python 3",
   "language": "python",
   "name": "python3"
  },
  "language_info": {
   "codemirror_mode": {
    "name": "ipython",
    "version": 3
   },
   "file_extension": ".py",
   "mimetype": "text/x-python",
   "name": "python",
   "nbconvert_exporter": "python",
   "pygments_lexer": "ipython3",
   "version": "3.10.0"
  }
 },
 "nbformat": 4,
 "nbformat_minor": 2
}
