{
 "cells": [
  {
   "cell_type": "code",
   "execution_count": null,
   "metadata": {},
   "outputs": [
    {
     "data": {
      "text/plain": [
       "'d:\\\\DA_workspace\\\\alzheimers_prediction\\\\src'"
      ]
     },
     "execution_count": 1,
     "metadata": {},
     "output_type": "execute_result"
    }
   ],
   "source": [
    "import os\n",
    "\n",
    "\n",
    "os.chdir(\"../\")\n",
    "\n",
    "\n",
    "os.getcwd()\n"
   ]
  },
  {
   "cell_type": "code",
   "execution_count": null,
   "metadata": {},
   "outputs": [],
   "source": [
    "import pandas as pd\n",
    "import numpy as np\n",
    "from sklearn.model_selection import (\n",
    "    train_test_split,\n",
    "    RandomizedSearchCV,\n",
    "    PredefinedSplit,\n",
    "    GridSearchCV,\n",
    ")\n",
    "from classifier.Mylib import myfuncs\n",
    "import plotly.express as px\n",
    "from sklearn import metrics\n",
    "from sklearn.manifold import LocallyLinearEmbedding\n",
    "from sklearn.pipeline import Pipeline\n",
    "from xgboost import XGBClassifier\n",
    "from sklearn.cluster import KMeans\n"
   ]
  },
  {
   "cell_type": "code",
   "execution_count": null,
   "metadata": {},
   "outputs": [
    {
     "name": "stdout",
     "output_type": "stream",
     "text": [
      "Fitting 1 folds for each of 4 candidates, totalling 4 fits\n",
      "[CV] END ....................................1__n_clusters=5; total time=   0.5s\n",
      "[CV] END ...................................1__n_clusters=10; total time=   1.1s\n",
      "[CV] END ...................................1__n_clusters=15; total time=   1.4s\n",
      "[CV] END ...................................1__n_clusters=20; total time=   1.9s\n"
     ]
    },
    {
     "data": {
      "text/plain": [
       "{'1__n_clusters': 15}"
      ]
     },
     "execution_count": 4,
     "metadata": {},
     "output_type": "execute_result"
    }
   ],
   "source": [
    "train_features = myfuncs.load_python_object(\n",
    "    \"../artifacts/data_transformation_1/train_features.pkl\"\n",
    ")\n",
    "train_target = myfuncs.load_python_object(\n",
    "    \"../artifacts/data_transformation_1/train_target.pkl\"\n",
    ")\n",
    "val_features = myfuncs.load_python_object(\n",
    "    \"../artifacts/data_transformation_1/val_features.pkl\"\n",
    ")\n",
    "val_target = myfuncs.load_python_object(\n",
    "    \"../artifacts/data_transformation_1/val_target.pkl\"\n",
    ")\n",
    "features = pd.concat([train_features, val_features], axis=0)\n",
    "target = pd.concat([train_target, val_target], axis=0)\n",
    "spliter = PredefinedSplit(\n",
    "    test_fold=[-1] * len(train_features) + [0] * len(val_features)\n",
    ")\n",
    "\n",
    "\n",
    "param_grid = {\"1__n_clusters\": range(5, 20 + 1, 5)}\n",
    "pipeline = Pipeline(\n",
    "    steps=[\n",
    "        (\"1\", KMeans(n_init=10, random_state=42)),\n",
    "        (\"2\", XGBClassifier()),\n",
    "    ]\n",
    ")\n",
    "gs = GridSearchCV(\n",
    "    pipeline,\n",
    "    param_grid,\n",
    "    cv=spliter,\n",
    "    verbose=2,\n",
    ")\n",
    "\n",
    "gs.fit(features, target)\n",
    "\n",
    "gs.best_params_\n"
   ]
  },
  {
   "cell_type": "code",
   "execution_count": null,
   "metadata": {},
   "outputs": [
    {
     "data": {
      "text/plain": [
       "['do_get_Genetic_Risk_Factor', 'do_Family_History', 'Age']"
      ]
     },
     "execution_count": 6,
     "metadata": {},
     "output_type": "execute_result"
    }
   ],
   "source": [
    "importance[\"feature\"].tolist()[:3]\n"
   ]
  },
  {
   "cell_type": "code",
   "execution_count": null,
   "metadata": {},
   "outputs": [
    {
     "data": {
      "text/plain": [
       "(74283, 25)"
      ]
     },
     "execution_count": 4,
     "metadata": {},
     "output_type": "execute_result"
    }
   ],
   "source": [
    "df.shape\n"
   ]
  },
  {
   "cell_type": "code",
   "execution_count": null,
   "metadata": {},
   "outputs": [],
   "source": [
    "df_train, df_test = train_test_split(\n",
    "    df, stratify=df[\"Alzheimer’s Diagnosis\"], test_size=0.1, random_state=42\n",
    ")\n",
    "\n",
    "df_train = df_train.reset_index(drop=True)\n",
    "df_test = df_test.reset_index(drop=True)\n",
    "\n",
    "\n",
    "data_folder = \"../artifacts/data_ingestion\"\n",
    "os.makedirs(data_folder, exist_ok=True)\n",
    "\n",
    "myfuncs.save_python_object(os.path.join(data_folder, \"raw_data.pkl\"), df)\n",
    "myfuncs.save_python_object(os.path.join(data_folder, \"train_data.pkl\"), df_train)\n",
    "myfuncs.save_python_object(os.path.join(data_folder, \"test_data.pkl\"), df_test)\n"
   ]
  }
 ],
 "metadata": {
  "kernelspec": {
   "display_name": "Python 3",
   "language": "python",
   "name": "python3"
  },
  "language_info": {
   "codemirror_mode": {
    "name": "ipython",
    "version": 3
   },
   "file_extension": ".py",
   "mimetype": "text/x-python",
   "name": "python",
   "nbconvert_exporter": "python",
   "pygments_lexer": "ipython3",
   "version": "3.10.0"
  }
 },
 "nbformat": 4,
 "nbformat_minor": 2
}
