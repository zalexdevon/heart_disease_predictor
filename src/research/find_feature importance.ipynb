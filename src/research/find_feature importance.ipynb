{
 "cells": [
  {
   "cell_type": "code",
   "execution_count": null,
   "metadata": {},
   "outputs": [
    {
     "data": {
      "text/plain": [
       "'d:\\\\DA_workspace\\\\alzheimers_prediction\\\\src'"
      ]
     },
     "execution_count": 1,
     "metadata": {},
     "output_type": "execute_result"
    }
   ],
   "source": [
    "import os\n",
    "\n",
    "\n",
    "os.chdir(\"../\")\n",
    "\n",
    "\n",
    "os.getcwd()\n"
   ]
  },
  {
   "cell_type": "code",
   "execution_count": null,
   "metadata": {},
   "outputs": [],
   "source": [
    "import pandas as pd\n",
    "import numpy as np\n",
    "from sklearn.model_selection import train_test_split\n",
    "from classifier.Mylib import myfuncs\n"
   ]
  },
  {
   "cell_type": "code",
   "execution_count": null,
   "metadata": {},
   "outputs": [
    {
     "name": "stdout",
     "output_type": "stream",
     "text": [
      "                              feature     score\n",
      "7          do_get_Genetic_Risk_Factor  0.697894\n",
      "6                   do_Family_History  0.149544\n",
      "0                                 Age  0.019710\n",
      "2                                 BMI  0.006562\n",
      "3                Cognitive_Test_Score  0.006482\n",
      "10             Marital_Status_Widowed  0.006379\n",
      "4                     do_get_Diabetes  0.006359\n",
      "22            Social_Engagement_Level  0.006265\n",
      "5                 do_get_Hypertension  0.006215\n",
      "24                      Stress_Levels  0.006184\n",
      "17                  Cholesterol_Level  0.006059\n",
      "1                     Education_Level  0.006040\n",
      "16          Alcohol_Consumption_Level  0.006035\n",
      "18                   Depression_Level  0.006031\n",
      "12       Employment_Status_Unemployed  0.006009\n",
      "14            Physical_Activity_Level  0.006008\n",
      "21       Air_Pollution_Exposure_level  0.005935\n",
      "23                       Income_Level  0.005918\n",
      "15               Smoking_Status_level  0.005905\n",
      "20                         Diet_level  0.005901\n",
      "19                Sleep_Quality_Level  0.005818\n",
      "11          Employment_Status_Retired  0.005785\n",
      "13                        Gender_Male  0.005710\n",
      "9               Marital_Status_Single  0.005646\n",
      "8   living_place_urban_or_rural_Urban  0.005606\n"
     ]
    }
   ],
   "source": [
    "train_features = myfuncs.load_python_object(\n",
    "    \"../artifacts/data_transformation_1/train_features.pkl\"\n",
    ")\n",
    "\n",
    "model = myfuncs.load_python_object(\"../artifacts/model_trainer/XGB_1/best_model.pkl\")\n",
    "\n",
    "importance = pd.DataFrame(\n",
    "    data={\"feature\": train_features.columns, \"score\": model.feature_importances_}\n",
    ")\n",
    "importance = importance.sort_values(by=\"score\", ascending=False)\n",
    "\n",
    "print(importance)\n"
   ]
  },
  {
   "cell_type": "code",
   "execution_count": null,
   "metadata": {},
   "outputs": [
    {
     "data": {
      "text/plain": [
       "['do_get_Genetic_Risk_Factor', 'do_Family_History', 'Age']"
      ]
     },
     "execution_count": 6,
     "metadata": {},
     "output_type": "execute_result"
    }
   ],
   "source": [
    "importance[\"feature\"].tolist()[:3]\n"
   ]
  },
  {
   "cell_type": "code",
   "execution_count": null,
   "metadata": {},
   "outputs": [
    {
     "data": {
      "text/plain": [
       "(74283, 25)"
      ]
     },
     "execution_count": 4,
     "metadata": {},
     "output_type": "execute_result"
    }
   ],
   "source": [
    "df.shape\n"
   ]
  },
  {
   "cell_type": "code",
   "execution_count": null,
   "metadata": {},
   "outputs": [],
   "source": [
    "df_train, df_test = train_test_split(\n",
    "    df, stratify=df[\"Alzheimer’s Diagnosis\"], test_size=0.1, random_state=42\n",
    ")\n",
    "\n",
    "df_train = df_train.reset_index(drop=True)\n",
    "df_test = df_test.reset_index(drop=True)\n",
    "\n",
    "\n",
    "data_folder = \"../artifacts/data_ingestion\"\n",
    "os.makedirs(data_folder, exist_ok=True)\n",
    "\n",
    "myfuncs.save_python_object(os.path.join(data_folder, \"raw_data.pkl\"), df)\n",
    "myfuncs.save_python_object(os.path.join(data_folder, \"train_data.pkl\"), df_train)\n",
    "myfuncs.save_python_object(os.path.join(data_folder, \"test_data.pkl\"), df_test)\n"
   ]
  }
 ],
 "metadata": {
  "kernelspec": {
   "display_name": "Python 3",
   "language": "python",
   "name": "python3"
  },
  "language_info": {
   "codemirror_mode": {
    "name": "ipython",
    "version": 3
   },
   "file_extension": ".py",
   "mimetype": "text/x-python",
   "name": "python",
   "nbconvert_exporter": "python",
   "pygments_lexer": "ipython3",
   "version": "3.10.0"
  }
 },
 "nbformat": 4,
 "nbformat_minor": 2
}
