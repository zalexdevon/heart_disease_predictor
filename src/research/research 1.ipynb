{
 "cells": [
  {
   "cell_type": "code",
   "execution_count": null,
   "metadata": {},
   "outputs": [
    {
     "data": {
      "text/plain": [
       "'d:\\\\DA_workspace\\\\heart_disease_predictor\\\\src'"
      ]
     },
     "execution_count": 1,
     "metadata": {},
     "output_type": "execute_result"
    }
   ],
   "source": [
    "import os\n",
    "\n",
    "\n",
    "os.chdir(\"../\")\n",
    "\n",
    "\n",
    "os.getcwd()\n"
   ]
  },
  {
   "cell_type": "code",
   "execution_count": null,
   "metadata": {},
   "outputs": [],
   "source": [
    "from classifier.Mylib import myfuncs\n",
    "import pandas as pd\n",
    "import numpy as np\n"
   ]
  },
  {
   "cell_type": "code",
   "execution_count": null,
   "metadata": {},
   "outputs": [
    {
     "data": {
      "text/plain": [
       "(317960, 33)"
      ]
     },
     "execution_count": 3,
     "metadata": {},
     "output_type": "execute_result"
    }
   ],
   "source": [
    "data = myfuncs.load_python_object(\n",
    "    \"../artifacts/data_transformation/2/train_features.pkl\"\n",
    ")\n",
    "model = myfuncs.load_python_object(\"../artifacts/model_trainer/LR1/best_model.pkl\")\n",
    "\n",
    "\n",
    "data.shape\n"
   ]
  },
  {
   "cell_type": "code",
   "execution_count": null,
   "metadata": {},
   "outputs": [
    {
     "name": "stdout",
     "output_type": "stream",
     "text": [
      "                                              feature      coef\n",
      "29                                      HadAngina_bin  2.530227\n",
      "27                                      HadStroke_bin  1.050427\n",
      "5                                        Sex_nom_Male  0.788126\n",
      "7                                 HadDiabetes_nom_Yes  0.406335\n",
      "12                                        HadCOPD_bin  0.303849\n",
      "9            TetanusLast10Tdap_nom_Yes, received Tdap  0.301558\n",
      "14                                  GeneralHealth_ord  0.296896\n",
      "32                                   HadArthritis_bin  0.242772\n",
      "18                                  PneumoVaxEver_bin  0.234171\n",
      "19                                LastCheckupTime_ord  0.230497\n",
      "24                            DeafOrHardOfHearing_bin  0.209617\n",
      "21                                AlcoholDrinkers_bin  0.194218\n",
      "23                                   SmokerStatus_ord  0.189284\n",
      "31                              DifficultyWalking_bin  0.182672\n",
      "25                        BlindOrVisionDifficulty_bin  0.177750\n",
      "15                               HadKidneyDisease_bin  0.171903\n",
      "6   HadDiabetes_nom_No, pre-diabetes or borderline...  0.126661\n",
      "28                                ECigaretteUsage_ord  0.125361\n",
      "22                             PhysicalActivities_bin  0.120647\n",
      "8   HadDiabetes_nom_Yes, but only during pregnancy...  0.106615\n",
      "10  TetanusLast10Tdap_nom_Yes, received tetanus sh...  0.101410\n",
      "13                                  HadSkinCancer_bin  0.073739\n",
      "26                                      HadAsthma_bin  0.071962\n",
      "20                          HadDepressiveDisorder_bin  0.065933\n",
      "4                               WeightInKilograms_num  0.060572\n",
      "1                                  HeightInMeters_num  0.054701\n",
      "16                                   FluVaxLast12_bin  0.042011\n",
      "3                                MentalHealthDays_num  0.034532\n",
      "11  TetanusLast10Tdap_nom_Yes, received tetanus sh...  0.032067\n",
      "17                        DifficultyConcentrating_bin  0.029095\n",
      "30                              DifficultyErrands_bin  0.014654\n",
      "0                                      SleepHours_num  0.009026\n",
      "2                              PhysicalHealthDays_num  0.002853\n"
     ]
    }
   ],
   "source": [
    "coefs = pd.DataFrame(\n",
    "    data={\"feature\": data.columns.tolist(), \"coef\": np.abs(model.coef_[0])}\n",
    ")\n",
    "coefs = coefs.sort_values(by=\"coef\", ascending=False)\n",
    "print(coefs)\n"
   ]
  },
  {
   "cell_type": "code",
   "execution_count": null,
   "metadata": {},
   "outputs": [
    {
     "data": {
      "text/plain": [
       "['HadSkinCancer_bin',\n",
       " 'HadAsthma_bin',\n",
       " 'HadDepressiveDisorder_bin',\n",
       " 'WeightInKilograms_num',\n",
       " 'HeightInMeters_num',\n",
       " 'FluVaxLast12_bin',\n",
       " 'MentalHealthDays_num',\n",
       " 'TetanusLast10Tdap_nom_Yes, received tetanus shot, but not Tdap',\n",
       " 'DifficultyConcentrating_bin',\n",
       " 'DifficultyErrands_bin',\n",
       " 'SleepHours_num',\n",
       " 'PhysicalHealthDays_num']"
      ]
     },
     "execution_count": 8,
     "metadata": {},
     "output_type": "execute_result"
    }
   ],
   "source": [
    "coefs[\"feature\"][coefs[\"coef\"] < 0.1].tolist()\n"
   ]
  },
  {
   "cell_type": "code",
   "execution_count": null,
   "metadata": {},
   "outputs": [
    {
     "data": {
      "text/plain": [
       "42"
      ]
     },
     "execution_count": 7,
     "metadata": {},
     "output_type": "execute_result"
    }
   ],
   "source": [
    "len(data.columns)\n"
   ]
  },
  {
   "cell_type": "code",
   "execution_count": null,
   "metadata": {},
   "outputs": [
    {
     "data": {
      "text/plain": [
       "0         No\n",
       "1         No\n",
       "2         No\n",
       "3         No\n",
       "4        Yes\n",
       "        ... \n",
       "53478    Yes\n",
       "53479    Yes\n",
       "53480     No\n",
       "53481    Yes\n",
       "53482     No\n",
       "Name: do_get_Alzheimer, Length: 53483, dtype: object"
      ]
     },
     "execution_count": 6,
     "metadata": {},
     "output_type": "execute_result"
    }
   ],
   "source": [
    "label\n"
   ]
  },
  {
   "cell_type": "code",
   "execution_count": null,
   "metadata": {},
   "outputs": [
    {
     "data": {
      "text/plain": [
       "array([1.0, 0.0], dtype=object)"
      ]
     },
     "execution_count": 5,
     "metadata": {},
     "output_type": "execute_result"
    }
   ],
   "source": [
    "data[\"do_get_Hypertension_bin\"].unique()\n"
   ]
  },
  {
   "cell_type": "code",
   "execution_count": null,
   "metadata": {},
   "outputs": [
    {
     "data": {
      "text/plain": [
       "0    0.0\n",
       "1    0.0\n",
       "2    0.0\n",
       "3    0.0\n",
       "4    1.0\n",
       "Name: do_get_Alzheimer, dtype: float64"
      ]
     },
     "execution_count": 4,
     "metadata": {},
     "output_type": "execute_result"
    }
   ],
   "source": [
    "data1 = myfuncs.load_python_object(\n",
    "    \"../artifacts/data_transformation_37/train_target.pkl\"\n",
    ")\n",
    "\n",
    "data1.head()\n"
   ]
  },
  {
   "cell_type": "code",
   "execution_count": null,
   "metadata": {},
   "outputs": [
    {
     "data": {
      "text/plain": [
       "[array(['No', 'Yes'], dtype=object)]"
      ]
     },
     "execution_count": 5,
     "metadata": {},
     "output_type": "execute_result"
    }
   ],
   "source": [
    "classes = myfuncs.load_python_object(\"../artifacts/data_transformation_37/classes.pkl\")\n",
    "\n",
    "classes\n"
   ]
  }
 ],
 "metadata": {
  "kernelspec": {
   "display_name": "Python 3",
   "language": "python",
   "name": "python3"
  },
  "language_info": {
   "codemirror_mode": {
    "name": "ipython",
    "version": 3
   },
   "file_extension": ".py",
   "mimetype": "text/x-python",
   "name": "python",
   "nbconvert_exporter": "python",
   "pygments_lexer": "ipython3",
   "version": "3.10.0"
  }
 },
 "nbformat": 4,
 "nbformat_minor": 2
}
