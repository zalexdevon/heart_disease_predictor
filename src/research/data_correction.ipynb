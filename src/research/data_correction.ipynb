{
 "cells": [
  {
   "cell_type": "code",
   "execution_count": 1,
   "metadata": {},
   "outputs": [
    {
     "data": {
      "text/plain": [
       "'d:\\\\DA_workspace\\\\heart_disease_predictor\\\\src'"
      ]
     },
     "execution_count": 1,
     "metadata": {},
     "output_type": "execute_result"
    }
   ],
   "source": [
    "import os\n",
    "\n",
    "\n",
    "os.chdir(\"../\")\n",
    "\n",
    "\n",
    "os.getcwd()\n"
   ]
  },
  {
   "cell_type": "code",
   "execution_count": 2,
   "metadata": {},
   "outputs": [],
   "source": [
    "import pandas as pd\n",
    "import numpy as np\n",
    "from classifier.Mylib import myfuncs\n",
    "from sklearn.compose import ColumnTransformer\n",
    "from sklearn.impute import SimpleImputer\n",
    "from sklearn.base import BaseEstimator, TransformerMixin\n",
    "from sklearn.model_selection import train_test_split\n"
   ]
  },
  {
   "cell_type": "markdown",
   "metadata": {},
   "source": [
    "Doc du lieu\n"
   ]
  },
  {
   "cell_type": "code",
   "execution_count": 3,
   "metadata": {},
   "outputs": [
    {
     "data": {
      "application/vnd.microsoft.datawrangler.viewer.v0+json": {
       "columns": [
        {
         "name": "index",
         "rawType": "int64",
         "type": "integer"
        },
        {
         "name": "State",
         "rawType": "object",
         "type": "string"
        },
        {
         "name": "Sex",
         "rawType": "object",
         "type": "string"
        },
        {
         "name": "GeneralHealth",
         "rawType": "object",
         "type": "string"
        },
        {
         "name": "PhysicalHealthDays",
         "rawType": "float64",
         "type": "float"
        },
        {
         "name": "MentalHealthDays",
         "rawType": "float64",
         "type": "float"
        },
        {
         "name": "LastCheckupTime",
         "rawType": "object",
         "type": "string"
        },
        {
         "name": "PhysicalActivities",
         "rawType": "object",
         "type": "string"
        },
        {
         "name": "SleepHours",
         "rawType": "float64",
         "type": "float"
        },
        {
         "name": "RemovedTeeth",
         "rawType": "object",
         "type": "string"
        },
        {
         "name": "HadHeartAttack",
         "rawType": "object",
         "type": "string"
        },
        {
         "name": "HadAngina",
         "rawType": "object",
         "type": "string"
        },
        {
         "name": "HadStroke",
         "rawType": "object",
         "type": "string"
        },
        {
         "name": "HadAsthma",
         "rawType": "object",
         "type": "string"
        },
        {
         "name": "HadSkinCancer",
         "rawType": "object",
         "type": "string"
        },
        {
         "name": "HadCOPD",
         "rawType": "object",
         "type": "string"
        },
        {
         "name": "HadDepressiveDisorder",
         "rawType": "object",
         "type": "string"
        },
        {
         "name": "HadKidneyDisease",
         "rawType": "object",
         "type": "string"
        },
        {
         "name": "HadArthritis",
         "rawType": "object",
         "type": "string"
        },
        {
         "name": "HadDiabetes",
         "rawType": "object",
         "type": "string"
        },
        {
         "name": "DeafOrHardOfHearing",
         "rawType": "object",
         "type": "string"
        },
        {
         "name": "BlindOrVisionDifficulty",
         "rawType": "object",
         "type": "string"
        },
        {
         "name": "DifficultyConcentrating",
         "rawType": "object",
         "type": "string"
        },
        {
         "name": "DifficultyWalking",
         "rawType": "object",
         "type": "string"
        },
        {
         "name": "DifficultyDressingBathing",
         "rawType": "object",
         "type": "string"
        },
        {
         "name": "DifficultyErrands",
         "rawType": "object",
         "type": "string"
        },
        {
         "name": "SmokerStatus",
         "rawType": "object",
         "type": "string"
        },
        {
         "name": "ECigaretteUsage",
         "rawType": "object",
         "type": "string"
        },
        {
         "name": "ChestScan",
         "rawType": "object",
         "type": "string"
        },
        {
         "name": "RaceEthnicityCategory",
         "rawType": "object",
         "type": "string"
        },
        {
         "name": "AgeCategory",
         "rawType": "object",
         "type": "string"
        },
        {
         "name": "HeightInMeters",
         "rawType": "float64",
         "type": "float"
        },
        {
         "name": "WeightInKilograms",
         "rawType": "float64",
         "type": "float"
        },
        {
         "name": "BMI",
         "rawType": "float64",
         "type": "float"
        },
        {
         "name": "AlcoholDrinkers",
         "rawType": "object",
         "type": "string"
        },
        {
         "name": "HIVTesting",
         "rawType": "object",
         "type": "string"
        },
        {
         "name": "FluVaxLast12",
         "rawType": "object",
         "type": "string"
        },
        {
         "name": "PneumoVaxEver",
         "rawType": "object",
         "type": "string"
        },
        {
         "name": "TetanusLast10Tdap",
         "rawType": "object",
         "type": "string"
        },
        {
         "name": "HighRiskLastYear",
         "rawType": "object",
         "type": "string"
        },
        {
         "name": "CovidPos",
         "rawType": "object",
         "type": "string"
        }
       ],
       "conversionMethod": "pd.DataFrame",
       "ref": "b35a77f5-cadd-4982-b522-0038f82ae944",
       "rows": [
        [
         "0",
         "New York",
         "Male",
         "Poor",
         "0.0",
         "20.0",
         "Within past year (anytime less than 12 months ago)",
         "No",
         "5.0",
         "1 to 5",
         "Yes",
         "Yes",
         "Yes",
         "No",
         "No",
         "No",
         "Yes",
         "No",
         "Yes",
         "No",
         "Yes",
         "No",
         "No",
         "Yes",
         "No",
         "No",
         "Former smoker",
         "Not at all (right now)",
         "Yes",
         "White only, Non-Hispanic",
         "Age 40 to 44",
         "1.83",
         "113.4",
         "33.91",
         "Yes",
         "Yes",
         "No",
         "No",
         "Yes, received tetanus shot but not sure what type",
         "No",
         "Tested positive using home test without a health professional"
        ],
        [
         "1",
         "Minnesota",
         "Male",
         "Good",
         "0.0",
         "0.0",
         "Within past 2 years (1 year but less than 2 years ago)",
         "Yes",
         "6.0",
         "None of them",
         "No",
         "No",
         "No",
         "No",
         "No",
         "No",
         "No",
         "No",
         "No",
         "No",
         "No",
         "No",
         "No",
         "No",
         "No",
         "No",
         "Never smoked",
         "Use them some days",
         "No",
         "White only, Non-Hispanic",
         "Age 18 to 24",
         "1.8",
         "99.79",
         "30.68",
         "Yes",
         "Yes",
         "No",
         "No",
         "Yes, received tetanus shot but not sure what type",
         "No",
         "Tested positive using home test without a health professional"
        ],
        [
         "2",
         "Ohio",
         "Male",
         "Excellent",
         "0.0",
         "1.0",
         "Within past 2 years (1 year but less than 2 years ago)",
         "Yes",
         "7.0",
         "None of them",
         "No",
         "No",
         "No",
         "No",
         "No",
         "No",
         "No",
         "No",
         "Yes",
         "No",
         "No",
         "No",
         "No",
         "No",
         "No",
         "No",
         "Never smoked",
         "Never used e-cigarettes in my entire life",
         "Yes",
         "White only, Non-Hispanic",
         "Age 70 to 74",
         "1.68",
         "60.78",
         "21.63",
         "Yes",
         "No",
         "Yes",
         "Yes",
         "Yes, received tetanus shot but not sure what type",
         "No",
         "No"
        ],
        [
         "3",
         "Montana",
         "Female",
         "Good",
         "1.0",
         "0.0",
         "Within past year (anytime less than 12 months ago)",
         "Yes",
         "8.0",
         "All",
         "No",
         "No",
         "No",
         "No",
         "No",
         "No",
         "No",
         "Yes",
         "No",
         "Yes",
         "No",
         "No",
         "No",
         "No",
         "No",
         "No",
         "Former smoker",
         "Never used e-cigarettes in my entire life",
         "Yes",
         "White only, Non-Hispanic",
         "Age 75 to 79",
         "1.65",
         "98.88",
         "36.28",
         "Yes",
         "Yes",
         "Yes",
         "Yes",
         "Yes, received tetanus shot but not sure what type",
         "No",
         "No"
        ],
        [
         "4",
         "Minnesota",
         "Female",
         "Fair",
         "2.0",
         "7.0",
         "Within past year (anytime less than 12 months ago)",
         "Yes",
         "6.0",
         "1 to 5",
         "Yes",
         "Yes",
         "Yes",
         "Yes",
         "No",
         "Yes",
         "No",
         "No",
         "Yes",
         "Yes",
         "No",
         "Yes",
         "No",
         "No",
         "No",
         "No",
         "Former smoker",
         "Never used e-cigarettes in my entire life",
         "Yes",
         "White only, Non-Hispanic",
         "Age 65 to 69",
         "1.63",
         "84.82",
         "32.1",
         "No",
         "No",
         "No",
         "Yes",
         "Yes, received tetanus shot, but not Tdap",
         "No",
         "Yes"
        ]
       ],
       "shape": {
        "columns": 40,
        "rows": 5
       }
      },
      "text/html": [
       "<div>\n",
       "<style scoped>\n",
       "    .dataframe tbody tr th:only-of-type {\n",
       "        vertical-align: middle;\n",
       "    }\n",
       "\n",
       "    .dataframe tbody tr th {\n",
       "        vertical-align: top;\n",
       "    }\n",
       "\n",
       "    .dataframe thead th {\n",
       "        text-align: right;\n",
       "    }\n",
       "</style>\n",
       "<table border=\"1\" class=\"dataframe\">\n",
       "  <thead>\n",
       "    <tr style=\"text-align: right;\">\n",
       "      <th></th>\n",
       "      <th>State</th>\n",
       "      <th>Sex</th>\n",
       "      <th>GeneralHealth</th>\n",
       "      <th>PhysicalHealthDays</th>\n",
       "      <th>MentalHealthDays</th>\n",
       "      <th>LastCheckupTime</th>\n",
       "      <th>PhysicalActivities</th>\n",
       "      <th>SleepHours</th>\n",
       "      <th>RemovedTeeth</th>\n",
       "      <th>HadHeartAttack</th>\n",
       "      <th>...</th>\n",
       "      <th>HeightInMeters</th>\n",
       "      <th>WeightInKilograms</th>\n",
       "      <th>BMI</th>\n",
       "      <th>AlcoholDrinkers</th>\n",
       "      <th>HIVTesting</th>\n",
       "      <th>FluVaxLast12</th>\n",
       "      <th>PneumoVaxEver</th>\n",
       "      <th>TetanusLast10Tdap</th>\n",
       "      <th>HighRiskLastYear</th>\n",
       "      <th>CovidPos</th>\n",
       "    </tr>\n",
       "  </thead>\n",
       "  <tbody>\n",
       "    <tr>\n",
       "      <th>0</th>\n",
       "      <td>New York</td>\n",
       "      <td>Male</td>\n",
       "      <td>Poor</td>\n",
       "      <td>0.0</td>\n",
       "      <td>20.0</td>\n",
       "      <td>Within past year (anytime less than 12 months ...</td>\n",
       "      <td>No</td>\n",
       "      <td>5.0</td>\n",
       "      <td>1 to 5</td>\n",
       "      <td>Yes</td>\n",
       "      <td>...</td>\n",
       "      <td>1.83</td>\n",
       "      <td>113.40</td>\n",
       "      <td>33.91</td>\n",
       "      <td>Yes</td>\n",
       "      <td>Yes</td>\n",
       "      <td>No</td>\n",
       "      <td>No</td>\n",
       "      <td>Yes, received tetanus shot but not sure what type</td>\n",
       "      <td>No</td>\n",
       "      <td>Tested positive using home test without a heal...</td>\n",
       "    </tr>\n",
       "    <tr>\n",
       "      <th>1</th>\n",
       "      <td>Minnesota</td>\n",
       "      <td>Male</td>\n",
       "      <td>Good</td>\n",
       "      <td>0.0</td>\n",
       "      <td>0.0</td>\n",
       "      <td>Within past 2 years (1 year but less than 2 ye...</td>\n",
       "      <td>Yes</td>\n",
       "      <td>6.0</td>\n",
       "      <td>None of them</td>\n",
       "      <td>No</td>\n",
       "      <td>...</td>\n",
       "      <td>1.80</td>\n",
       "      <td>99.79</td>\n",
       "      <td>30.68</td>\n",
       "      <td>Yes</td>\n",
       "      <td>Yes</td>\n",
       "      <td>No</td>\n",
       "      <td>No</td>\n",
       "      <td>Yes, received tetanus shot but not sure what type</td>\n",
       "      <td>No</td>\n",
       "      <td>Tested positive using home test without a heal...</td>\n",
       "    </tr>\n",
       "    <tr>\n",
       "      <th>2</th>\n",
       "      <td>Ohio</td>\n",
       "      <td>Male</td>\n",
       "      <td>Excellent</td>\n",
       "      <td>0.0</td>\n",
       "      <td>1.0</td>\n",
       "      <td>Within past 2 years (1 year but less than 2 ye...</td>\n",
       "      <td>Yes</td>\n",
       "      <td>7.0</td>\n",
       "      <td>None of them</td>\n",
       "      <td>No</td>\n",
       "      <td>...</td>\n",
       "      <td>1.68</td>\n",
       "      <td>60.78</td>\n",
       "      <td>21.63</td>\n",
       "      <td>Yes</td>\n",
       "      <td>No</td>\n",
       "      <td>Yes</td>\n",
       "      <td>Yes</td>\n",
       "      <td>Yes, received tetanus shot but not sure what type</td>\n",
       "      <td>No</td>\n",
       "      <td>No</td>\n",
       "    </tr>\n",
       "    <tr>\n",
       "      <th>3</th>\n",
       "      <td>Montana</td>\n",
       "      <td>Female</td>\n",
       "      <td>Good</td>\n",
       "      <td>1.0</td>\n",
       "      <td>0.0</td>\n",
       "      <td>Within past year (anytime less than 12 months ...</td>\n",
       "      <td>Yes</td>\n",
       "      <td>8.0</td>\n",
       "      <td>All</td>\n",
       "      <td>No</td>\n",
       "      <td>...</td>\n",
       "      <td>1.65</td>\n",
       "      <td>98.88</td>\n",
       "      <td>36.28</td>\n",
       "      <td>Yes</td>\n",
       "      <td>Yes</td>\n",
       "      <td>Yes</td>\n",
       "      <td>Yes</td>\n",
       "      <td>Yes, received tetanus shot but not sure what type</td>\n",
       "      <td>No</td>\n",
       "      <td>No</td>\n",
       "    </tr>\n",
       "    <tr>\n",
       "      <th>4</th>\n",
       "      <td>Minnesota</td>\n",
       "      <td>Female</td>\n",
       "      <td>Fair</td>\n",
       "      <td>2.0</td>\n",
       "      <td>7.0</td>\n",
       "      <td>Within past year (anytime less than 12 months ...</td>\n",
       "      <td>Yes</td>\n",
       "      <td>6.0</td>\n",
       "      <td>1 to 5</td>\n",
       "      <td>Yes</td>\n",
       "      <td>...</td>\n",
       "      <td>1.63</td>\n",
       "      <td>84.82</td>\n",
       "      <td>32.10</td>\n",
       "      <td>No</td>\n",
       "      <td>No</td>\n",
       "      <td>No</td>\n",
       "      <td>Yes</td>\n",
       "      <td>Yes, received tetanus shot, but not Tdap</td>\n",
       "      <td>No</td>\n",
       "      <td>Yes</td>\n",
       "    </tr>\n",
       "  </tbody>\n",
       "</table>\n",
       "<p>5 rows × 40 columns</p>\n",
       "</div>"
      ],
      "text/plain": [
       "       State     Sex GeneralHealth  PhysicalHealthDays  MentalHealthDays  \\\n",
       "0   New York    Male          Poor                 0.0              20.0   \n",
       "1  Minnesota    Male          Good                 0.0               0.0   \n",
       "2       Ohio    Male     Excellent                 0.0               1.0   \n",
       "3    Montana  Female          Good                 1.0               0.0   \n",
       "4  Minnesota  Female          Fair                 2.0               7.0   \n",
       "\n",
       "                                     LastCheckupTime PhysicalActivities  \\\n",
       "0  Within past year (anytime less than 12 months ...                 No   \n",
       "1  Within past 2 years (1 year but less than 2 ye...                Yes   \n",
       "2  Within past 2 years (1 year but less than 2 ye...                Yes   \n",
       "3  Within past year (anytime less than 12 months ...                Yes   \n",
       "4  Within past year (anytime less than 12 months ...                Yes   \n",
       "\n",
       "   SleepHours  RemovedTeeth HadHeartAttack  ... HeightInMeters  \\\n",
       "0         5.0        1 to 5            Yes  ...           1.83   \n",
       "1         6.0  None of them             No  ...           1.80   \n",
       "2         7.0  None of them             No  ...           1.68   \n",
       "3         8.0           All             No  ...           1.65   \n",
       "4         6.0        1 to 5            Yes  ...           1.63   \n",
       "\n",
       "  WeightInKilograms    BMI AlcoholDrinkers HIVTesting FluVaxLast12  \\\n",
       "0            113.40  33.91             Yes        Yes           No   \n",
       "1             99.79  30.68             Yes        Yes           No   \n",
       "2             60.78  21.63             Yes         No          Yes   \n",
       "3             98.88  36.28             Yes        Yes          Yes   \n",
       "4             84.82  32.10              No         No           No   \n",
       "\n",
       "  PneumoVaxEver                                  TetanusLast10Tdap  \\\n",
       "0            No  Yes, received tetanus shot but not sure what type   \n",
       "1            No  Yes, received tetanus shot but not sure what type   \n",
       "2           Yes  Yes, received tetanus shot but not sure what type   \n",
       "3           Yes  Yes, received tetanus shot but not sure what type   \n",
       "4           Yes           Yes, received tetanus shot, but not Tdap   \n",
       "\n",
       "  HighRiskLastYear                                           CovidPos  \n",
       "0               No  Tested positive using home test without a heal...  \n",
       "1               No  Tested positive using home test without a heal...  \n",
       "2               No                                                 No  \n",
       "3               No                                                 No  \n",
       "4               No                                                Yes  \n",
       "\n",
       "[5 rows x 40 columns]"
      ]
     },
     "execution_count": 3,
     "metadata": {},
     "output_type": "execute_result"
    }
   ],
   "source": [
    "df = myfuncs.load_python_object(\"../artifacts/data_ingestion/train_data.pkl\")\n",
    "\n",
    "df.head()\n"
   ]
  },
  {
   "cell_type": "markdown",
   "metadata": {},
   "source": [
    "Kich thuoc\n"
   ]
  },
  {
   "cell_type": "code",
   "execution_count": 4,
   "metadata": {},
   "outputs": [
    {
     "data": {
      "text/plain": [
       "(397860, 40)"
      ]
     },
     "execution_count": 4,
     "metadata": {},
     "output_type": "execute_result"
    }
   ],
   "source": [
    "df.shape\n"
   ]
  },
  {
   "cell_type": "markdown",
   "metadata": {},
   "source": [
    "Ti le missing cac cot\n"
   ]
  },
  {
   "cell_type": "code",
   "execution_count": 7,
   "metadata": {},
   "outputs": [
    {
     "data": {
      "text/plain": [
       "TetanusLast10Tdap            18.452471\n",
       "PneumoVaxEver                17.230936\n",
       "HIVTesting                   14.773036\n",
       "ChestScan                    12.505907\n",
       "CovidPos                     11.323078\n",
       "HighRiskLastYear             11.297190\n",
       "BMI                          10.882220\n",
       "FluVaxLast12                 10.501935\n",
       "AlcoholDrinkers              10.371990\n",
       "WeightInKilograms             9.376414\n",
       "ECigaretteUsage               7.940230\n",
       "SmokerStatus                  7.887699\n",
       "HeightInMeters                6.370080\n",
       "DifficultyErrands             5.692706\n",
       "DifficultyConcentrating       5.369477\n",
       "DifficultyWalking             5.324235\n",
       "DifficultyDressingBathing     5.303876\n",
       "BlindOrVisionDifficulty       4.787362\n",
       "DeafOrHardOfHearing           4.579249\n",
       "RaceEthnicityCategory         3.100588\n",
       "RemovedTeeth                  2.499623\n",
       "PhysicalHealthDays            2.392299\n",
       "AgeCategory                   2.001709\n",
       "MentalHealthDays              1.984869\n",
       "LastCheckupTime               1.818479\n",
       "SleepHours                    1.174785\n",
       "HadAngina                     0.812597\n",
       "HadSkinCancer                 0.629116\n",
       "HadDepressiveDisorder         0.543156\n",
       "HadArthritis                  0.524054\n",
       "HadCOPD                       0.412959\n",
       "HadKidneyDisease              0.366712\n",
       "HadAsthma                     0.322475\n",
       "GeneralHealth                 0.248580\n",
       "HadStroke                     0.237521\n",
       "PhysicalActivities            0.219424\n",
       "HadDiabetes                   0.180465\n",
       "HadHeartAttack                0.000000\n",
       "Sex                           0.000000\n",
       "State                         0.000000\n",
       "dtype: float64"
      ]
     },
     "execution_count": 7,
     "metadata": {},
     "output_type": "execute_result"
    }
   ],
   "source": [
    "null_percent =  df.isnull().mean() * 100\n",
    "null_percent = null_percent.sort_values(ascending=False)\n",
    "null_percent\n"
   ]
  },
  {
   "cell_type": "markdown",
   "metadata": {},
   "source": [
    "Ti le missing cua cot ma lon nhat la nho hon 19% nen Khong xoa cot nao het !\n"
   ]
  },
  {
   "cell_type": "markdown",
   "metadata": {},
   "source": [
    "Kich thuoc con lai\n"
   ]
  },
  {
   "cell_type": "code",
   "execution_count": 8,
   "metadata": {},
   "outputs": [
    {
     "data": {
      "text/plain": [
       "(397860, 40)"
      ]
     },
     "execution_count": 8,
     "metadata": {},
     "output_type": "execute_result"
    }
   ],
   "source": [
    "df.shape\n"
   ]
  },
  {
   "cell_type": "code",
   "execution_count": 23,
   "metadata": {},
   "outputs": [
    {
     "data": {
      "text/plain": [
       "array(['Yes, received tetanus shot but not sure what type',\n",
       "       'Yes, received tetanus shot, but not Tdap', nan,\n",
       "       'No, did not receive any tetanus shot in the past 10 years',\n",
       "       'Yes, received Tdap'], dtype=object)"
      ]
     },
     "execution_count": 23,
     "metadata": {},
     "output_type": "execute_result"
    }
   ],
   "source": [
    "df['TetanusLast10Tdap'].unique()\n"
   ]
  },
  {
   "cell_type": "markdown",
   "metadata": {},
   "source": [
    "Y nghia cac cot\n",
    "\n",
    "| Cot                       | Y nghia                                                               | Don vi | Phan loai |\n",
    "| ------------------------- | --------------------------------------------------------------------- | ------ | --------- |\n",
    "| State                     | bang                                                                  | none   | Nominal   |\n",
    "| Sex                       | gioi tinh                                                             | none   | Nominal   |\n",
    "| GeneralHealth             | suc khoe chung                                                        | none   | ordinal   |\n",
    "| PhysicalHealthDays        | so ngay gap van de the chat                                           | none   | numeric   |\n",
    "| MentalHealthDays          | so ngay gap van de tinh than                                          | none   | numeric   |\n",
    "| LastCheckupTime           | lan cuoi di kham suc khoe                                             | none   | ordinal   |\n",
    "| PhysicalActivities        | co tham gia hoat dong the chat khong                                  | none   | binary    |\n",
    "| SleepHours                | gio ngu trong 1 ngay                                                  | none   | numeric   |\n",
    "| RemovedTeeth              | so rang da bi loai bo                                                 | none   | nominal   |\n",
    "| **HadHeartAttack**        | co bi heart attack khong                                              | none   | binary    |\n",
    "| HadAngina                 | co bi đau thắt ngực                                                   | none   | binary    |\n",
    "| HadStroke                 | co bi đột quỵ                                                         | none   | binary    |\n",
    "| HadAsthma                 | co bi hen suyen khong                                                 | none   | binary    |\n",
    "| HadSkinCancer             | co bi ung thu da khong                                                | none   | binary    |\n",
    "| HadCOPD                   | co bi Bệnh phổi tắc nghẽn mãn tính                                    | none   | binary    |\n",
    "| HadDepressiveDisorder     | co bi roi loan tam than khong                                         | none   | binary    |\n",
    "| HadKidneyDisease          | co bi benh than khong                                                 | none   | binary    |\n",
    "| HadArthritis              | co bi viêm khớp khong                                                 | none   | binary    |\n",
    "| HadDiabetes               | co bi tieu duong khong                                                | none   | binary    |\n",
    "| DeafOrHardOfHearing       | co bi chung kho nghe khong                                            | none   | binary    |\n",
    "| BlindOrVisionDifficulty   | co bi chung kho nhin khong                                            | none   | binary    |\n",
    "| DifficultyConcentrating   | co bi chung kho tap trung khong                                       | none   | binary    |\n",
    "| DifficultyWalking         | co bi chung kho di lai khong                                          | none   | binary    |\n",
    "| DifficultyDressingBathing | co bi gap kho khan trong viec thay do hay tam rua khong               | none   | binary    |\n",
    "| DifficultyErrands         | co bi gap kho khan trong viec thuc hien cac cong viec hang ngay khong | none   | binary    |\n",
    "| SmokerStatus              | muc do hut thuoc truyen thong                                         | none   | ordinal   |\n",
    "| ECigaretteUsage           | muc do hut thuoc la dien tu                                           | none   | ordinal   |\n",
    "| _ChestScan_               |                                                                       | none   | remove    |\n",
    "| _RaceEthnicityCategory_   | chung toc                                                             | none   | remove    |\n",
    "| AgeCategory               | pham vi tuoi                                                          | none   | nominal   |\n",
    "| HeightInMeters            | chieu cao                                                             | m      | numeric   |\n",
    "| WeightInKilograms         | can nang                                                              | kg     | numeric   |\n",
    "| _BMI_                     | chi so BMI                                                            | none   | remove    |\n",
    "| AlcoholDrinkers           | co uong ruou khong                                                    | none   | binary    |\n",
    "| _HIVTesting_              |                                                                       | none   | remove    |\n",
    "| FluVaxLast12              | đã tiêm vắc xin phòng cúm trong 12 tháng qua hay không.               | none   | binary    |\n",
    "| PneumoVaxEver             | đã từng tiêm vắc xin phòng phổi (Pneumococcal vaccine) hay chưa       | none   | binary    |\n",
    "| TetanusLast10Tdap         | muc do tiêm vắc xin phòng uốn ván trong 10 nam qua                    | none   | nominal   |\n",
    "| _HighRiskLastYear_        |                                                                       | none   | remove    |\n",
    "| _CovidPos_                |                                                                       | none   | remove    |\n",
    "\n",
    "PhysicalHealthDays: vd: Nếu một người báo cáo rằng trong 30 ngày qua, họ đã có 5 ngày bị ảnh hưởng bởi cơn đau lưng và không thể hoạt động bình thường, thì giá trị trong cột PhysicalHealthDays la 5.\n",
    "\n",
    "MentalHealthDays: vd: Nếu một người báo cáo rằng trong 30 ngày qua, họ đã có 5 ngày bị ảnh hưởng bởi tinh than và khong co cam xuc binh thuong, thì giá trị trong cột MentalHealthDays la 5.\n",
    "\n",
    "Cong thuc tinh $BMI = canNang / chieuCao^2$ -> cac cot HeightInMeters, WeightInKilograms, BMI can loai bo 1 cot di\n"
   ]
  },
  {
   "cell_type": "markdown",
   "metadata": {},
   "source": [
    "Xoa cac cot khong co y nghia\n"
   ]
  },
  {
   "cell_type": "code",
   "execution_count": 24,
   "metadata": {},
   "outputs": [],
   "source": [
    "df = df.drop(columns = ['ChestScan', 'RaceEthnicityCategory', 'BMI', 'HIVTesting', 'HighRiskLastYear', 'CovidPos'])\n"
   ]
  },
  {
   "cell_type": "markdown",
   "metadata": {},
   "source": [
    "Doi ten cot\n"
   ]
  },
  {
   "cell_type": "code",
   "execution_count": 25,
   "metadata": {},
   "outputs": [
    {
     "data": {
      "text/plain": [
       "Index(['State', 'Sex', 'GeneralHealth', 'PhysicalHealthDays',\n",
       "       'MentalHealthDays', 'LastCheckupTime', 'PhysicalActivities',\n",
       "       'SleepHours', 'RemovedTeeth', 'HadHeartAttack', 'HadAngina',\n",
       "       'HadStroke', 'HadAsthma', 'HadSkinCancer', 'HadCOPD',\n",
       "       'HadDepressiveDisorder', 'HadKidneyDisease', 'HadArthritis',\n",
       "       'HadDiabetes', 'DeafOrHardOfHearing', 'BlindOrVisionDifficulty',\n",
       "       'DifficultyConcentrating', 'DifficultyWalking',\n",
       "       'DifficultyDressingBathing', 'DifficultyErrands', 'SmokerStatus',\n",
       "       'ECigaretteUsage', 'AgeCategory', 'HeightInMeters', 'WeightInKilograms',\n",
       "       'AlcoholDrinkers', 'FluVaxLast12', 'PneumoVaxEver',\n",
       "       'TetanusLast10Tdap'],\n",
       "      dtype='object')"
      ]
     },
     "execution_count": 25,
     "metadata": {},
     "output_type": "execute_result"
    }
   ],
   "source": [
    "df.columns\n"
   ]
  },
  {
   "cell_type": "code",
   "execution_count": null,
   "metadata": {},
   "outputs": [
    {
     "data": {
      "text/html": [
       "<div>\n",
       "<style scoped>\n",
       "    .dataframe tbody tr th:only-of-type {\n",
       "        vertical-align: middle;\n",
       "    }\n",
       "\n",
       "    .dataframe tbody tr th {\n",
       "        vertical-align: top;\n",
       "    }\n",
       "\n",
       "    .dataframe thead th {\n",
       "        text-align: right;\n",
       "    }\n",
       "</style>\n",
       "<table border=\"1\" class=\"dataframe\">\n",
       "  <thead>\n",
       "    <tr style=\"text-align: right;\">\n",
       "      <th></th>\n",
       "      <th>Country</th>\n",
       "      <th>Age</th>\n",
       "      <th>Gender</th>\n",
       "      <th>Education_Level</th>\n",
       "      <th>BMI</th>\n",
       "      <th>Physical_Activity_Level</th>\n",
       "      <th>Smoking_Status_level</th>\n",
       "      <th>Alcohol_Consumption_Level</th>\n",
       "      <th>do_get_Diabetes</th>\n",
       "      <th>do_get_Hypertension</th>\n",
       "      <th>...</th>\n",
       "      <th>Diet_level</th>\n",
       "      <th>Air_Pollution_Exposure_level</th>\n",
       "      <th>Employment_Status</th>\n",
       "      <th>Marital_Status</th>\n",
       "      <th>do_get_Genetic_Risk_Factor</th>\n",
       "      <th>Social_Engagement_Level</th>\n",
       "      <th>Income_Level</th>\n",
       "      <th>Stress_Levels</th>\n",
       "      <th>living_place_urban_or_rural</th>\n",
       "      <th>do_get_Alzheimer</th>\n",
       "    </tr>\n",
       "  </thead>\n",
       "  <tbody>\n",
       "    <tr>\n",
       "      <th>0</th>\n",
       "      <td>France</td>\n",
       "      <td>52</td>\n",
       "      <td>Female</td>\n",
       "      <td>6</td>\n",
       "      <td>21.4</td>\n",
       "      <td>High</td>\n",
       "      <td>Current</td>\n",
       "      <td>Occasionally</td>\n",
       "      <td>No</td>\n",
       "      <td>No</td>\n",
       "      <td>...</td>\n",
       "      <td>Healthy</td>\n",
       "      <td>High</td>\n",
       "      <td>Employed</td>\n",
       "      <td>Married</td>\n",
       "      <td>Yes</td>\n",
       "      <td>High</td>\n",
       "      <td>High</td>\n",
       "      <td>High</td>\n",
       "      <td>Rural</td>\n",
       "      <td>Yes</td>\n",
       "    </tr>\n",
       "    <tr>\n",
       "      <th>1</th>\n",
       "      <td>Spain</td>\n",
       "      <td>62</td>\n",
       "      <td>Female</td>\n",
       "      <td>4</td>\n",
       "      <td>28.7</td>\n",
       "      <td>Low</td>\n",
       "      <td>Current</td>\n",
       "      <td>Occasionally</td>\n",
       "      <td>No</td>\n",
       "      <td>Yes</td>\n",
       "      <td>...</td>\n",
       "      <td>Average</td>\n",
       "      <td>High</td>\n",
       "      <td>Employed</td>\n",
       "      <td>Widowed</td>\n",
       "      <td>No</td>\n",
       "      <td>Low</td>\n",
       "      <td>Medium</td>\n",
       "      <td>Medium</td>\n",
       "      <td>Rural</td>\n",
       "      <td>No</td>\n",
       "    </tr>\n",
       "    <tr>\n",
       "      <th>2</th>\n",
       "      <td>Australia</td>\n",
       "      <td>52</td>\n",
       "      <td>Male</td>\n",
       "      <td>19</td>\n",
       "      <td>21.3</td>\n",
       "      <td>Medium</td>\n",
       "      <td>Current</td>\n",
       "      <td>Occasionally</td>\n",
       "      <td>No</td>\n",
       "      <td>No</td>\n",
       "      <td>...</td>\n",
       "      <td>Unhealthy</td>\n",
       "      <td>Medium</td>\n",
       "      <td>Retired</td>\n",
       "      <td>Single</td>\n",
       "      <td>No</td>\n",
       "      <td>High</td>\n",
       "      <td>Medium</td>\n",
       "      <td>Low</td>\n",
       "      <td>Urban</td>\n",
       "      <td>No</td>\n",
       "    </tr>\n",
       "    <tr>\n",
       "      <th>3</th>\n",
       "      <td>Norway</td>\n",
       "      <td>74</td>\n",
       "      <td>Male</td>\n",
       "      <td>15</td>\n",
       "      <td>32.4</td>\n",
       "      <td>Low</td>\n",
       "      <td>Current</td>\n",
       "      <td>Never</td>\n",
       "      <td>No</td>\n",
       "      <td>No</td>\n",
       "      <td>...</td>\n",
       "      <td>Average</td>\n",
       "      <td>Low</td>\n",
       "      <td>Unemployed</td>\n",
       "      <td>Married</td>\n",
       "      <td>No</td>\n",
       "      <td>Low</td>\n",
       "      <td>High</td>\n",
       "      <td>High</td>\n",
       "      <td>Rural</td>\n",
       "      <td>No</td>\n",
       "    </tr>\n",
       "    <tr>\n",
       "      <th>4</th>\n",
       "      <td>Saudi Arabia</td>\n",
       "      <td>94</td>\n",
       "      <td>Female</td>\n",
       "      <td>17</td>\n",
       "      <td>33.9</td>\n",
       "      <td>Low</td>\n",
       "      <td>Former</td>\n",
       "      <td>Regularly</td>\n",
       "      <td>No</td>\n",
       "      <td>Yes</td>\n",
       "      <td>...</td>\n",
       "      <td>Unhealthy</td>\n",
       "      <td>Medium</td>\n",
       "      <td>Retired</td>\n",
       "      <td>Widowed</td>\n",
       "      <td>No</td>\n",
       "      <td>Medium</td>\n",
       "      <td>High</td>\n",
       "      <td>High</td>\n",
       "      <td>Rural</td>\n",
       "      <td>Yes</td>\n",
       "    </tr>\n",
       "  </tbody>\n",
       "</table>\n",
       "<p>5 rows × 25 columns</p>\n",
       "</div>"
      ],
      "text/plain": [
       "        Country  Age  Gender  Education_Level   BMI Physical_Activity_Level  \\\n",
       "0        France   52  Female                6  21.4                    High   \n",
       "1         Spain   62  Female                4  28.7                     Low   \n",
       "2     Australia   52    Male               19  21.3                  Medium   \n",
       "3        Norway   74    Male               15  32.4                     Low   \n",
       "4  Saudi Arabia   94  Female               17  33.9                     Low   \n",
       "\n",
       "  Smoking_Status_level Alcohol_Consumption_Level do_get_Diabetes  \\\n",
       "0              Current              Occasionally              No   \n",
       "1              Current              Occasionally              No   \n",
       "2              Current              Occasionally              No   \n",
       "3              Current                     Never              No   \n",
       "4               Former                 Regularly              No   \n",
       "\n",
       "  do_get_Hypertension  ... Diet_level Air_Pollution_Exposure_level  \\\n",
       "0                  No  ...    Healthy                         High   \n",
       "1                 Yes  ...    Average                         High   \n",
       "2                  No  ...  Unhealthy                       Medium   \n",
       "3                  No  ...    Average                          Low   \n",
       "4                 Yes  ...  Unhealthy                       Medium   \n",
       "\n",
       "   Employment_Status Marital_Status do_get_Genetic_Risk_Factor  \\\n",
       "0           Employed        Married                        Yes   \n",
       "1           Employed        Widowed                         No   \n",
       "2            Retired         Single                         No   \n",
       "3         Unemployed        Married                         No   \n",
       "4            Retired        Widowed                         No   \n",
       "\n",
       "  Social_Engagement_Level Income_Level Stress_Levels  \\\n",
       "0                    High         High          High   \n",
       "1                     Low       Medium        Medium   \n",
       "2                    High       Medium           Low   \n",
       "3                     Low         High          High   \n",
       "4                  Medium         High          High   \n",
       "\n",
       "  living_place_urban_or_rural do_get_Alzheimer  \n",
       "0                       Rural              Yes  \n",
       "1                       Rural               No  \n",
       "2                       Urban               No  \n",
       "3                       Rural               No  \n",
       "4                       Rural              Yes  \n",
       "\n",
       "[5 rows x 25 columns]"
      ]
     },
     "execution_count": 19,
     "metadata": {},
     "output_type": "execute_result"
    }
   ],
   "source": [
    "rename_dict = {\n",
    "    \"State\": \"State_nom\",\n",
    "    \"Sex\": \"Sex_nom\",\n",
    "    \"GeneralHealth\": \"GeneralHealth_ord\",\n",
    "    \"PhysicalHealthDays\": \"PhysicalHealthDays_num\",\n",
    "    \"MentalHealthDays\": \"MentalHealthDays_num\",\n",
    "    \"LastCheckupTime\": \"LastCheckupTime_ord\",\n",
    "    \"LastCheckupTime\": \"LastCheckupTime_ord\",\n",
    "}\n",
    "\n",
    "nnnnnn\n",
    "\n",
    "df = df.rename(columns=rename_dict)\n",
    "\n",
    "df.head()\n"
   ]
  },
  {
   "cell_type": "markdown",
   "metadata": {},
   "source": [
    "chuyen lai ten cot co hau to nhu sau\n",
    "\n",
    "- cot so: num\n",
    "- cot binary: bin\n",
    "- cot nominal: nom\n",
    "- cot ordinal: ord\n",
    "-\n"
   ]
  },
  {
   "cell_type": "code",
   "execution_count": null,
   "metadata": {},
   "outputs": [
    {
     "data": {
      "text/plain": [
       "Index(['Country_nom', 'Age_num', 'Gender_nom', 'Education_Level_num',\n",
       "       'BMI_num', 'Physical_Activity_Level_ord', 'Smoking_Status_level_ord',\n",
       "       'Alcohol_Consumption_Level_ord', 'do_get_Diabetes_bin',\n",
       "       'do_get_Hypertension_bin', 'Cholesterol_Level_ord',\n",
       "       'do_Family_History_bin', 'Cognitive_Test_Score_num',\n",
       "       'Depression_Level_ord', 'Sleep_Quality_Level_ord', 'Diet_level_ord',\n",
       "       'Air_Pollution_Exposure_level_ord', 'Employment_Status_nom',\n",
       "       'Marital_Status_nom', 'do_get_Genetic_Risk_Factor_bin',\n",
       "       'Social_Engagement_Level_ord', 'Income_Level_ord', 'Stress_Levels_ord',\n",
       "       'living_place_urban_or_rural_nom', 'do_get_Alzheimer'],\n",
       "      dtype='object')"
      ]
     },
     "execution_count": 20,
     "metadata": {},
     "output_type": "execute_result"
    }
   ],
   "source": [
    "rename_dict = {\n",
    "    \"Age\": \"Age_num\",\n",
    "    \"Education_Level\": \"Education_Level_num\",\n",
    "    \"BMI\": \"BMI_num\",\n",
    "    \"Cognitive_Test_Score\": \"Cognitive_Test_Score_num\",\n",
    "    \"do_get_Diabetes\": \"do_get_Diabetes_bin\",\n",
    "    \"do_get_Hypertension\": \"do_get_Hypertension_bin\",\n",
    "    \"do_Family_History\": \"do_Family_History_bin\",\n",
    "    \"do_get_Genetic_Risk_Factor\": \"do_get_Genetic_Risk_Factor_bin\",\n",
    "    \"Gender\": \"Gender_nom\",\n",
    "    \"Country\": \"Country_nom\",\n",
    "    \"Employment_Status\": \"Employment_Status_nom\",\n",
    "    \"Marital_Status\": \"Marital_Status_nom\",\n",
    "    \"living_place_urban_or_rural\": \"living_place_urban_or_rural_nom\",\n",
    "    \"Physical_Activity_Level\": \"Physical_Activity_Level_ord\",\n",
    "    \"Smoking_Status_level\": \"Smoking_Status_level_ord\",\n",
    "    \"Alcohol_Consumption_Level\": \"Alcohol_Consumption_Level_ord\",\n",
    "    \"Cholesterol_Level\": \"Cholesterol_Level_ord\",\n",
    "    \"Depression_Level\": \"Depression_Level_ord\",\n",
    "    \"Sleep_Quality_Level\": \"Sleep_Quality_Level_ord\",\n",
    "    \"Diet_level\": \"Diet_level_ord\",\n",
    "    \"Air_Pollution_Exposure_level\": \"Air_Pollution_Exposure_level_ord\",\n",
    "    \"Social_Engagement_Level\": \"Social_Engagement_Level_ord\",\n",
    "    \"Income_Level\": \"Income_Level_ord\",\n",
    "    \"Stress_Levels\": \"Stress_Levels_ord\",\n",
    "    \"Stress_Levels\": \"Stress_Levels_ord\",\n",
    "}\n",
    "\n",
    "df = df.rename(columns=rename_dict)\n",
    "\n",
    "df.columns\n"
   ]
  },
  {
   "cell_type": "code",
   "execution_count": null,
   "metadata": {},
   "outputs": [
    {
     "data": {
      "text/plain": [
       "Index(['Country_nom', 'Age_num', 'Gender_nom', 'Education_Level_num',\n",
       "       'BMI_num', 'Physical_Activity_Level_ord', 'Smoking_Status_level_ord',\n",
       "       'Alcohol_Consumption_Level_ord', 'do_get_Diabetes_bin',\n",
       "       'do_get_Hypertension_bin', 'Cholesterol_Level_ord',\n",
       "       'do_Family_History_bin', 'Cognitive_Test_Score_num',\n",
       "       'Depression_Level_ord', 'Sleep_Quality_Level_ord', 'Diet_level_ord',\n",
       "       'Air_Pollution_Exposure_level_ord', 'Employment_Status_nom',\n",
       "       'Marital_Status_nom', 'do_get_Genetic_Risk_Factor_bin',\n",
       "       'Social_Engagement_Level_ord', 'Income_Level_ord', 'Stress_Levels_ord',\n",
       "       'living_place_urban_or_rural_nom', 'do_get_Alzheimer'],\n",
       "      dtype='object')"
      ]
     },
     "execution_count": 21,
     "metadata": {},
     "output_type": "execute_result"
    }
   ],
   "source": [
    "df.columns\n"
   ]
  },
  {
   "cell_type": "markdown",
   "metadata": {},
   "source": [
    "Y nghia cac cot\n",
    "\n",
    "| Cot                          | Y nghia                                | Don vi | Phan loai |\n",
    "| ---------------------------- | -------------------------------------- | ------ | --------- |\n",
    "| Country                      | Dat nuoc dang song                     | none   | Nominal   |\n",
    "| Age                          | Tuoi                                   | none   | Numeric   |\n",
    "| Gender                       | Gioi tinh                              | none   | Numeric   |\n",
    "| Education_Level              | Muc do hoc van                         | none   | Numeric   |\n",
    "| BMI                          | Chi so BMI (18.5 - 35)                 | none   | Numeric   |\n",
    "| Physical_Activity_Level      | Muc do hoat dong the chat              | none   | Ordinal   |\n",
    "| Smoking_Status_level         | Trang thai hut thuoc                   | none   | Ordinal   |\n",
    "| Alcohol_Consumption_Level    | Tan suat tieu thu ruou                 | none   | Ordinal   |\n",
    "| do_get_Diabetes              | Co bi tieu duong khong                 | none   | binary    |\n",
    "| do_get_Hypertension          | Co bi huyet ap cao khong               | none   | binary    |\n",
    "| Cholesterol_Level            | Muc do Cholesterol                     | none   | ordinal   |\n",
    "| do_Family_History            | Co nguoi nha bi Alzheimer’s khong      | none   | binary    |\n",
    "| Cognitive_Test_Score         | Diem kiem tra tu duy                   | none   | Numeric   |\n",
    "| Depression_Level             | Muc do tram cam                        | none   | ordinal   |\n",
    "| Sleep_Quality_Level          | Chat luong giac ngu                    | none   | ordinal   |\n",
    "| Diet_level                   | Chat luong bua an                      | none   | ordinal   |\n",
    "| Air_Pollution_Exposure_level | Muc do tiep xuc voi o nhiem khong khi  | none   | ordinal   |\n",
    "| Employment_Status            | Trang thai viec lam hien tai           | none   | nominal   |\n",
    "| Marital_Status               | Trang thai hon nhan                    | none   | nominal   |\n",
    "| do_get_Genetic_Risk_Factor   | Co dinh yeu to di truyen khong         | none   | binary    |\n",
    "| Social_Engagement_Level      | muc do tham gia vao cong tac xa hoi    | none   | ordinal   |\n",
    "| Income_Level                 | muc do thu nhap                        | none   | ordinal   |\n",
    "| Stress_Levels                | muc do stress                          | none   | ordinal   |\n",
    "| living_place_urban_or_rural  | noi song                               | none   | nominal   |\n",
    "| do_get_Alzheimer             | bien muc tieu, co bi Alzheimer’s khong | none   | binary    |\n",
    "\n",
    "Marital_Status = \"Widowed\":có nghĩa là góa, tức là một người đã mất vợ hoặc chồng.\n",
    "\n",
    "**do_get_Alzheimer**\n",
    "\n",
    "- Yes: Co bi Alzheimer\n",
    "- No: Khong bi Alzheimer\n"
   ]
  },
  {
   "cell_type": "markdown",
   "metadata": {},
   "source": [
    "Chuyen cac cot numeric, binary, nominal, ordinal, target ve dung vi tri\n"
   ]
  },
  {
   "cell_type": "code",
   "execution_count": null,
   "metadata": {},
   "outputs": [
    {
     "data": {
      "text/plain": [
       "Index(['Country_nom', 'Age_num', 'Gender_nom', 'Education_Level_num',\n",
       "       'BMI_num', 'Physical_Activity_Level_ord', 'Smoking_Status_level_ord',\n",
       "       'Alcohol_Consumption_Level_ord', 'do_get_Diabetes_bin',\n",
       "       'do_get_Hypertension_bin', 'Cholesterol_Level_ord',\n",
       "       'do_Family_History_bin', 'Cognitive_Test_Score_num',\n",
       "       'Depression_Level_ord', 'Sleep_Quality_Level_ord', 'Diet_level_ord',\n",
       "       'Air_Pollution_Exposure_level_ord', 'Employment_Status_nom',\n",
       "       'Marital_Status_nom', 'do_get_Genetic_Risk_Factor_bin',\n",
       "       'Social_Engagement_Level_ord', 'Income_Level_ord', 'Stress_Levels_ord',\n",
       "       'living_place_urban_or_rural_nom', 'do_get_Alzheimer'],\n",
       "      dtype='object')"
      ]
     },
     "execution_count": 22,
     "metadata": {},
     "output_type": "execute_result"
    }
   ],
   "source": [
    "df.columns\n"
   ]
  },
  {
   "cell_type": "code",
   "execution_count": null,
   "metadata": {},
   "outputs": [
    {
     "data": {
      "text/html": [
       "<div>\n",
       "<style scoped>\n",
       "    .dataframe tbody tr th:only-of-type {\n",
       "        vertical-align: middle;\n",
       "    }\n",
       "\n",
       "    .dataframe tbody tr th {\n",
       "        vertical-align: top;\n",
       "    }\n",
       "\n",
       "    .dataframe thead th {\n",
       "        text-align: right;\n",
       "    }\n",
       "</style>\n",
       "<table border=\"1\" class=\"dataframe\">\n",
       "  <thead>\n",
       "    <tr style=\"text-align: right;\">\n",
       "      <th></th>\n",
       "      <th>Age_num</th>\n",
       "      <th>Education_Level_num</th>\n",
       "      <th>BMI_num</th>\n",
       "      <th>Cognitive_Test_Score_num</th>\n",
       "      <th>do_get_Diabetes_bin</th>\n",
       "      <th>do_get_Hypertension_bin</th>\n",
       "      <th>do_Family_History_bin</th>\n",
       "      <th>do_get_Genetic_Risk_Factor_bin</th>\n",
       "      <th>Country_nom</th>\n",
       "      <th>Gender_nom</th>\n",
       "      <th>...</th>\n",
       "      <th>Alcohol_Consumption_Level_ord</th>\n",
       "      <th>Cholesterol_Level_ord</th>\n",
       "      <th>Depression_Level_ord</th>\n",
       "      <th>Sleep_Quality_Level_ord</th>\n",
       "      <th>Diet_level_ord</th>\n",
       "      <th>Air_Pollution_Exposure_level_ord</th>\n",
       "      <th>Social_Engagement_Level_ord</th>\n",
       "      <th>Income_Level_ord</th>\n",
       "      <th>Stress_Levels_ord</th>\n",
       "      <th>do_get_Alzheimer</th>\n",
       "    </tr>\n",
       "  </thead>\n",
       "  <tbody>\n",
       "    <tr>\n",
       "      <th>0</th>\n",
       "      <td>52</td>\n",
       "      <td>6</td>\n",
       "      <td>21.4</td>\n",
       "      <td>67</td>\n",
       "      <td>No</td>\n",
       "      <td>No</td>\n",
       "      <td>No</td>\n",
       "      <td>Yes</td>\n",
       "      <td>France</td>\n",
       "      <td>Female</td>\n",
       "      <td>...</td>\n",
       "      <td>Occasionally</td>\n",
       "      <td>Normal</td>\n",
       "      <td>Medium</td>\n",
       "      <td>Poor</td>\n",
       "      <td>Healthy</td>\n",
       "      <td>High</td>\n",
       "      <td>High</td>\n",
       "      <td>High</td>\n",
       "      <td>High</td>\n",
       "      <td>Yes</td>\n",
       "    </tr>\n",
       "    <tr>\n",
       "      <th>1</th>\n",
       "      <td>62</td>\n",
       "      <td>4</td>\n",
       "      <td>28.7</td>\n",
       "      <td>73</td>\n",
       "      <td>No</td>\n",
       "      <td>Yes</td>\n",
       "      <td>Yes</td>\n",
       "      <td>No</td>\n",
       "      <td>Spain</td>\n",
       "      <td>Female</td>\n",
       "      <td>...</td>\n",
       "      <td>Occasionally</td>\n",
       "      <td>Normal</td>\n",
       "      <td>Low</td>\n",
       "      <td>Good</td>\n",
       "      <td>Average</td>\n",
       "      <td>High</td>\n",
       "      <td>Low</td>\n",
       "      <td>Medium</td>\n",
       "      <td>Medium</td>\n",
       "      <td>No</td>\n",
       "    </tr>\n",
       "    <tr>\n",
       "      <th>2</th>\n",
       "      <td>52</td>\n",
       "      <td>19</td>\n",
       "      <td>21.3</td>\n",
       "      <td>91</td>\n",
       "      <td>No</td>\n",
       "      <td>No</td>\n",
       "      <td>No</td>\n",
       "      <td>No</td>\n",
       "      <td>Australia</td>\n",
       "      <td>Male</td>\n",
       "      <td>...</td>\n",
       "      <td>Occasionally</td>\n",
       "      <td>High</td>\n",
       "      <td>Low</td>\n",
       "      <td>Good</td>\n",
       "      <td>Unhealthy</td>\n",
       "      <td>Medium</td>\n",
       "      <td>High</td>\n",
       "      <td>Medium</td>\n",
       "      <td>Low</td>\n",
       "      <td>No</td>\n",
       "    </tr>\n",
       "    <tr>\n",
       "      <th>3</th>\n",
       "      <td>74</td>\n",
       "      <td>15</td>\n",
       "      <td>32.4</td>\n",
       "      <td>70</td>\n",
       "      <td>No</td>\n",
       "      <td>No</td>\n",
       "      <td>No</td>\n",
       "      <td>No</td>\n",
       "      <td>Norway</td>\n",
       "      <td>Male</td>\n",
       "      <td>...</td>\n",
       "      <td>Never</td>\n",
       "      <td>Normal</td>\n",
       "      <td>Medium</td>\n",
       "      <td>Average</td>\n",
       "      <td>Average</td>\n",
       "      <td>Low</td>\n",
       "      <td>Low</td>\n",
       "      <td>High</td>\n",
       "      <td>High</td>\n",
       "      <td>No</td>\n",
       "    </tr>\n",
       "    <tr>\n",
       "      <th>4</th>\n",
       "      <td>94</td>\n",
       "      <td>17</td>\n",
       "      <td>33.9</td>\n",
       "      <td>76</td>\n",
       "      <td>No</td>\n",
       "      <td>Yes</td>\n",
       "      <td>Yes</td>\n",
       "      <td>No</td>\n",
       "      <td>Saudi Arabia</td>\n",
       "      <td>Female</td>\n",
       "      <td>...</td>\n",
       "      <td>Regularly</td>\n",
       "      <td>High</td>\n",
       "      <td>Medium</td>\n",
       "      <td>Good</td>\n",
       "      <td>Unhealthy</td>\n",
       "      <td>Medium</td>\n",
       "      <td>Medium</td>\n",
       "      <td>High</td>\n",
       "      <td>High</td>\n",
       "      <td>Yes</td>\n",
       "    </tr>\n",
       "  </tbody>\n",
       "</table>\n",
       "<p>5 rows × 25 columns</p>\n",
       "</div>"
      ],
      "text/plain": [
       "   Age_num  Education_Level_num  BMI_num  Cognitive_Test_Score_num  \\\n",
       "0       52                    6     21.4                        67   \n",
       "1       62                    4     28.7                        73   \n",
       "2       52                   19     21.3                        91   \n",
       "3       74                   15     32.4                        70   \n",
       "4       94                   17     33.9                        76   \n",
       "\n",
       "  do_get_Diabetes_bin do_get_Hypertension_bin do_Family_History_bin  \\\n",
       "0                  No                      No                    No   \n",
       "1                  No                     Yes                   Yes   \n",
       "2                  No                      No                    No   \n",
       "3                  No                      No                    No   \n",
       "4                  No                     Yes                   Yes   \n",
       "\n",
       "  do_get_Genetic_Risk_Factor_bin   Country_nom Gender_nom  ...  \\\n",
       "0                            Yes        France     Female  ...   \n",
       "1                             No         Spain     Female  ...   \n",
       "2                             No     Australia       Male  ...   \n",
       "3                             No        Norway       Male  ...   \n",
       "4                             No  Saudi Arabia     Female  ...   \n",
       "\n",
       "  Alcohol_Consumption_Level_ord Cholesterol_Level_ord Depression_Level_ord  \\\n",
       "0                  Occasionally                Normal               Medium   \n",
       "1                  Occasionally                Normal                  Low   \n",
       "2                  Occasionally                  High                  Low   \n",
       "3                         Never                Normal               Medium   \n",
       "4                     Regularly                  High               Medium   \n",
       "\n",
       "  Sleep_Quality_Level_ord Diet_level_ord Air_Pollution_Exposure_level_ord  \\\n",
       "0                    Poor        Healthy                             High   \n",
       "1                    Good        Average                             High   \n",
       "2                    Good      Unhealthy                           Medium   \n",
       "3                 Average        Average                              Low   \n",
       "4                    Good      Unhealthy                           Medium   \n",
       "\n",
       "  Social_Engagement_Level_ord Income_Level_ord Stress_Levels_ord  \\\n",
       "0                        High             High              High   \n",
       "1                         Low           Medium            Medium   \n",
       "2                        High           Medium               Low   \n",
       "3                         Low             High              High   \n",
       "4                      Medium             High              High   \n",
       "\n",
       "  do_get_Alzheimer  \n",
       "0              Yes  \n",
       "1               No  \n",
       "2               No  \n",
       "3               No  \n",
       "4              Yes  \n",
       "\n",
       "[5 rows x 25 columns]"
      ]
     },
     "execution_count": 24,
     "metadata": {},
     "output_type": "execute_result"
    }
   ],
   "source": [
    "cols = pd.Series(df.columns)\n",
    "numeric_cols = cols[cols.str.endswith(\"num\")].tolist()\n",
    "binary_cols = cols[cols.str.endswith(\"bin\")].tolist()\n",
    "nominal_cols = cols[cols.str.endswith(\"nom\")].tolist()\n",
    "ordinal_cols = cols[cols.str.endswith(\"ord\")].tolist()\n",
    "\n",
    "target_col = \"do_get_Alzheimer\"\n",
    "\n",
    "\n",
    "\n",
    "df = df[numeric_cols + binary_cols + nominal_cols + ordinal_cols + [target_col]]\n",
    "\n",
    "\n",
    "\n",
    "df.head()\n"
   ]
  },
  {
   "cell_type": "markdown",
   "metadata": {},
   "source": [
    "Kiem tra kieu du lieu cac cot\n"
   ]
  },
  {
   "cell_type": "code",
   "execution_count": null,
   "metadata": {},
   "outputs": [
    {
     "name": "stdout",
     "output_type": "stream",
     "text": [
      "<class 'pandas.core.frame.DataFrame'>\n",
      "RangeIndex: 66854 entries, 0 to 66853\n",
      "Data columns (total 25 columns):\n",
      " #   Column                            Non-Null Count  Dtype  \n",
      "---  ------                            --------------  -----  \n",
      " 0   Age_num                           66854 non-null  int64  \n",
      " 1   Education_Level_num               66854 non-null  int64  \n",
      " 2   BMI_num                           66854 non-null  float64\n",
      " 3   Cognitive_Test_Score_num          66854 non-null  int64  \n",
      " 4   do_get_Diabetes_bin               66854 non-null  object \n",
      " 5   do_get_Hypertension_bin           66854 non-null  object \n",
      " 6   do_Family_History_bin             66854 non-null  object \n",
      " 7   do_get_Genetic_Risk_Factor_bin    66854 non-null  object \n",
      " 8   Country_nom                       66854 non-null  object \n",
      " 9   Gender_nom                        66854 non-null  object \n",
      " 10  Employment_Status_nom             66854 non-null  object \n",
      " 11  Marital_Status_nom                66854 non-null  object \n",
      " 12  living_place_urban_or_rural_nom   66854 non-null  object \n",
      " 13  Physical_Activity_Level_ord       66854 non-null  object \n",
      " 14  Smoking_Status_level_ord          66854 non-null  object \n",
      " 15  Alcohol_Consumption_Level_ord     66854 non-null  object \n",
      " 16  Cholesterol_Level_ord             66854 non-null  object \n",
      " 17  Depression_Level_ord              66854 non-null  object \n",
      " 18  Sleep_Quality_Level_ord           66854 non-null  object \n",
      " 19  Diet_level_ord                    66854 non-null  object \n",
      " 20  Air_Pollution_Exposure_level_ord  66854 non-null  object \n",
      " 21  Social_Engagement_Level_ord       66854 non-null  object \n",
      " 22  Income_Level_ord                  66854 non-null  object \n",
      " 23  Stress_Levels_ord                 66854 non-null  object \n",
      " 24  do_get_Alzheimer                  66854 non-null  object \n",
      "dtypes: float64(1), int64(3), object(21)\n",
      "memory usage: 12.8+ MB\n"
     ]
    }
   ],
   "source": [
    "df.info()\n"
   ]
  },
  {
   "cell_type": "markdown",
   "metadata": {},
   "source": [
    "DUNG\n",
    "\n",
    "- Age\n",
    "- Education_Level\n",
    "- BMI\n",
    "- Cognitive_Test_Score\n",
    "\n",
    "---\n",
    "\n",
    "SAI\n",
    "|Cot|Hien tai | Phai la|\n",
    "|---|---|---|\n",
    "|do_get_Diabetes | object | int |\n",
    "|do_get_Hypertension | object | int |\n",
    "|do_Family_History | object | int |\n",
    "|do_get_Genetic_Risk_Factor | object | int |\n",
    "|Gender | object | category |\n",
    "|Country | object | category |\n",
    "|Employment_Status | object | category |\n",
    "|Marital_Status | object | category |\n",
    "|living_place_urban_or_rural | object | category |\n",
    "|Physical_Activity_Level | object | category |\n",
    "|Smoking_Status_level | object | category |\n",
    "|Alcohol_Consumption_Level | object | category |\n",
    "|Cholesterol_Level | object | category |\n",
    "|Depression_Level | object | category |\n",
    "|Sleep_Quality_Level | object | category |\n",
    "|Diet_level | object | category |\n",
    "|Air_Pollution_Exposure_level | object | category |\n",
    "|Social_Engagement_Level | object | category |\n",
    "|Income_Level | object | category |\n",
    "|Stress_Levels | object | category |\n",
    "|do_get_Alzheimer | object | category |\n"
   ]
  },
  {
   "cell_type": "markdown",
   "metadata": {},
   "source": [
    "Kiem tra cac cot co kdl = kdlmm + NA\n"
   ]
  },
  {
   "cell_type": "code",
   "execution_count": null,
   "metadata": {},
   "outputs": [
    {
     "data": {
      "text/plain": [
       "{str}"
      ]
     },
     "execution_count": 26,
     "metadata": {},
     "output_type": "execute_result"
    }
   ],
   "source": [
    "set(map(type, df[\"do_get_Diabetes_bin\"]))\n"
   ]
  },
  {
   "cell_type": "code",
   "execution_count": null,
   "metadata": {},
   "outputs": [
    {
     "data": {
      "text/plain": [
       "{str}"
      ]
     },
     "execution_count": 27,
     "metadata": {},
     "output_type": "execute_result"
    }
   ],
   "source": [
    "set(map(type, df[\"do_get_Hypertension_bin\"]))\n"
   ]
  },
  {
   "cell_type": "code",
   "execution_count": null,
   "metadata": {},
   "outputs": [
    {
     "data": {
      "text/plain": [
       "{str}"
      ]
     },
     "execution_count": 28,
     "metadata": {},
     "output_type": "execute_result"
    }
   ],
   "source": [
    "set(map(type, df[\"do_Family_History_bin\"]))\n"
   ]
  },
  {
   "cell_type": "code",
   "execution_count": null,
   "metadata": {},
   "outputs": [
    {
     "data": {
      "text/plain": [
       "{str}"
      ]
     },
     "execution_count": 29,
     "metadata": {},
     "output_type": "execute_result"
    }
   ],
   "source": [
    "set(map(type, df[\"do_get_Genetic_Risk_Factor_bin\"]))\n"
   ]
  },
  {
   "cell_type": "code",
   "execution_count": null,
   "metadata": {},
   "outputs": [
    {
     "data": {
      "text/plain": [
       "{str}"
      ]
     },
     "execution_count": 30,
     "metadata": {},
     "output_type": "execute_result"
    }
   ],
   "source": [
    "set(map(type, df[\"Gender_nom\"]))\n"
   ]
  },
  {
   "cell_type": "code",
   "execution_count": null,
   "metadata": {},
   "outputs": [
    {
     "data": {
      "text/plain": [
       "{str}"
      ]
     },
     "execution_count": 31,
     "metadata": {},
     "output_type": "execute_result"
    }
   ],
   "source": [
    "set(map(type, df[\"Country_nom\"]))\n"
   ]
  },
  {
   "cell_type": "code",
   "execution_count": null,
   "metadata": {},
   "outputs": [
    {
     "data": {
      "text/plain": [
       "{str}"
      ]
     },
     "execution_count": 32,
     "metadata": {},
     "output_type": "execute_result"
    }
   ],
   "source": [
    "set(map(type, df[\"Employment_Status_nom\"]))\n"
   ]
  },
  {
   "cell_type": "code",
   "execution_count": null,
   "metadata": {},
   "outputs": [
    {
     "data": {
      "text/plain": [
       "{str}"
      ]
     },
     "execution_count": 33,
     "metadata": {},
     "output_type": "execute_result"
    }
   ],
   "source": [
    "set(map(type, df[\"Marital_Status_nom\"]))\n"
   ]
  },
  {
   "cell_type": "code",
   "execution_count": null,
   "metadata": {},
   "outputs": [
    {
     "data": {
      "text/plain": [
       "{str}"
      ]
     },
     "execution_count": 34,
     "metadata": {},
     "output_type": "execute_result"
    }
   ],
   "source": [
    "set(map(type, df[\"living_place_urban_or_rural_nom\"]))\n"
   ]
  },
  {
   "cell_type": "code",
   "execution_count": null,
   "metadata": {},
   "outputs": [
    {
     "data": {
      "text/plain": [
       "{str}"
      ]
     },
     "execution_count": 35,
     "metadata": {},
     "output_type": "execute_result"
    }
   ],
   "source": [
    "set(map(type, df[\"Physical_Activity_Level_ord\"]))\n"
   ]
  },
  {
   "cell_type": "code",
   "execution_count": null,
   "metadata": {},
   "outputs": [
    {
     "data": {
      "text/plain": [
       "{str}"
      ]
     },
     "execution_count": 36,
     "metadata": {},
     "output_type": "execute_result"
    }
   ],
   "source": [
    "set(map(type, df[\"Smoking_Status_level_ord\"]))\n"
   ]
  },
  {
   "cell_type": "code",
   "execution_count": null,
   "metadata": {},
   "outputs": [
    {
     "data": {
      "text/plain": [
       "{str}"
      ]
     },
     "execution_count": 37,
     "metadata": {},
     "output_type": "execute_result"
    }
   ],
   "source": [
    "set(map(type, df[\"Alcohol_Consumption_Level_ord\"]))\n"
   ]
  },
  {
   "cell_type": "code",
   "execution_count": null,
   "metadata": {},
   "outputs": [
    {
     "data": {
      "text/plain": [
       "{str}"
      ]
     },
     "execution_count": 38,
     "metadata": {},
     "output_type": "execute_result"
    }
   ],
   "source": [
    "set(map(type, df[\"Cholesterol_Level_ord\"]))\n"
   ]
  },
  {
   "cell_type": "code",
   "execution_count": null,
   "metadata": {},
   "outputs": [
    {
     "data": {
      "text/plain": [
       "{str}"
      ]
     },
     "execution_count": 39,
     "metadata": {},
     "output_type": "execute_result"
    }
   ],
   "source": [
    "set(map(type, df[\"Depression_Level_ord\"]))\n"
   ]
  },
  {
   "cell_type": "code",
   "execution_count": null,
   "metadata": {},
   "outputs": [
    {
     "data": {
      "text/plain": [
       "{str}"
      ]
     },
     "execution_count": 40,
     "metadata": {},
     "output_type": "execute_result"
    }
   ],
   "source": [
    "set(map(type, df[\"Sleep_Quality_Level_ord\"]))\n"
   ]
  },
  {
   "cell_type": "code",
   "execution_count": null,
   "metadata": {},
   "outputs": [
    {
     "data": {
      "text/plain": [
       "{str}"
      ]
     },
     "execution_count": 41,
     "metadata": {},
     "output_type": "execute_result"
    }
   ],
   "source": [
    "set(map(type, df[\"Diet_level_ord\"]))\n"
   ]
  },
  {
   "cell_type": "code",
   "execution_count": null,
   "metadata": {},
   "outputs": [
    {
     "data": {
      "text/plain": [
       "{str}"
      ]
     },
     "execution_count": 42,
     "metadata": {},
     "output_type": "execute_result"
    }
   ],
   "source": [
    "set(map(type, df[\"Air_Pollution_Exposure_level_ord\"]))\n"
   ]
  },
  {
   "cell_type": "code",
   "execution_count": null,
   "metadata": {},
   "outputs": [
    {
     "data": {
      "text/plain": [
       "{str}"
      ]
     },
     "execution_count": 43,
     "metadata": {},
     "output_type": "execute_result"
    }
   ],
   "source": [
    "set(map(type, df[\"Social_Engagement_Level_ord\"]))\n"
   ]
  },
  {
   "cell_type": "code",
   "execution_count": null,
   "metadata": {},
   "outputs": [
    {
     "data": {
      "text/plain": [
       "{str}"
      ]
     },
     "execution_count": 44,
     "metadata": {},
     "output_type": "execute_result"
    }
   ],
   "source": [
    "set(map(type, df[\"Income_Level_ord\"]))\n"
   ]
  },
  {
   "cell_type": "code",
   "execution_count": null,
   "metadata": {},
   "outputs": [
    {
     "data": {
      "text/plain": [
       "{str}"
      ]
     },
     "execution_count": 45,
     "metadata": {},
     "output_type": "execute_result"
    }
   ],
   "source": [
    "set(map(type, df[\"Stress_Levels_ord\"]))\n"
   ]
  },
  {
   "cell_type": "code",
   "execution_count": null,
   "metadata": {},
   "outputs": [
    {
     "data": {
      "text/plain": [
       "{str}"
      ]
     },
     "execution_count": 46,
     "metadata": {},
     "output_type": "execute_result"
    }
   ],
   "source": [
    "set(map(type, df[\"do_get_Alzheimer\"]))\n"
   ]
  },
  {
   "cell_type": "markdown",
   "metadata": {},
   "source": [
    "Kiem tra noi dung cac cot\n",
    "\n",
    "Cot numeric\n"
   ]
  },
  {
   "cell_type": "code",
   "execution_count": null,
   "metadata": {},
   "outputs": [
    {
     "data": {
      "text/html": [
       "<div>\n",
       "<style scoped>\n",
       "    .dataframe tbody tr th:only-of-type {\n",
       "        vertical-align: middle;\n",
       "    }\n",
       "\n",
       "    .dataframe tbody tr th {\n",
       "        vertical-align: top;\n",
       "    }\n",
       "\n",
       "    .dataframe thead th {\n",
       "        text-align: right;\n",
       "    }\n",
       "</style>\n",
       "<table border=\"1\" class=\"dataframe\">\n",
       "  <thead>\n",
       "    <tr style=\"text-align: right;\">\n",
       "      <th></th>\n",
       "      <th>Age_num</th>\n",
       "      <th>Education_Level_num</th>\n",
       "      <th>BMI_num</th>\n",
       "      <th>Cognitive_Test_Score_num</th>\n",
       "    </tr>\n",
       "  </thead>\n",
       "  <tbody>\n",
       "    <tr>\n",
       "      <th>min</th>\n",
       "      <td>50.000000</td>\n",
       "      <td>0.000000</td>\n",
       "      <td>18.500000</td>\n",
       "      <td>30.000000</td>\n",
       "    </tr>\n",
       "    <tr>\n",
       "      <th>max</th>\n",
       "      <td>94.000000</td>\n",
       "      <td>19.000000</td>\n",
       "      <td>35.000000</td>\n",
       "      <td>99.000000</td>\n",
       "    </tr>\n",
       "    <tr>\n",
       "      <th>mean</th>\n",
       "      <td>71.930969</td>\n",
       "      <td>9.489918</td>\n",
       "      <td>26.781271</td>\n",
       "      <td>64.655503</td>\n",
       "    </tr>\n",
       "  </tbody>\n",
       "</table>\n",
       "</div>"
      ],
      "text/plain": [
       "        Age_num  Education_Level_num    BMI_num  Cognitive_Test_Score_num\n",
       "min   50.000000             0.000000  18.500000                 30.000000\n",
       "max   94.000000            19.000000  35.000000                 99.000000\n",
       "mean  71.930969             9.489918  26.781271                 64.655503"
      ]
     },
     "execution_count": 47,
     "metadata": {},
     "output_type": "execute_result"
    }
   ],
   "source": [
    "df[numeric_cols].describe().loc[[\"min\", \"max\", \"mean\"]]\n"
   ]
  },
  {
   "cell_type": "markdown",
   "metadata": {},
   "source": [
    "Cot binary\n"
   ]
  },
  {
   "cell_type": "code",
   "execution_count": null,
   "metadata": {},
   "outputs": [
    {
     "name": "stdout",
     "output_type": "stream",
     "text": [
      "do_get_Diabetes_bin -> ['No', 'Yes']\n",
      "do_get_Hypertension_bin -> ['No', 'Yes']\n",
      "do_Family_History_bin -> ['No', 'Yes']\n",
      "do_get_Genetic_Risk_Factor_bin -> ['Yes', 'No']\n"
     ]
    }
   ],
   "source": [
    "for col in binary_cols:\n",
    "    print(f\"{col} -> {df[col].unique().tolist()}\")\n"
   ]
  },
  {
   "cell_type": "markdown",
   "metadata": {},
   "source": [
    "Cot nominal\n"
   ]
  },
  {
   "cell_type": "code",
   "execution_count": null,
   "metadata": {},
   "outputs": [
    {
     "name": "stdout",
     "output_type": "stream",
     "text": [
      "Country_nom -> ['France', 'Spain', 'Australia', 'Norway', 'Saudi Arabia', 'South Korea', 'Japan', 'Germany', 'Mexico', 'Argentina', 'China', 'USA', 'Brazil', 'Russia', 'Sweden', 'South Africa', 'India', 'Italy', 'UK', 'Canada']\n",
      "Gender_nom -> ['Female', 'Male']\n",
      "Employment_Status_nom -> ['Employed', 'Retired', 'Unemployed']\n",
      "Marital_Status_nom -> ['Married', 'Widowed', 'Single']\n",
      "living_place_urban_or_rural_nom -> ['Rural', 'Urban']\n"
     ]
    }
   ],
   "source": [
    "for col in nominal_cols:\n",
    "    print(f\"{col} -> {df[col].unique().tolist()}\")\n"
   ]
  },
  {
   "cell_type": "markdown",
   "metadata": {},
   "source": [
    "Cot ordinal\n"
   ]
  },
  {
   "cell_type": "code",
   "execution_count": null,
   "metadata": {},
   "outputs": [
    {
     "name": "stdout",
     "output_type": "stream",
     "text": [
      "Physical_Activity_Level_ord -> ['High', 'Low', 'Medium']\n",
      "Smoking_Status_level_ord -> ['Current', 'Former', 'Never']\n",
      "Alcohol_Consumption_Level_ord -> ['Occasionally', 'Never', 'Regularly']\n",
      "Cholesterol_Level_ord -> ['Normal', 'High']\n",
      "Depression_Level_ord -> ['Medium', 'Low', 'High']\n",
      "Sleep_Quality_Level_ord -> ['Poor', 'Good', 'Average']\n",
      "Diet_level_ord -> ['Healthy', 'Average', 'Unhealthy']\n",
      "Air_Pollution_Exposure_level_ord -> ['High', 'Medium', 'Low']\n",
      "Social_Engagement_Level_ord -> ['High', 'Low', 'Medium']\n",
      "Income_Level_ord -> ['High', 'Medium', 'Low']\n",
      "Stress_Levels_ord -> ['High', 'Medium', 'Low']\n"
     ]
    }
   ],
   "source": [
    "for col in ordinal_cols:\n",
    "    print(f\"{col} -> {df[col].unique().tolist()}\")\n"
   ]
  },
  {
   "cell_type": "markdown",
   "metadata": {},
   "source": [
    "Cot target\n"
   ]
  },
  {
   "cell_type": "code",
   "execution_count": null,
   "metadata": {},
   "outputs": [
    {
     "name": "stdout",
     "output_type": "stream",
     "text": [
      "do_get_Alzheimer -> ['Yes', 'No']\n"
     ]
    }
   ],
   "source": [
    "print(f\"{target_col} -> {df[target_col].unique().tolist()}\")\n"
   ]
  },
  {
   "cell_type": "markdown",
   "metadata": {},
   "source": [
    "Fill missing value\n"
   ]
  },
  {
   "cell_type": "code",
   "execution_count": null,
   "metadata": {},
   "outputs": [
    {
     "data": {
      "text/html": [
       "<div>\n",
       "<style scoped>\n",
       "    .dataframe tbody tr th:only-of-type {\n",
       "        vertical-align: middle;\n",
       "    }\n",
       "\n",
       "    .dataframe tbody tr th {\n",
       "        vertical-align: top;\n",
       "    }\n",
       "\n",
       "    .dataframe thead th {\n",
       "        text-align: right;\n",
       "    }\n",
       "</style>\n",
       "<table border=\"1\" class=\"dataframe\">\n",
       "  <thead>\n",
       "    <tr style=\"text-align: right;\">\n",
       "      <th></th>\n",
       "      <th>Age_num</th>\n",
       "      <th>Education_Level_num</th>\n",
       "      <th>BMI_num</th>\n",
       "      <th>Cognitive_Test_Score_num</th>\n",
       "      <th>do_get_Diabetes_bin</th>\n",
       "      <th>do_get_Hypertension_bin</th>\n",
       "      <th>do_Family_History_bin</th>\n",
       "      <th>do_get_Genetic_Risk_Factor_bin</th>\n",
       "      <th>Country_nom</th>\n",
       "      <th>Gender_nom</th>\n",
       "      <th>...</th>\n",
       "      <th>Alcohol_Consumption_Level_ord</th>\n",
       "      <th>Cholesterol_Level_ord</th>\n",
       "      <th>Depression_Level_ord</th>\n",
       "      <th>Sleep_Quality_Level_ord</th>\n",
       "      <th>Diet_level_ord</th>\n",
       "      <th>Air_Pollution_Exposure_level_ord</th>\n",
       "      <th>Social_Engagement_Level_ord</th>\n",
       "      <th>Income_Level_ord</th>\n",
       "      <th>Stress_Levels_ord</th>\n",
       "      <th>do_get_Alzheimer</th>\n",
       "    </tr>\n",
       "  </thead>\n",
       "  <tbody>\n",
       "    <tr>\n",
       "      <th>0</th>\n",
       "      <td>52.0</td>\n",
       "      <td>6.0</td>\n",
       "      <td>21.4</td>\n",
       "      <td>67.0</td>\n",
       "      <td>No</td>\n",
       "      <td>No</td>\n",
       "      <td>No</td>\n",
       "      <td>Yes</td>\n",
       "      <td>France</td>\n",
       "      <td>Female</td>\n",
       "      <td>...</td>\n",
       "      <td>Occasionally</td>\n",
       "      <td>Normal</td>\n",
       "      <td>Medium</td>\n",
       "      <td>Poor</td>\n",
       "      <td>Healthy</td>\n",
       "      <td>High</td>\n",
       "      <td>High</td>\n",
       "      <td>High</td>\n",
       "      <td>High</td>\n",
       "      <td>Yes</td>\n",
       "    </tr>\n",
       "    <tr>\n",
       "      <th>1</th>\n",
       "      <td>62.0</td>\n",
       "      <td>4.0</td>\n",
       "      <td>28.7</td>\n",
       "      <td>73.0</td>\n",
       "      <td>No</td>\n",
       "      <td>Yes</td>\n",
       "      <td>Yes</td>\n",
       "      <td>No</td>\n",
       "      <td>Spain</td>\n",
       "      <td>Female</td>\n",
       "      <td>...</td>\n",
       "      <td>Occasionally</td>\n",
       "      <td>Normal</td>\n",
       "      <td>Low</td>\n",
       "      <td>Good</td>\n",
       "      <td>Average</td>\n",
       "      <td>High</td>\n",
       "      <td>Low</td>\n",
       "      <td>Medium</td>\n",
       "      <td>Medium</td>\n",
       "      <td>No</td>\n",
       "    </tr>\n",
       "    <tr>\n",
       "      <th>2</th>\n",
       "      <td>52.0</td>\n",
       "      <td>19.0</td>\n",
       "      <td>21.3</td>\n",
       "      <td>91.0</td>\n",
       "      <td>No</td>\n",
       "      <td>No</td>\n",
       "      <td>No</td>\n",
       "      <td>No</td>\n",
       "      <td>Australia</td>\n",
       "      <td>Male</td>\n",
       "      <td>...</td>\n",
       "      <td>Occasionally</td>\n",
       "      <td>High</td>\n",
       "      <td>Low</td>\n",
       "      <td>Good</td>\n",
       "      <td>Unhealthy</td>\n",
       "      <td>Medium</td>\n",
       "      <td>High</td>\n",
       "      <td>Medium</td>\n",
       "      <td>Low</td>\n",
       "      <td>No</td>\n",
       "    </tr>\n",
       "    <tr>\n",
       "      <th>3</th>\n",
       "      <td>74.0</td>\n",
       "      <td>15.0</td>\n",
       "      <td>32.4</td>\n",
       "      <td>70.0</td>\n",
       "      <td>No</td>\n",
       "      <td>No</td>\n",
       "      <td>No</td>\n",
       "      <td>No</td>\n",
       "      <td>Norway</td>\n",
       "      <td>Male</td>\n",
       "      <td>...</td>\n",
       "      <td>Never</td>\n",
       "      <td>Normal</td>\n",
       "      <td>Medium</td>\n",
       "      <td>Average</td>\n",
       "      <td>Average</td>\n",
       "      <td>Low</td>\n",
       "      <td>Low</td>\n",
       "      <td>High</td>\n",
       "      <td>High</td>\n",
       "      <td>No</td>\n",
       "    </tr>\n",
       "    <tr>\n",
       "      <th>4</th>\n",
       "      <td>94.0</td>\n",
       "      <td>17.0</td>\n",
       "      <td>33.9</td>\n",
       "      <td>76.0</td>\n",
       "      <td>No</td>\n",
       "      <td>Yes</td>\n",
       "      <td>Yes</td>\n",
       "      <td>No</td>\n",
       "      <td>Saudi Arabia</td>\n",
       "      <td>Female</td>\n",
       "      <td>...</td>\n",
       "      <td>Regularly</td>\n",
       "      <td>High</td>\n",
       "      <td>Medium</td>\n",
       "      <td>Good</td>\n",
       "      <td>Unhealthy</td>\n",
       "      <td>Medium</td>\n",
       "      <td>Medium</td>\n",
       "      <td>High</td>\n",
       "      <td>High</td>\n",
       "      <td>Yes</td>\n",
       "    </tr>\n",
       "  </tbody>\n",
       "</table>\n",
       "<p>5 rows × 25 columns</p>\n",
       "</div>"
      ],
      "text/plain": [
       "  Age_num Education_Level_num BMI_num Cognitive_Test_Score_num  \\\n",
       "0    52.0                 6.0    21.4                     67.0   \n",
       "1    62.0                 4.0    28.7                     73.0   \n",
       "2    52.0                19.0    21.3                     91.0   \n",
       "3    74.0                15.0    32.4                     70.0   \n",
       "4    94.0                17.0    33.9                     76.0   \n",
       "\n",
       "  do_get_Diabetes_bin do_get_Hypertension_bin do_Family_History_bin  \\\n",
       "0                  No                      No                    No   \n",
       "1                  No                     Yes                   Yes   \n",
       "2                  No                      No                    No   \n",
       "3                  No                      No                    No   \n",
       "4                  No                     Yes                   Yes   \n",
       "\n",
       "  do_get_Genetic_Risk_Factor_bin   Country_nom Gender_nom  ...  \\\n",
       "0                            Yes        France     Female  ...   \n",
       "1                             No         Spain     Female  ...   \n",
       "2                             No     Australia       Male  ...   \n",
       "3                             No        Norway       Male  ...   \n",
       "4                             No  Saudi Arabia     Female  ...   \n",
       "\n",
       "  Alcohol_Consumption_Level_ord Cholesterol_Level_ord Depression_Level_ord  \\\n",
       "0                  Occasionally                Normal               Medium   \n",
       "1                  Occasionally                Normal                  Low   \n",
       "2                  Occasionally                  High                  Low   \n",
       "3                         Never                Normal               Medium   \n",
       "4                     Regularly                  High               Medium   \n",
       "\n",
       "  Sleep_Quality_Level_ord Diet_level_ord Air_Pollution_Exposure_level_ord  \\\n",
       "0                    Poor        Healthy                             High   \n",
       "1                    Good        Average                             High   \n",
       "2                    Good      Unhealthy                           Medium   \n",
       "3                 Average        Average                              Low   \n",
       "4                    Good      Unhealthy                           Medium   \n",
       "\n",
       "  Social_Engagement_Level_ord Income_Level_ord Stress_Levels_ord  \\\n",
       "0                        High             High              High   \n",
       "1                         Low           Medium            Medium   \n",
       "2                        High           Medium               Low   \n",
       "3                         Low             High              High   \n",
       "4                      Medium             High              High   \n",
       "\n",
       "  do_get_Alzheimer  \n",
       "0              Yes  \n",
       "1               No  \n",
       "2               No  \n",
       "3               No  \n",
       "4              Yes  \n",
       "\n",
       "[5 rows x 25 columns]"
      ]
     },
     "execution_count": 52,
     "metadata": {},
     "output_type": "execute_result"
    }
   ],
   "source": [
    "cat_cols = binary_cols + nominal_cols + ordinal_cols + [target_col]\n",
    "\n",
    "preprocessor = ColumnTransformer(\n",
    "    transformers=[\n",
    "        (\"num\", SimpleImputer(strategy=\"mean\"), numeric_cols),\n",
    "        (\"cat\", SimpleImputer(strategy=\"most_frequent\"), cat_cols),\n",
    "    ]\n",
    ")\n",
    "\n",
    "df_filled = preprocessor.fit_transform(df)\n",
    "df_filled = pd.DataFrame(df_filled, columns=numeric_cols + cat_cols)\n",
    "\n",
    "# Luu preprocessor lai\n",
    "folder = \"../artifacts/data_correction\"\n",
    "os.makedirs(folder, exist_ok=True)\n",
    "myfuncs.save_python_object(\n",
    "    file_path=os.path.join(folder, \"missing_value_handler.pkl\"), obj=preprocessor\n",
    ")\n",
    "\n",
    "df_filled.head()\n"
   ]
  },
  {
   "cell_type": "markdown",
   "metadata": {},
   "source": [
    "Chuyen doi ve dung kieu du lieu\n"
   ]
  },
  {
   "cell_type": "code",
   "execution_count": null,
   "metadata": {},
   "outputs": [
    {
     "name": "stdout",
     "output_type": "stream",
     "text": [
      "<class 'pandas.core.frame.DataFrame'>\n",
      "RangeIndex: 66854 entries, 0 to 66853\n",
      "Data columns (total 25 columns):\n",
      " #   Column                            Non-Null Count  Dtype   \n",
      "---  ------                            --------------  -----   \n",
      " 0   Age_num                           66854 non-null  float64 \n",
      " 1   Education_Level_num               66854 non-null  float64 \n",
      " 2   BMI_num                           66854 non-null  float64 \n",
      " 3   Cognitive_Test_Score_num          66854 non-null  float64 \n",
      " 4   do_get_Diabetes_bin               66854 non-null  category\n",
      " 5   do_get_Hypertension_bin           66854 non-null  category\n",
      " 6   do_Family_History_bin             66854 non-null  category\n",
      " 7   do_get_Genetic_Risk_Factor_bin    66854 non-null  category\n",
      " 8   Country_nom                       66854 non-null  category\n",
      " 9   Gender_nom                        66854 non-null  category\n",
      " 10  Employment_Status_nom             66854 non-null  category\n",
      " 11  Marital_Status_nom                66854 non-null  category\n",
      " 12  living_place_urban_or_rural_nom   66854 non-null  category\n",
      " 13  Physical_Activity_Level_ord       66854 non-null  category\n",
      " 14  Smoking_Status_level_ord          66854 non-null  category\n",
      " 15  Alcohol_Consumption_Level_ord     66854 non-null  category\n",
      " 16  Cholesterol_Level_ord             66854 non-null  category\n",
      " 17  Depression_Level_ord              66854 non-null  category\n",
      " 18  Sleep_Quality_Level_ord           66854 non-null  category\n",
      " 19  Diet_level_ord                    66854 non-null  category\n",
      " 20  Air_Pollution_Exposure_level_ord  66854 non-null  category\n",
      " 21  Social_Engagement_Level_ord       66854 non-null  category\n",
      " 22  Income_Level_ord                  66854 non-null  category\n",
      " 23  Stress_Levels_ord                 66854 non-null  category\n",
      " 24  do_get_Alzheimer                  66854 non-null  category\n",
      "dtypes: category(21), float64(4)\n",
      "memory usage: 3.4 MB\n"
     ]
    }
   ],
   "source": [
    "df_filled[numeric_cols] = df_filled[numeric_cols].astype(\"float\")\n",
    "\n",
    "\n",
    "df_filled[cat_cols] = df_filled[cat_cols].astype(\"category\")\n",
    "\n",
    "\n",
    "df_filled.info()\n"
   ]
  },
  {
   "cell_type": "code",
   "execution_count": null,
   "metadata": {},
   "outputs": [
    {
     "data": {
      "text/plain": [
       "Index(['Age_num', 'Education_Level_num', 'BMI_num', 'Cognitive_Test_Score_num',\n",
       "       'do_get_Diabetes_bin', 'do_get_Hypertension_bin',\n",
       "       'do_Family_History_bin', 'do_get_Genetic_Risk_Factor_bin',\n",
       "       'Country_nom', 'Gender_nom', 'Employment_Status_nom',\n",
       "       'Marital_Status_nom', 'living_place_urban_or_rural_nom',\n",
       "       'Physical_Activity_Level_ord', 'Smoking_Status_level_ord',\n",
       "       'Alcohol_Consumption_Level_ord', 'Cholesterol_Level_ord',\n",
       "       'Depression_Level_ord', 'Sleep_Quality_Level_ord', 'Diet_level_ord',\n",
       "       'Air_Pollution_Exposure_level_ord', 'Social_Engagement_Level_ord',\n",
       "       'Income_Level_ord', 'Stress_Levels_ord', 'do_get_Alzheimer'],\n",
       "      dtype='object')"
      ]
     },
     "execution_count": 55,
     "metadata": {},
     "output_type": "execute_result"
    }
   ],
   "source": [
    "df_filled.columns\n"
   ]
  },
  {
   "cell_type": "code",
   "execution_count": null,
   "metadata": {},
   "outputs": [],
   "source": [
    "ord_values_dict = {\n",
    "    \"do_get_Diabetes_bin\": [\"No\", \"Yes\"],\n",
    "    \"do_get_Hypertension_bin\": [\"No\", \"Yes\"],\n",
    "    \"do_Family_History_bin\": [\"No\", \"Yes\"],\n",
    "    \"do_get_Genetic_Risk_Factor_bin\": [\"No\", \"Yes\"],\n",
    "    \"Physical_Activity_Level_ord\": [\"Low\", \"Medium\", \"High\"],\n",
    "    \"Smoking_Status_level_ord\": [\"Never\", \"Former\", \"Current\"],\n",
    "    \"Alcohol_Consumption_Level_ord\": [\"Never\", \"Occasionally\", \"Regularly\"],\n",
    "    \"Cholesterol_Level_ord\": [\"Normal\", \"High\"],\n",
    "    \"Depression_Level_ord\": [\"Low\", \"Medium\", \"High\"],\n",
    "    \"Sleep_Quality_Level_ord\": [\"Poor\", \"Average\", \"Good\"],\n",
    "    \"Diet_level_ord\": [\"Unhealthy\", \"Average\", \"Healthy\"],\n",
    "    \"Air_Pollution_Exposure_level_ord\": [\"Low\", \"Medium\", \"High\"],\n",
    "    \"Social_Engagement_Level_ord\": [\"Low\", \"Medium\", \"High\"],\n",
    "    \"Income_Level_ord\": [\"Low\", \"Medium\", \"High\"],\n",
    "    \"Stress_Levels_ord\": [\"Low\", \"Medium\", \"High\"],\n",
    "    \"do_get_Alzheimer\": [\"No\", \"Yes\"],\n",
    "}\n",
    "\n",
    "for col, value in ord_values_dict.items():\n",
    "    df_filled[col] = df_filled[col].cat.reorder_categories(value, ordered=True)\n"
   ]
  },
  {
   "cell_type": "code",
   "execution_count": null,
   "metadata": {},
   "outputs": [],
   "source": [
    "df_filled[\"do_get_Alzheimer\"].cat.categories\n"
   ]
  },
  {
   "cell_type": "markdown",
   "metadata": {},
   "source": [
    "Check duplicates\n"
   ]
  },
  {
   "cell_type": "code",
   "execution_count": null,
   "metadata": {},
   "outputs": [
    {
     "data": {
      "text/plain": [
       "False"
      ]
     },
     "execution_count": 59,
     "metadata": {},
     "output_type": "execute_result"
    }
   ],
   "source": [
    "any(df_filled.duplicated())\n"
   ]
  },
  {
   "cell_type": "markdown",
   "metadata": {},
   "source": [
    "Khong co duplicates\n"
   ]
  },
  {
   "cell_type": "code",
   "execution_count": null,
   "metadata": {},
   "outputs": [
    {
     "data": {
      "text/plain": [
       "(66854, 25)"
      ]
     },
     "execution_count": 60,
     "metadata": {},
     "output_type": "execute_result"
    }
   ],
   "source": [
    "df_filled.shape\n"
   ]
  },
  {
   "cell_type": "markdown",
   "metadata": {},
   "source": [
    "Chia thanh tap train va tap val\n"
   ]
  },
  {
   "cell_type": "code",
   "execution_count": null,
   "metadata": {},
   "outputs": [],
   "source": [
    "df_train, df_val = train_test_split(\n",
    "    df_filled, test_size=0.2, stratify=df[target_col], random_state=42\n",
    ")\n",
    "\n",
    "myfuncs.save_python_object(os.path.join(folder, \"train_data.pkl\"), df_train)\n",
    "myfuncs.save_python_object(os.path.join(folder, \"val_data.pkl\"), df_val)\n"
   ]
  }
 ],
 "metadata": {
  "kernelspec": {
   "display_name": "Python 3",
   "language": "python",
   "name": "python3"
  },
  "language_info": {
   "codemirror_mode": {
    "name": "ipython",
    "version": 3
   },
   "file_extension": ".py",
   "mimetype": "text/x-python",
   "name": "python",
   "nbconvert_exporter": "python",
   "pygments_lexer": "ipython3",
   "version": "3.10.0"
  }
 },
 "nbformat": 4,
 "nbformat_minor": 2
}
