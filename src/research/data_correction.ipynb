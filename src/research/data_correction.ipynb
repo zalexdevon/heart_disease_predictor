{
 "cells": [
  {
   "cell_type": "code",
   "execution_count": null,
   "metadata": {},
   "outputs": [
    {
     "data": {
      "text/plain": [
       "'d:\\\\DA_workspace\\\\alzheimers_prediction\\\\src'"
      ]
     },
     "execution_count": 1,
     "metadata": {},
     "output_type": "execute_result"
    }
   ],
   "source": [
    "import os\n",
    "\n",
    "\n",
    "os.chdir(\"../\")\n",
    "\n",
    "\n",
    "os.getcwd()\n"
   ]
  },
  {
   "cell_type": "code",
   "execution_count": null,
   "metadata": {},
   "outputs": [],
   "source": [
    "import pandas as pd\n",
    "import numpy as np\n",
    "from classifier.Mylib import myfuncs\n",
    "from sklearn.compose import ColumnTransformer\n",
    "from sklearn.impute import SimpleImputer\n",
    "from sklearn.base import BaseEstimator, TransformerMixin\n",
    "from sklearn.model_selection import train_test_split\n"
   ]
  },
  {
   "cell_type": "markdown",
   "metadata": {},
   "source": [
    "Doc du lieu\n"
   ]
  },
  {
   "cell_type": "code",
   "execution_count": null,
   "metadata": {},
   "outputs": [
    {
     "data": {
      "text/html": [
       "<div>\n",
       "<style scoped>\n",
       "    .dataframe tbody tr th:only-of-type {\n",
       "        vertical-align: middle;\n",
       "    }\n",
       "\n",
       "    .dataframe tbody tr th {\n",
       "        vertical-align: top;\n",
       "    }\n",
       "\n",
       "    .dataframe thead th {\n",
       "        text-align: right;\n",
       "    }\n",
       "</style>\n",
       "<table border=\"1\" class=\"dataframe\">\n",
       "  <thead>\n",
       "    <tr style=\"text-align: right;\">\n",
       "      <th></th>\n",
       "      <th>Country</th>\n",
       "      <th>Age</th>\n",
       "      <th>Gender</th>\n",
       "      <th>Education Level</th>\n",
       "      <th>BMI</th>\n",
       "      <th>Physical Activity Level</th>\n",
       "      <th>Smoking Status</th>\n",
       "      <th>Alcohol Consumption</th>\n",
       "      <th>Diabetes</th>\n",
       "      <th>Hypertension</th>\n",
       "      <th>...</th>\n",
       "      <th>Dietary Habits</th>\n",
       "      <th>Air Pollution Exposure</th>\n",
       "      <th>Employment Status</th>\n",
       "      <th>Marital Status</th>\n",
       "      <th>Genetic Risk Factor (APOE-ε4 allele)</th>\n",
       "      <th>Social Engagement Level</th>\n",
       "      <th>Income Level</th>\n",
       "      <th>Stress Levels</th>\n",
       "      <th>Urban vs Rural Living</th>\n",
       "      <th>Alzheimer’s Diagnosis</th>\n",
       "    </tr>\n",
       "  </thead>\n",
       "  <tbody>\n",
       "    <tr>\n",
       "      <th>0</th>\n",
       "      <td>France</td>\n",
       "      <td>52</td>\n",
       "      <td>Female</td>\n",
       "      <td>6</td>\n",
       "      <td>21.4</td>\n",
       "      <td>High</td>\n",
       "      <td>Current</td>\n",
       "      <td>Occasionally</td>\n",
       "      <td>No</td>\n",
       "      <td>No</td>\n",
       "      <td>...</td>\n",
       "      <td>Healthy</td>\n",
       "      <td>High</td>\n",
       "      <td>Employed</td>\n",
       "      <td>Married</td>\n",
       "      <td>Yes</td>\n",
       "      <td>High</td>\n",
       "      <td>High</td>\n",
       "      <td>High</td>\n",
       "      <td>Rural</td>\n",
       "      <td>Yes</td>\n",
       "    </tr>\n",
       "    <tr>\n",
       "      <th>1</th>\n",
       "      <td>Spain</td>\n",
       "      <td>62</td>\n",
       "      <td>Female</td>\n",
       "      <td>4</td>\n",
       "      <td>28.7</td>\n",
       "      <td>Low</td>\n",
       "      <td>Current</td>\n",
       "      <td>Occasionally</td>\n",
       "      <td>No</td>\n",
       "      <td>Yes</td>\n",
       "      <td>...</td>\n",
       "      <td>Average</td>\n",
       "      <td>High</td>\n",
       "      <td>Employed</td>\n",
       "      <td>Widowed</td>\n",
       "      <td>No</td>\n",
       "      <td>Low</td>\n",
       "      <td>Medium</td>\n",
       "      <td>Medium</td>\n",
       "      <td>Rural</td>\n",
       "      <td>No</td>\n",
       "    </tr>\n",
       "    <tr>\n",
       "      <th>2</th>\n",
       "      <td>Australia</td>\n",
       "      <td>52</td>\n",
       "      <td>Male</td>\n",
       "      <td>19</td>\n",
       "      <td>21.3</td>\n",
       "      <td>Medium</td>\n",
       "      <td>Current</td>\n",
       "      <td>Occasionally</td>\n",
       "      <td>No</td>\n",
       "      <td>No</td>\n",
       "      <td>...</td>\n",
       "      <td>Unhealthy</td>\n",
       "      <td>Medium</td>\n",
       "      <td>Retired</td>\n",
       "      <td>Single</td>\n",
       "      <td>No</td>\n",
       "      <td>High</td>\n",
       "      <td>Medium</td>\n",
       "      <td>Low</td>\n",
       "      <td>Urban</td>\n",
       "      <td>No</td>\n",
       "    </tr>\n",
       "    <tr>\n",
       "      <th>3</th>\n",
       "      <td>Norway</td>\n",
       "      <td>74</td>\n",
       "      <td>Male</td>\n",
       "      <td>15</td>\n",
       "      <td>32.4</td>\n",
       "      <td>Low</td>\n",
       "      <td>Current</td>\n",
       "      <td>Never</td>\n",
       "      <td>No</td>\n",
       "      <td>No</td>\n",
       "      <td>...</td>\n",
       "      <td>Average</td>\n",
       "      <td>Low</td>\n",
       "      <td>Unemployed</td>\n",
       "      <td>Married</td>\n",
       "      <td>No</td>\n",
       "      <td>Low</td>\n",
       "      <td>High</td>\n",
       "      <td>High</td>\n",
       "      <td>Rural</td>\n",
       "      <td>No</td>\n",
       "    </tr>\n",
       "    <tr>\n",
       "      <th>4</th>\n",
       "      <td>Saudi Arabia</td>\n",
       "      <td>94</td>\n",
       "      <td>Female</td>\n",
       "      <td>17</td>\n",
       "      <td>33.9</td>\n",
       "      <td>Low</td>\n",
       "      <td>Former</td>\n",
       "      <td>Regularly</td>\n",
       "      <td>No</td>\n",
       "      <td>Yes</td>\n",
       "      <td>...</td>\n",
       "      <td>Unhealthy</td>\n",
       "      <td>Medium</td>\n",
       "      <td>Retired</td>\n",
       "      <td>Widowed</td>\n",
       "      <td>No</td>\n",
       "      <td>Medium</td>\n",
       "      <td>High</td>\n",
       "      <td>High</td>\n",
       "      <td>Rural</td>\n",
       "      <td>Yes</td>\n",
       "    </tr>\n",
       "  </tbody>\n",
       "</table>\n",
       "<p>5 rows × 25 columns</p>\n",
       "</div>"
      ],
      "text/plain": [
       "        Country  Age  Gender  Education Level   BMI Physical Activity Level  \\\n",
       "0        France   52  Female                6  21.4                    High   \n",
       "1         Spain   62  Female                4  28.7                     Low   \n",
       "2     Australia   52    Male               19  21.3                  Medium   \n",
       "3        Norway   74    Male               15  32.4                     Low   \n",
       "4  Saudi Arabia   94  Female               17  33.9                     Low   \n",
       "\n",
       "  Smoking Status Alcohol Consumption Diabetes Hypertension  ...  \\\n",
       "0        Current        Occasionally       No           No  ...   \n",
       "1        Current        Occasionally       No          Yes  ...   \n",
       "2        Current        Occasionally       No           No  ...   \n",
       "3        Current               Never       No           No  ...   \n",
       "4         Former           Regularly       No          Yes  ...   \n",
       "\n",
       "  Dietary Habits Air Pollution Exposure  Employment Status Marital Status  \\\n",
       "0        Healthy                   High           Employed        Married   \n",
       "1        Average                   High           Employed        Widowed   \n",
       "2      Unhealthy                 Medium            Retired         Single   \n",
       "3        Average                    Low         Unemployed        Married   \n",
       "4      Unhealthy                 Medium            Retired        Widowed   \n",
       "\n",
       "  Genetic Risk Factor (APOE-ε4 allele) Social Engagement Level Income Level  \\\n",
       "0                                  Yes                    High         High   \n",
       "1                                   No                     Low       Medium   \n",
       "2                                   No                    High       Medium   \n",
       "3                                   No                     Low         High   \n",
       "4                                   No                  Medium         High   \n",
       "\n",
       "  Stress Levels Urban vs Rural Living Alzheimer’s Diagnosis  \n",
       "0          High                 Rural                   Yes  \n",
       "1        Medium                 Rural                    No  \n",
       "2           Low                 Urban                    No  \n",
       "3          High                 Rural                    No  \n",
       "4          High                 Rural                   Yes  \n",
       "\n",
       "[5 rows x 25 columns]"
      ]
     },
     "execution_count": 3,
     "metadata": {},
     "output_type": "execute_result"
    }
   ],
   "source": [
    "df = myfuncs.load_python_object(\"../artifacts/data_ingestion/train_data.pkl\")\n",
    "\n",
    "df.head()\n"
   ]
  },
  {
   "cell_type": "markdown",
   "metadata": {},
   "source": [
    "Kich thuoc\n"
   ]
  },
  {
   "cell_type": "code",
   "execution_count": null,
   "metadata": {},
   "outputs": [
    {
     "data": {
      "text/plain": [
       "(66854, 25)"
      ]
     },
     "execution_count": 4,
     "metadata": {},
     "output_type": "execute_result"
    }
   ],
   "source": [
    "df.shape\n"
   ]
  },
  {
   "cell_type": "markdown",
   "metadata": {},
   "source": [
    "Ti le missing cac cot\n"
   ]
  },
  {
   "cell_type": "code",
   "execution_count": null,
   "metadata": {},
   "outputs": [
    {
     "data": {
      "text/plain": [
       "Country                                 0.0\n",
       "Age                                     0.0\n",
       "Gender                                  0.0\n",
       "Education Level                         0.0\n",
       "BMI                                     0.0\n",
       "Physical Activity Level                 0.0\n",
       "Smoking Status                          0.0\n",
       "Alcohol Consumption                     0.0\n",
       "Diabetes                                0.0\n",
       "Hypertension                            0.0\n",
       "Cholesterol Level                       0.0\n",
       "Family History of Alzheimer’s           0.0\n",
       "Cognitive Test Score                    0.0\n",
       "Depression Level                        0.0\n",
       "Sleep Quality                           0.0\n",
       "Dietary Habits                          0.0\n",
       "Air Pollution Exposure                  0.0\n",
       "Employment Status                       0.0\n",
       "Marital Status                          0.0\n",
       "Genetic Risk Factor (APOE-ε4 allele)    0.0\n",
       "Social Engagement Level                 0.0\n",
       "Income Level                            0.0\n",
       "Stress Levels                           0.0\n",
       "Urban vs Rural Living                   0.0\n",
       "Alzheimer’s Diagnosis                   0.0\n",
       "dtype: float64"
      ]
     },
     "execution_count": 5,
     "metadata": {},
     "output_type": "execute_result"
    }
   ],
   "source": [
    "df.isnull().mean() * 100\n"
   ]
  },
  {
   "cell_type": "markdown",
   "metadata": {},
   "source": [
    "Khong xoa cot nao het !\n"
   ]
  },
  {
   "cell_type": "markdown",
   "metadata": {},
   "source": [
    "Kich thuoc con lai\n"
   ]
  },
  {
   "cell_type": "code",
   "execution_count": null,
   "metadata": {},
   "outputs": [
    {
     "data": {
      "text/plain": [
       "(66854, 25)"
      ]
     },
     "execution_count": 6,
     "metadata": {},
     "output_type": "execute_result"
    }
   ],
   "source": [
    "df.shape\n"
   ]
  },
  {
   "cell_type": "markdown",
   "metadata": {},
   "source": [
    "Y nghia cac cot\n",
    "\n",
    "| Cot                                  | Y nghia                                | Don vi | Phan loai |\n",
    "| ------------------------------------ | -------------------------------------- | ------ | --------- |\n",
    "| Country                              | Dat nuoc dang song                     | none   | Nominal   |\n",
    "| Age                                  | Tuoi                                   | none   | Numeric   |\n",
    "| Gender                               | Gioi tinh                              | none   | Numeric   |\n",
    "| Education Level                      | Muc do hoc van                         | none   | Numeric   |\n",
    "| BMI                                  | Chi so BMI (18.5 - 35)                 | none   | Numeric   |\n",
    "| Physical Activity Level              | Muc do hoat dong the chat              | none   | Ordinal   |\n",
    "| Smoking Status                       | Trang thai hut thuoc                   | none   | Ordinal   |\n",
    "| Alcohol Consumption                  | Tan suat tieu thu ruou                 | none   | Ordinal   |\n",
    "| Diabetes                             | Co bi tieu duong khong                 | none   | binary    |\n",
    "| Hypertension                         | Co bi huyet ap cao khong               | none   | binary    |\n",
    "| Cholesterol Level                    | Muc do Cholesterol                     | none   | ordinal   |\n",
    "| Family History of Alzheimer’s        | Co nguoi nha bi Alzheimer’s khong      | none   | binary    |\n",
    "| Cognitive Test Score                 | Diem kiem tra tu duy                   | none   | Numeric   |\n",
    "| Depression Level                     | Muc do tram cam                        | none   | ordinal   |\n",
    "| Sleep Quality                        | Chat luong giac ngu                    | none   | ordinal   |\n",
    "| Dietary Habits                       | Chat luong bua an                      | none   | ordinal   |\n",
    "| Air Pollution Exposure               | Muc do tiep xuc voi o nhiem khong khi  | none   | ordinal   |\n",
    "| Employment Status                    | Trang thai viec lam hien tai           | none   | nominal   |\n",
    "| Marital Status                       | Trang thai hon nhan                    | none   | nominal   |\n",
    "| Genetic Risk Factor (APOE-ε4 allele) | Co dinh yeu to di truyen khong         | none   | binary    |\n",
    "| Social Engagement Level              | muc do tham gia vao cong tac xa hoi    | none   | ordinal   |\n",
    "| Income Level                         | muc do thu nhap                        | none   | ordinal   |\n",
    "| Stress Levels                        | muc do stress                          | none   | ordinal   |\n",
    "| Urban vs Rural Living                | noi song                               | none   | nominal   |\n",
    "| Alzheimer’s Diagnosis                | bien muc tieu, co bi Alzheimer’s khong | none   | binary    |\n",
    "\n",
    "Marital Status = \"Widowed\":có nghĩa là góa, tức là một người đã mất vợ hoặc chồng.\n",
    "\n",
    "**Alzheimer’s Diagnosis**\n",
    "\n",
    "- Yes: Co bi Alzheimer\n",
    "- No: Khong bi Alzheimer\n"
   ]
  },
  {
   "cell_type": "code",
   "execution_count": null,
   "metadata": {},
   "outputs": [
    {
     "data": {
      "text/plain": [
       "array(['Yes', 'No'], dtype=object)"
      ]
     },
     "execution_count": 7,
     "metadata": {},
     "output_type": "execute_result"
    }
   ],
   "source": [
    "df[\"Alzheimer’s Diagnosis\"].unique()\n"
   ]
  },
  {
   "cell_type": "code",
   "execution_count": null,
   "metadata": {},
   "outputs": [
    {
     "data": {
      "text/plain": [
       "array([ 6,  4, 19, 15, 17,  2, 12, 13, 14,  7,  8, 11,  1,  5, 18,  9,  3,\n",
       "       10,  0, 16], dtype=int64)"
      ]
     },
     "execution_count": 8,
     "metadata": {},
     "output_type": "execute_result"
    }
   ],
   "source": [
    "df[\"Education Level\"].unique()\n"
   ]
  },
  {
   "cell_type": "code",
   "execution_count": null,
   "metadata": {},
   "outputs": [
    {
     "data": {
      "text/plain": [
       "array(['High', 'Low', 'Medium'], dtype=object)"
      ]
     },
     "execution_count": 9,
     "metadata": {},
     "output_type": "execute_result"
    }
   ],
   "source": [
    "df[\"Physical Activity Level\"].unique()\n"
   ]
  },
  {
   "cell_type": "code",
   "execution_count": null,
   "metadata": {},
   "outputs": [
    {
     "data": {
      "text/plain": [
       "array(['Current', 'Former', 'Never'], dtype=object)"
      ]
     },
     "execution_count": 10,
     "metadata": {},
     "output_type": "execute_result"
    }
   ],
   "source": [
    "df[\"Smoking Status\"].unique()\n"
   ]
  },
  {
   "cell_type": "code",
   "execution_count": null,
   "metadata": {},
   "outputs": [
    {
     "data": {
      "text/plain": [
       "array(['Occasionally', 'Never', 'Regularly'], dtype=object)"
      ]
     },
     "execution_count": 11,
     "metadata": {},
     "output_type": "execute_result"
    }
   ],
   "source": [
    "df[\"Alcohol Consumption\"].unique()\n"
   ]
  },
  {
   "cell_type": "code",
   "execution_count": null,
   "metadata": {},
   "outputs": [
    {
     "data": {
      "text/plain": [
       "array(['Medium', 'Low', 'High'], dtype=object)"
      ]
     },
     "execution_count": 12,
     "metadata": {},
     "output_type": "execute_result"
    }
   ],
   "source": [
    "df[\"Depression Level\"].unique()\n"
   ]
  },
  {
   "cell_type": "code",
   "execution_count": null,
   "metadata": {},
   "outputs": [
    {
     "data": {
      "text/plain": [
       "array(['Poor', 'Good', 'Average'], dtype=object)"
      ]
     },
     "execution_count": 13,
     "metadata": {},
     "output_type": "execute_result"
    }
   ],
   "source": [
    "df[\"Sleep Quality\"].unique()\n"
   ]
  },
  {
   "cell_type": "code",
   "execution_count": null,
   "metadata": {},
   "outputs": [
    {
     "data": {
      "text/plain": [
       "array(['Healthy', 'Average', 'Unhealthy'], dtype=object)"
      ]
     },
     "execution_count": 14,
     "metadata": {},
     "output_type": "execute_result"
    }
   ],
   "source": [
    "df[\"Dietary Habits\"].unique()\n"
   ]
  },
  {
   "cell_type": "code",
   "execution_count": null,
   "metadata": {},
   "outputs": [
    {
     "data": {
      "text/plain": [
       "array(['High', 'Medium', 'Low'], dtype=object)"
      ]
     },
     "execution_count": 15,
     "metadata": {},
     "output_type": "execute_result"
    }
   ],
   "source": [
    "df[\"Air Pollution Exposure\"].unique()\n"
   ]
  },
  {
   "cell_type": "code",
   "execution_count": null,
   "metadata": {},
   "outputs": [
    {
     "data": {
      "text/plain": [
       "array(['Employed', 'Retired', 'Unemployed'], dtype=object)"
      ]
     },
     "execution_count": 16,
     "metadata": {},
     "output_type": "execute_result"
    }
   ],
   "source": [
    "df[\"Employment Status\"].unique()\n"
   ]
  },
  {
   "cell_type": "code",
   "execution_count": null,
   "metadata": {},
   "outputs": [
    {
     "data": {
      "text/plain": [
       "array(['Married', 'Widowed', 'Single'], dtype=object)"
      ]
     },
     "execution_count": 17,
     "metadata": {},
     "output_type": "execute_result"
    }
   ],
   "source": [
    "df[\"Marital Status\"].unique()\n"
   ]
  },
  {
   "cell_type": "markdown",
   "metadata": {},
   "source": [
    "Doi ten cot\n"
   ]
  },
  {
   "cell_type": "code",
   "execution_count": null,
   "metadata": {},
   "outputs": [
    {
     "data": {
      "text/plain": [
       "Index(['Country', 'Age', 'Gender', 'Education Level', 'BMI',\n",
       "       'Physical Activity Level', 'Smoking Status', 'Alcohol Consumption',\n",
       "       'Diabetes', 'Hypertension', 'Cholesterol Level',\n",
       "       'Family History of Alzheimer’s', 'Cognitive Test Score',\n",
       "       'Depression Level', 'Sleep Quality', 'Dietary Habits',\n",
       "       'Air Pollution Exposure', 'Employment Status', 'Marital Status',\n",
       "       'Genetic Risk Factor (APOE-ε4 allele)', 'Social Engagement Level',\n",
       "       'Income Level', 'Stress Levels', 'Urban vs Rural Living',\n",
       "       'Alzheimer’s Diagnosis'],\n",
       "      dtype='object')"
      ]
     },
     "execution_count": 18,
     "metadata": {},
     "output_type": "execute_result"
    }
   ],
   "source": [
    "df.columns\n"
   ]
  },
  {
   "cell_type": "code",
   "execution_count": null,
   "metadata": {},
   "outputs": [
    {
     "data": {
      "text/html": [
       "<div>\n",
       "<style scoped>\n",
       "    .dataframe tbody tr th:only-of-type {\n",
       "        vertical-align: middle;\n",
       "    }\n",
       "\n",
       "    .dataframe tbody tr th {\n",
       "        vertical-align: top;\n",
       "    }\n",
       "\n",
       "    .dataframe thead th {\n",
       "        text-align: right;\n",
       "    }\n",
       "</style>\n",
       "<table border=\"1\" class=\"dataframe\">\n",
       "  <thead>\n",
       "    <tr style=\"text-align: right;\">\n",
       "      <th></th>\n",
       "      <th>Country</th>\n",
       "      <th>Age</th>\n",
       "      <th>Gender</th>\n",
       "      <th>Education_Level</th>\n",
       "      <th>BMI</th>\n",
       "      <th>Physical_Activity_Level</th>\n",
       "      <th>Smoking_Status_level</th>\n",
       "      <th>Alcohol_Consumption_Level</th>\n",
       "      <th>do_get_Diabetes</th>\n",
       "      <th>do_get_Hypertension</th>\n",
       "      <th>...</th>\n",
       "      <th>Diet_level</th>\n",
       "      <th>Air_Pollution_Exposure_level</th>\n",
       "      <th>Employment_Status</th>\n",
       "      <th>Marital_Status</th>\n",
       "      <th>do_get_Genetic_Risk_Factor</th>\n",
       "      <th>Social_Engagement_Level</th>\n",
       "      <th>Income_Level</th>\n",
       "      <th>Stress_Levels</th>\n",
       "      <th>living_place_urban_or_rural</th>\n",
       "      <th>do_get_Alzheimer</th>\n",
       "    </tr>\n",
       "  </thead>\n",
       "  <tbody>\n",
       "    <tr>\n",
       "      <th>0</th>\n",
       "      <td>France</td>\n",
       "      <td>52</td>\n",
       "      <td>Female</td>\n",
       "      <td>6</td>\n",
       "      <td>21.4</td>\n",
       "      <td>High</td>\n",
       "      <td>Current</td>\n",
       "      <td>Occasionally</td>\n",
       "      <td>No</td>\n",
       "      <td>No</td>\n",
       "      <td>...</td>\n",
       "      <td>Healthy</td>\n",
       "      <td>High</td>\n",
       "      <td>Employed</td>\n",
       "      <td>Married</td>\n",
       "      <td>Yes</td>\n",
       "      <td>High</td>\n",
       "      <td>High</td>\n",
       "      <td>High</td>\n",
       "      <td>Rural</td>\n",
       "      <td>Yes</td>\n",
       "    </tr>\n",
       "    <tr>\n",
       "      <th>1</th>\n",
       "      <td>Spain</td>\n",
       "      <td>62</td>\n",
       "      <td>Female</td>\n",
       "      <td>4</td>\n",
       "      <td>28.7</td>\n",
       "      <td>Low</td>\n",
       "      <td>Current</td>\n",
       "      <td>Occasionally</td>\n",
       "      <td>No</td>\n",
       "      <td>Yes</td>\n",
       "      <td>...</td>\n",
       "      <td>Average</td>\n",
       "      <td>High</td>\n",
       "      <td>Employed</td>\n",
       "      <td>Widowed</td>\n",
       "      <td>No</td>\n",
       "      <td>Low</td>\n",
       "      <td>Medium</td>\n",
       "      <td>Medium</td>\n",
       "      <td>Rural</td>\n",
       "      <td>No</td>\n",
       "    </tr>\n",
       "    <tr>\n",
       "      <th>2</th>\n",
       "      <td>Australia</td>\n",
       "      <td>52</td>\n",
       "      <td>Male</td>\n",
       "      <td>19</td>\n",
       "      <td>21.3</td>\n",
       "      <td>Medium</td>\n",
       "      <td>Current</td>\n",
       "      <td>Occasionally</td>\n",
       "      <td>No</td>\n",
       "      <td>No</td>\n",
       "      <td>...</td>\n",
       "      <td>Unhealthy</td>\n",
       "      <td>Medium</td>\n",
       "      <td>Retired</td>\n",
       "      <td>Single</td>\n",
       "      <td>No</td>\n",
       "      <td>High</td>\n",
       "      <td>Medium</td>\n",
       "      <td>Low</td>\n",
       "      <td>Urban</td>\n",
       "      <td>No</td>\n",
       "    </tr>\n",
       "    <tr>\n",
       "      <th>3</th>\n",
       "      <td>Norway</td>\n",
       "      <td>74</td>\n",
       "      <td>Male</td>\n",
       "      <td>15</td>\n",
       "      <td>32.4</td>\n",
       "      <td>Low</td>\n",
       "      <td>Current</td>\n",
       "      <td>Never</td>\n",
       "      <td>No</td>\n",
       "      <td>No</td>\n",
       "      <td>...</td>\n",
       "      <td>Average</td>\n",
       "      <td>Low</td>\n",
       "      <td>Unemployed</td>\n",
       "      <td>Married</td>\n",
       "      <td>No</td>\n",
       "      <td>Low</td>\n",
       "      <td>High</td>\n",
       "      <td>High</td>\n",
       "      <td>Rural</td>\n",
       "      <td>No</td>\n",
       "    </tr>\n",
       "    <tr>\n",
       "      <th>4</th>\n",
       "      <td>Saudi Arabia</td>\n",
       "      <td>94</td>\n",
       "      <td>Female</td>\n",
       "      <td>17</td>\n",
       "      <td>33.9</td>\n",
       "      <td>Low</td>\n",
       "      <td>Former</td>\n",
       "      <td>Regularly</td>\n",
       "      <td>No</td>\n",
       "      <td>Yes</td>\n",
       "      <td>...</td>\n",
       "      <td>Unhealthy</td>\n",
       "      <td>Medium</td>\n",
       "      <td>Retired</td>\n",
       "      <td>Widowed</td>\n",
       "      <td>No</td>\n",
       "      <td>Medium</td>\n",
       "      <td>High</td>\n",
       "      <td>High</td>\n",
       "      <td>Rural</td>\n",
       "      <td>Yes</td>\n",
       "    </tr>\n",
       "  </tbody>\n",
       "</table>\n",
       "<p>5 rows × 25 columns</p>\n",
       "</div>"
      ],
      "text/plain": [
       "        Country  Age  Gender  Education_Level   BMI Physical_Activity_Level  \\\n",
       "0        France   52  Female                6  21.4                    High   \n",
       "1         Spain   62  Female                4  28.7                     Low   \n",
       "2     Australia   52    Male               19  21.3                  Medium   \n",
       "3        Norway   74    Male               15  32.4                     Low   \n",
       "4  Saudi Arabia   94  Female               17  33.9                     Low   \n",
       "\n",
       "  Smoking_Status_level Alcohol_Consumption_Level do_get_Diabetes  \\\n",
       "0              Current              Occasionally              No   \n",
       "1              Current              Occasionally              No   \n",
       "2              Current              Occasionally              No   \n",
       "3              Current                     Never              No   \n",
       "4               Former                 Regularly              No   \n",
       "\n",
       "  do_get_Hypertension  ... Diet_level Air_Pollution_Exposure_level  \\\n",
       "0                  No  ...    Healthy                         High   \n",
       "1                 Yes  ...    Average                         High   \n",
       "2                  No  ...  Unhealthy                       Medium   \n",
       "3                  No  ...    Average                          Low   \n",
       "4                 Yes  ...  Unhealthy                       Medium   \n",
       "\n",
       "   Employment_Status Marital_Status do_get_Genetic_Risk_Factor  \\\n",
       "0           Employed        Married                        Yes   \n",
       "1           Employed        Widowed                         No   \n",
       "2            Retired         Single                         No   \n",
       "3         Unemployed        Married                         No   \n",
       "4            Retired        Widowed                         No   \n",
       "\n",
       "  Social_Engagement_Level Income_Level Stress_Levels  \\\n",
       "0                    High         High          High   \n",
       "1                     Low       Medium        Medium   \n",
       "2                    High       Medium           Low   \n",
       "3                     Low         High          High   \n",
       "4                  Medium         High          High   \n",
       "\n",
       "  living_place_urban_or_rural do_get_Alzheimer  \n",
       "0                       Rural              Yes  \n",
       "1                       Rural               No  \n",
       "2                       Urban               No  \n",
       "3                       Rural               No  \n",
       "4                       Rural              Yes  \n",
       "\n",
       "[5 rows x 25 columns]"
      ]
     },
     "execution_count": 19,
     "metadata": {},
     "output_type": "execute_result"
    }
   ],
   "source": [
    "rename_dict = {\n",
    "    \"Education Level\": \"Education_Level\",\n",
    "    \"Physical Activity Level\": \"Physical_Activity_Level\",\n",
    "    \"Smoking Status\": \"Smoking_Status_level\",\n",
    "    \"Alcohol Consumption\": \"Alcohol_Consumption_Level\",\n",
    "    \"Diabetes\": \"do_get_Diabetes\",\n",
    "    \"Hypertension\": \"do_get_Hypertension\",\n",
    "    \"Cholesterol Level\": \"Cholesterol_Level\",\n",
    "    \"Family History of Alzheimer’s\": \"do_Family_History\",\n",
    "    \"Cognitive Test Score\": \"Cognitive_Test_Score\",\n",
    "    \"Depression Level\": \"Depression_Level\",\n",
    "    \"Sleep Quality\": \"Sleep_Quality_Level\",\n",
    "    \"Dietary Habits\": \"Diet_level\",\n",
    "    \"Air Pollution Exposure\": \"Air_Pollution_Exposure_level\",\n",
    "    \"Employment Status\": \"Employment_Status\",\n",
    "    \"Marital Status\": \"Marital_Status\",\n",
    "    \"Genetic Risk Factor (APOE-ε4 allele)\": \"do_get_Genetic_Risk_Factor\",\n",
    "    \"Social Engagement Level\": \"Social_Engagement_Level\",\n",
    "    \"Income Level\": \"Income_Level\",\n",
    "    \"Stress Levels\": \"Stress_Levels\",\n",
    "    \"Urban vs Rural Living\": \"living_place_urban_or_rural\",\n",
    "    \"Alzheimer’s Diagnosis\": \"do_get_Alzheimer\",\n",
    "}\n",
    "\n",
    "\n",
    "df = df.rename(columns=rename_dict)\n",
    "\n",
    "df.head()\n"
   ]
  },
  {
   "cell_type": "markdown",
   "metadata": {},
   "source": [
    "chuyen lai ten cot co hau to nhu sau\n",
    "\n",
    "- cot so: num\n",
    "- cot binary: bin\n",
    "- cot nominal: nom\n",
    "- cot ordinal: ord\n",
    "-\n"
   ]
  },
  {
   "cell_type": "code",
   "execution_count": null,
   "metadata": {},
   "outputs": [
    {
     "data": {
      "text/plain": [
       "Index(['Country_nom', 'Age_num', 'Gender_nom', 'Education_Level_num',\n",
       "       'BMI_num', 'Physical_Activity_Level_ord', 'Smoking_Status_level_ord',\n",
       "       'Alcohol_Consumption_Level_ord', 'do_get_Diabetes_bin',\n",
       "       'do_get_Hypertension_bin', 'Cholesterol_Level_ord',\n",
       "       'do_Family_History_bin', 'Cognitive_Test_Score_num',\n",
       "       'Depression_Level_ord', 'Sleep_Quality_Level_ord', 'Diet_level_ord',\n",
       "       'Air_Pollution_Exposure_level_ord', 'Employment_Status_nom',\n",
       "       'Marital_Status_nom', 'do_get_Genetic_Risk_Factor_bin',\n",
       "       'Social_Engagement_Level_ord', 'Income_Level_ord', 'Stress_Levels_ord',\n",
       "       'living_place_urban_or_rural_nom', 'do_get_Alzheimer'],\n",
       "      dtype='object')"
      ]
     },
     "execution_count": 20,
     "metadata": {},
     "output_type": "execute_result"
    }
   ],
   "source": [
    "rename_dict = {\n",
    "    \"Age\": \"Age_num\",\n",
    "    \"Education_Level\": \"Education_Level_num\",\n",
    "    \"BMI\": \"BMI_num\",\n",
    "    \"Cognitive_Test_Score\": \"Cognitive_Test_Score_num\",\n",
    "    \"do_get_Diabetes\": \"do_get_Diabetes_bin\",\n",
    "    \"do_get_Hypertension\": \"do_get_Hypertension_bin\",\n",
    "    \"do_Family_History\": \"do_Family_History_bin\",\n",
    "    \"do_get_Genetic_Risk_Factor\": \"do_get_Genetic_Risk_Factor_bin\",\n",
    "    \"Gender\": \"Gender_nom\",\n",
    "    \"Country\": \"Country_nom\",\n",
    "    \"Employment_Status\": \"Employment_Status_nom\",\n",
    "    \"Marital_Status\": \"Marital_Status_nom\",\n",
    "    \"living_place_urban_or_rural\": \"living_place_urban_or_rural_nom\",\n",
    "    \"Physical_Activity_Level\": \"Physical_Activity_Level_ord\",\n",
    "    \"Smoking_Status_level\": \"Smoking_Status_level_ord\",\n",
    "    \"Alcohol_Consumption_Level\": \"Alcohol_Consumption_Level_ord\",\n",
    "    \"Cholesterol_Level\": \"Cholesterol_Level_ord\",\n",
    "    \"Depression_Level\": \"Depression_Level_ord\",\n",
    "    \"Sleep_Quality_Level\": \"Sleep_Quality_Level_ord\",\n",
    "    \"Diet_level\": \"Diet_level_ord\",\n",
    "    \"Air_Pollution_Exposure_level\": \"Air_Pollution_Exposure_level_ord\",\n",
    "    \"Social_Engagement_Level\": \"Social_Engagement_Level_ord\",\n",
    "    \"Income_Level\": \"Income_Level_ord\",\n",
    "    \"Stress_Levels\": \"Stress_Levels_ord\",\n",
    "    \"Stress_Levels\": \"Stress_Levels_ord\",\n",
    "}\n",
    "\n",
    "df = df.rename(columns=rename_dict)\n",
    "\n",
    "df.columns\n"
   ]
  },
  {
   "cell_type": "code",
   "execution_count": null,
   "metadata": {},
   "outputs": [
    {
     "data": {
      "text/plain": [
       "Index(['Country_nom', 'Age_num', 'Gender_nom', 'Education_Level_num',\n",
       "       'BMI_num', 'Physical_Activity_Level_ord', 'Smoking_Status_level_ord',\n",
       "       'Alcohol_Consumption_Level_ord', 'do_get_Diabetes_bin',\n",
       "       'do_get_Hypertension_bin', 'Cholesterol_Level_ord',\n",
       "       'do_Family_History_bin', 'Cognitive_Test_Score_num',\n",
       "       'Depression_Level_ord', 'Sleep_Quality_Level_ord', 'Diet_level_ord',\n",
       "       'Air_Pollution_Exposure_level_ord', 'Employment_Status_nom',\n",
       "       'Marital_Status_nom', 'do_get_Genetic_Risk_Factor_bin',\n",
       "       'Social_Engagement_Level_ord', 'Income_Level_ord', 'Stress_Levels_ord',\n",
       "       'living_place_urban_or_rural_nom', 'do_get_Alzheimer'],\n",
       "      dtype='object')"
      ]
     },
     "execution_count": 21,
     "metadata": {},
     "output_type": "execute_result"
    }
   ],
   "source": [
    "df.columns\n"
   ]
  },
  {
   "cell_type": "markdown",
   "metadata": {},
   "source": [
    "Y nghia cac cot\n",
    "\n",
    "| Cot                          | Y nghia                                | Don vi | Phan loai |\n",
    "| ---------------------------- | -------------------------------------- | ------ | --------- |\n",
    "| Country                      | Dat nuoc dang song                     | none   | Nominal   |\n",
    "| Age                          | Tuoi                                   | none   | Numeric   |\n",
    "| Gender                       | Gioi tinh                              | none   | Numeric   |\n",
    "| Education_Level              | Muc do hoc van                         | none   | Numeric   |\n",
    "| BMI                          | Chi so BMI (18.5 - 35)                 | none   | Numeric   |\n",
    "| Physical_Activity_Level      | Muc do hoat dong the chat              | none   | Ordinal   |\n",
    "| Smoking_Status_level         | Trang thai hut thuoc                   | none   | Ordinal   |\n",
    "| Alcohol_Consumption_Level    | Tan suat tieu thu ruou                 | none   | Ordinal   |\n",
    "| do_get_Diabetes              | Co bi tieu duong khong                 | none   | binary    |\n",
    "| do_get_Hypertension          | Co bi huyet ap cao khong               | none   | binary    |\n",
    "| Cholesterol_Level            | Muc do Cholesterol                     | none   | ordinal   |\n",
    "| do_Family_History            | Co nguoi nha bi Alzheimer’s khong      | none   | binary    |\n",
    "| Cognitive_Test_Score         | Diem kiem tra tu duy                   | none   | Numeric   |\n",
    "| Depression_Level             | Muc do tram cam                        | none   | ordinal   |\n",
    "| Sleep_Quality_Level          | Chat luong giac ngu                    | none   | ordinal   |\n",
    "| Diet_level                   | Chat luong bua an                      | none   | ordinal   |\n",
    "| Air_Pollution_Exposure_level | Muc do tiep xuc voi o nhiem khong khi  | none   | ordinal   |\n",
    "| Employment_Status            | Trang thai viec lam hien tai           | none   | nominal   |\n",
    "| Marital_Status               | Trang thai hon nhan                    | none   | nominal   |\n",
    "| do_get_Genetic_Risk_Factor   | Co dinh yeu to di truyen khong         | none   | binary    |\n",
    "| Social_Engagement_Level      | muc do tham gia vao cong tac xa hoi    | none   | ordinal   |\n",
    "| Income_Level                 | muc do thu nhap                        | none   | ordinal   |\n",
    "| Stress_Levels                | muc do stress                          | none   | ordinal   |\n",
    "| living_place_urban_or_rural  | noi song                               | none   | nominal   |\n",
    "| do_get_Alzheimer             | bien muc tieu, co bi Alzheimer’s khong | none   | binary    |\n",
    "\n",
    "Marital_Status = \"Widowed\":có nghĩa là góa, tức là một người đã mất vợ hoặc chồng.\n",
    "\n",
    "**do_get_Alzheimer**\n",
    "\n",
    "- Yes: Co bi Alzheimer\n",
    "- No: Khong bi Alzheimer\n"
   ]
  },
  {
   "cell_type": "markdown",
   "metadata": {},
   "source": [
    "Chuyen cac cot numeric, binary, nominal, ordinal, target ve dung vi tri\n"
   ]
  },
  {
   "cell_type": "code",
   "execution_count": null,
   "metadata": {},
   "outputs": [
    {
     "data": {
      "text/plain": [
       "Index(['Country_nom', 'Age_num', 'Gender_nom', 'Education_Level_num',\n",
       "       'BMI_num', 'Physical_Activity_Level_ord', 'Smoking_Status_level_ord',\n",
       "       'Alcohol_Consumption_Level_ord', 'do_get_Diabetes_bin',\n",
       "       'do_get_Hypertension_bin', 'Cholesterol_Level_ord',\n",
       "       'do_Family_History_bin', 'Cognitive_Test_Score_num',\n",
       "       'Depression_Level_ord', 'Sleep_Quality_Level_ord', 'Diet_level_ord',\n",
       "       'Air_Pollution_Exposure_level_ord', 'Employment_Status_nom',\n",
       "       'Marital_Status_nom', 'do_get_Genetic_Risk_Factor_bin',\n",
       "       'Social_Engagement_Level_ord', 'Income_Level_ord', 'Stress_Levels_ord',\n",
       "       'living_place_urban_or_rural_nom', 'do_get_Alzheimer'],\n",
       "      dtype='object')"
      ]
     },
     "execution_count": 22,
     "metadata": {},
     "output_type": "execute_result"
    }
   ],
   "source": [
    "df.columns\n"
   ]
  },
  {
   "cell_type": "code",
   "execution_count": null,
   "metadata": {},
   "outputs": [
    {
     "data": {
      "text/html": [
       "<div>\n",
       "<style scoped>\n",
       "    .dataframe tbody tr th:only-of-type {\n",
       "        vertical-align: middle;\n",
       "    }\n",
       "\n",
       "    .dataframe tbody tr th {\n",
       "        vertical-align: top;\n",
       "    }\n",
       "\n",
       "    .dataframe thead th {\n",
       "        text-align: right;\n",
       "    }\n",
       "</style>\n",
       "<table border=\"1\" class=\"dataframe\">\n",
       "  <thead>\n",
       "    <tr style=\"text-align: right;\">\n",
       "      <th></th>\n",
       "      <th>Age_num</th>\n",
       "      <th>Education_Level_num</th>\n",
       "      <th>BMI_num</th>\n",
       "      <th>Cognitive_Test_Score_num</th>\n",
       "      <th>do_get_Diabetes_bin</th>\n",
       "      <th>do_get_Hypertension_bin</th>\n",
       "      <th>do_Family_History_bin</th>\n",
       "      <th>do_get_Genetic_Risk_Factor_bin</th>\n",
       "      <th>Country_nom</th>\n",
       "      <th>Gender_nom</th>\n",
       "      <th>...</th>\n",
       "      <th>Alcohol_Consumption_Level_ord</th>\n",
       "      <th>Cholesterol_Level_ord</th>\n",
       "      <th>Depression_Level_ord</th>\n",
       "      <th>Sleep_Quality_Level_ord</th>\n",
       "      <th>Diet_level_ord</th>\n",
       "      <th>Air_Pollution_Exposure_level_ord</th>\n",
       "      <th>Social_Engagement_Level_ord</th>\n",
       "      <th>Income_Level_ord</th>\n",
       "      <th>Stress_Levels_ord</th>\n",
       "      <th>do_get_Alzheimer</th>\n",
       "    </tr>\n",
       "  </thead>\n",
       "  <tbody>\n",
       "    <tr>\n",
       "      <th>0</th>\n",
       "      <td>52</td>\n",
       "      <td>6</td>\n",
       "      <td>21.4</td>\n",
       "      <td>67</td>\n",
       "      <td>No</td>\n",
       "      <td>No</td>\n",
       "      <td>No</td>\n",
       "      <td>Yes</td>\n",
       "      <td>France</td>\n",
       "      <td>Female</td>\n",
       "      <td>...</td>\n",
       "      <td>Occasionally</td>\n",
       "      <td>Normal</td>\n",
       "      <td>Medium</td>\n",
       "      <td>Poor</td>\n",
       "      <td>Healthy</td>\n",
       "      <td>High</td>\n",
       "      <td>High</td>\n",
       "      <td>High</td>\n",
       "      <td>High</td>\n",
       "      <td>Yes</td>\n",
       "    </tr>\n",
       "    <tr>\n",
       "      <th>1</th>\n",
       "      <td>62</td>\n",
       "      <td>4</td>\n",
       "      <td>28.7</td>\n",
       "      <td>73</td>\n",
       "      <td>No</td>\n",
       "      <td>Yes</td>\n",
       "      <td>Yes</td>\n",
       "      <td>No</td>\n",
       "      <td>Spain</td>\n",
       "      <td>Female</td>\n",
       "      <td>...</td>\n",
       "      <td>Occasionally</td>\n",
       "      <td>Normal</td>\n",
       "      <td>Low</td>\n",
       "      <td>Good</td>\n",
       "      <td>Average</td>\n",
       "      <td>High</td>\n",
       "      <td>Low</td>\n",
       "      <td>Medium</td>\n",
       "      <td>Medium</td>\n",
       "      <td>No</td>\n",
       "    </tr>\n",
       "    <tr>\n",
       "      <th>2</th>\n",
       "      <td>52</td>\n",
       "      <td>19</td>\n",
       "      <td>21.3</td>\n",
       "      <td>91</td>\n",
       "      <td>No</td>\n",
       "      <td>No</td>\n",
       "      <td>No</td>\n",
       "      <td>No</td>\n",
       "      <td>Australia</td>\n",
       "      <td>Male</td>\n",
       "      <td>...</td>\n",
       "      <td>Occasionally</td>\n",
       "      <td>High</td>\n",
       "      <td>Low</td>\n",
       "      <td>Good</td>\n",
       "      <td>Unhealthy</td>\n",
       "      <td>Medium</td>\n",
       "      <td>High</td>\n",
       "      <td>Medium</td>\n",
       "      <td>Low</td>\n",
       "      <td>No</td>\n",
       "    </tr>\n",
       "    <tr>\n",
       "      <th>3</th>\n",
       "      <td>74</td>\n",
       "      <td>15</td>\n",
       "      <td>32.4</td>\n",
       "      <td>70</td>\n",
       "      <td>No</td>\n",
       "      <td>No</td>\n",
       "      <td>No</td>\n",
       "      <td>No</td>\n",
       "      <td>Norway</td>\n",
       "      <td>Male</td>\n",
       "      <td>...</td>\n",
       "      <td>Never</td>\n",
       "      <td>Normal</td>\n",
       "      <td>Medium</td>\n",
       "      <td>Average</td>\n",
       "      <td>Average</td>\n",
       "      <td>Low</td>\n",
       "      <td>Low</td>\n",
       "      <td>High</td>\n",
       "      <td>High</td>\n",
       "      <td>No</td>\n",
       "    </tr>\n",
       "    <tr>\n",
       "      <th>4</th>\n",
       "      <td>94</td>\n",
       "      <td>17</td>\n",
       "      <td>33.9</td>\n",
       "      <td>76</td>\n",
       "      <td>No</td>\n",
       "      <td>Yes</td>\n",
       "      <td>Yes</td>\n",
       "      <td>No</td>\n",
       "      <td>Saudi Arabia</td>\n",
       "      <td>Female</td>\n",
       "      <td>...</td>\n",
       "      <td>Regularly</td>\n",
       "      <td>High</td>\n",
       "      <td>Medium</td>\n",
       "      <td>Good</td>\n",
       "      <td>Unhealthy</td>\n",
       "      <td>Medium</td>\n",
       "      <td>Medium</td>\n",
       "      <td>High</td>\n",
       "      <td>High</td>\n",
       "      <td>Yes</td>\n",
       "    </tr>\n",
       "  </tbody>\n",
       "</table>\n",
       "<p>5 rows × 25 columns</p>\n",
       "</div>"
      ],
      "text/plain": [
       "   Age_num  Education_Level_num  BMI_num  Cognitive_Test_Score_num  \\\n",
       "0       52                    6     21.4                        67   \n",
       "1       62                    4     28.7                        73   \n",
       "2       52                   19     21.3                        91   \n",
       "3       74                   15     32.4                        70   \n",
       "4       94                   17     33.9                        76   \n",
       "\n",
       "  do_get_Diabetes_bin do_get_Hypertension_bin do_Family_History_bin  \\\n",
       "0                  No                      No                    No   \n",
       "1                  No                     Yes                   Yes   \n",
       "2                  No                      No                    No   \n",
       "3                  No                      No                    No   \n",
       "4                  No                     Yes                   Yes   \n",
       "\n",
       "  do_get_Genetic_Risk_Factor_bin   Country_nom Gender_nom  ...  \\\n",
       "0                            Yes        France     Female  ...   \n",
       "1                             No         Spain     Female  ...   \n",
       "2                             No     Australia       Male  ...   \n",
       "3                             No        Norway       Male  ...   \n",
       "4                             No  Saudi Arabia     Female  ...   \n",
       "\n",
       "  Alcohol_Consumption_Level_ord Cholesterol_Level_ord Depression_Level_ord  \\\n",
       "0                  Occasionally                Normal               Medium   \n",
       "1                  Occasionally                Normal                  Low   \n",
       "2                  Occasionally                  High                  Low   \n",
       "3                         Never                Normal               Medium   \n",
       "4                     Regularly                  High               Medium   \n",
       "\n",
       "  Sleep_Quality_Level_ord Diet_level_ord Air_Pollution_Exposure_level_ord  \\\n",
       "0                    Poor        Healthy                             High   \n",
       "1                    Good        Average                             High   \n",
       "2                    Good      Unhealthy                           Medium   \n",
       "3                 Average        Average                              Low   \n",
       "4                    Good      Unhealthy                           Medium   \n",
       "\n",
       "  Social_Engagement_Level_ord Income_Level_ord Stress_Levels_ord  \\\n",
       "0                        High             High              High   \n",
       "1                         Low           Medium            Medium   \n",
       "2                        High           Medium               Low   \n",
       "3                         Low             High              High   \n",
       "4                      Medium             High              High   \n",
       "\n",
       "  do_get_Alzheimer  \n",
       "0              Yes  \n",
       "1               No  \n",
       "2               No  \n",
       "3               No  \n",
       "4              Yes  \n",
       "\n",
       "[5 rows x 25 columns]"
      ]
     },
     "execution_count": 24,
     "metadata": {},
     "output_type": "execute_result"
    }
   ],
   "source": [
    "cols = pd.Series(df.columns)\n",
    "numeric_cols = cols[cols.str.endswith(\"num\")].tolist()\n",
    "binary_cols = cols[cols.str.endswith(\"bin\")].tolist()\n",
    "nominal_cols = cols[cols.str.endswith(\"nom\")].tolist()\n",
    "ordinal_cols = cols[cols.str.endswith(\"ord\")].tolist()\n",
    "\n",
    "target_col = \"do_get_Alzheimer\"\n",
    "\n",
    "\n",
    "\n",
    "df = df[numeric_cols + binary_cols + nominal_cols + ordinal_cols + [target_col]]\n",
    "\n",
    "\n",
    "\n",
    "df.head()\n"
   ]
  },
  {
   "cell_type": "markdown",
   "metadata": {},
   "source": [
    "Kiem tra kieu du lieu cac cot\n"
   ]
  },
  {
   "cell_type": "code",
   "execution_count": null,
   "metadata": {},
   "outputs": [
    {
     "name": "stdout",
     "output_type": "stream",
     "text": [
      "<class 'pandas.core.frame.DataFrame'>\n",
      "RangeIndex: 66854 entries, 0 to 66853\n",
      "Data columns (total 25 columns):\n",
      " #   Column                            Non-Null Count  Dtype  \n",
      "---  ------                            --------------  -----  \n",
      " 0   Age_num                           66854 non-null  int64  \n",
      " 1   Education_Level_num               66854 non-null  int64  \n",
      " 2   BMI_num                           66854 non-null  float64\n",
      " 3   Cognitive_Test_Score_num          66854 non-null  int64  \n",
      " 4   do_get_Diabetes_bin               66854 non-null  object \n",
      " 5   do_get_Hypertension_bin           66854 non-null  object \n",
      " 6   do_Family_History_bin             66854 non-null  object \n",
      " 7   do_get_Genetic_Risk_Factor_bin    66854 non-null  object \n",
      " 8   Country_nom                       66854 non-null  object \n",
      " 9   Gender_nom                        66854 non-null  object \n",
      " 10  Employment_Status_nom             66854 non-null  object \n",
      " 11  Marital_Status_nom                66854 non-null  object \n",
      " 12  living_place_urban_or_rural_nom   66854 non-null  object \n",
      " 13  Physical_Activity_Level_ord       66854 non-null  object \n",
      " 14  Smoking_Status_level_ord          66854 non-null  object \n",
      " 15  Alcohol_Consumption_Level_ord     66854 non-null  object \n",
      " 16  Cholesterol_Level_ord             66854 non-null  object \n",
      " 17  Depression_Level_ord              66854 non-null  object \n",
      " 18  Sleep_Quality_Level_ord           66854 non-null  object \n",
      " 19  Diet_level_ord                    66854 non-null  object \n",
      " 20  Air_Pollution_Exposure_level_ord  66854 non-null  object \n",
      " 21  Social_Engagement_Level_ord       66854 non-null  object \n",
      " 22  Income_Level_ord                  66854 non-null  object \n",
      " 23  Stress_Levels_ord                 66854 non-null  object \n",
      " 24  do_get_Alzheimer                  66854 non-null  object \n",
      "dtypes: float64(1), int64(3), object(21)\n",
      "memory usage: 12.8+ MB\n"
     ]
    }
   ],
   "source": [
    "df.info()\n"
   ]
  },
  {
   "cell_type": "markdown",
   "metadata": {},
   "source": [
    "DUNG\n",
    "\n",
    "- Age\n",
    "- Education_Level\n",
    "- BMI\n",
    "- Cognitive_Test_Score\n",
    "\n",
    "---\n",
    "\n",
    "SAI\n",
    "|Cot|Hien tai | Phai la|\n",
    "|---|---|---|\n",
    "|do_get_Diabetes | object | int |\n",
    "|do_get_Hypertension | object | int |\n",
    "|do_Family_History | object | int |\n",
    "|do_get_Genetic_Risk_Factor | object | int |\n",
    "|Gender | object | category |\n",
    "|Country | object | category |\n",
    "|Employment_Status | object | category |\n",
    "|Marital_Status | object | category |\n",
    "|living_place_urban_or_rural | object | category |\n",
    "|Physical_Activity_Level | object | category |\n",
    "|Smoking_Status_level | object | category |\n",
    "|Alcohol_Consumption_Level | object | category |\n",
    "|Cholesterol_Level | object | category |\n",
    "|Depression_Level | object | category |\n",
    "|Sleep_Quality_Level | object | category |\n",
    "|Diet_level | object | category |\n",
    "|Air_Pollution_Exposure_level | object | category |\n",
    "|Social_Engagement_Level | object | category |\n",
    "|Income_Level | object | category |\n",
    "|Stress_Levels | object | category |\n",
    "|do_get_Alzheimer | object | category |\n"
   ]
  },
  {
   "cell_type": "markdown",
   "metadata": {},
   "source": [
    "Kiem tra cac cot co kdl = kdlmm + NA\n"
   ]
  },
  {
   "cell_type": "code",
   "execution_count": null,
   "metadata": {},
   "outputs": [
    {
     "data": {
      "text/plain": [
       "{str}"
      ]
     },
     "execution_count": 26,
     "metadata": {},
     "output_type": "execute_result"
    }
   ],
   "source": [
    "set(map(type, df[\"do_get_Diabetes_bin\"]))\n"
   ]
  },
  {
   "cell_type": "code",
   "execution_count": null,
   "metadata": {},
   "outputs": [
    {
     "data": {
      "text/plain": [
       "{str}"
      ]
     },
     "execution_count": 27,
     "metadata": {},
     "output_type": "execute_result"
    }
   ],
   "source": [
    "set(map(type, df[\"do_get_Hypertension_bin\"]))\n"
   ]
  },
  {
   "cell_type": "code",
   "execution_count": null,
   "metadata": {},
   "outputs": [
    {
     "data": {
      "text/plain": [
       "{str}"
      ]
     },
     "execution_count": 28,
     "metadata": {},
     "output_type": "execute_result"
    }
   ],
   "source": [
    "set(map(type, df[\"do_Family_History_bin\"]))\n"
   ]
  },
  {
   "cell_type": "code",
   "execution_count": null,
   "metadata": {},
   "outputs": [
    {
     "data": {
      "text/plain": [
       "{str}"
      ]
     },
     "execution_count": 29,
     "metadata": {},
     "output_type": "execute_result"
    }
   ],
   "source": [
    "set(map(type, df[\"do_get_Genetic_Risk_Factor_bin\"]))\n"
   ]
  },
  {
   "cell_type": "code",
   "execution_count": null,
   "metadata": {},
   "outputs": [
    {
     "data": {
      "text/plain": [
       "{str}"
      ]
     },
     "execution_count": 30,
     "metadata": {},
     "output_type": "execute_result"
    }
   ],
   "source": [
    "set(map(type, df[\"Gender_nom\"]))\n"
   ]
  },
  {
   "cell_type": "code",
   "execution_count": null,
   "metadata": {},
   "outputs": [
    {
     "data": {
      "text/plain": [
       "{str}"
      ]
     },
     "execution_count": 31,
     "metadata": {},
     "output_type": "execute_result"
    }
   ],
   "source": [
    "set(map(type, df[\"Country_nom\"]))\n"
   ]
  },
  {
   "cell_type": "code",
   "execution_count": null,
   "metadata": {},
   "outputs": [
    {
     "data": {
      "text/plain": [
       "{str}"
      ]
     },
     "execution_count": 32,
     "metadata": {},
     "output_type": "execute_result"
    }
   ],
   "source": [
    "set(map(type, df[\"Employment_Status_nom\"]))\n"
   ]
  },
  {
   "cell_type": "code",
   "execution_count": null,
   "metadata": {},
   "outputs": [
    {
     "data": {
      "text/plain": [
       "{str}"
      ]
     },
     "execution_count": 33,
     "metadata": {},
     "output_type": "execute_result"
    }
   ],
   "source": [
    "set(map(type, df[\"Marital_Status_nom\"]))\n"
   ]
  },
  {
   "cell_type": "code",
   "execution_count": null,
   "metadata": {},
   "outputs": [
    {
     "data": {
      "text/plain": [
       "{str}"
      ]
     },
     "execution_count": 34,
     "metadata": {},
     "output_type": "execute_result"
    }
   ],
   "source": [
    "set(map(type, df[\"living_place_urban_or_rural_nom\"]))\n"
   ]
  },
  {
   "cell_type": "code",
   "execution_count": null,
   "metadata": {},
   "outputs": [
    {
     "data": {
      "text/plain": [
       "{str}"
      ]
     },
     "execution_count": 35,
     "metadata": {},
     "output_type": "execute_result"
    }
   ],
   "source": [
    "set(map(type, df[\"Physical_Activity_Level_ord\"]))\n"
   ]
  },
  {
   "cell_type": "code",
   "execution_count": null,
   "metadata": {},
   "outputs": [
    {
     "data": {
      "text/plain": [
       "{str}"
      ]
     },
     "execution_count": 36,
     "metadata": {},
     "output_type": "execute_result"
    }
   ],
   "source": [
    "set(map(type, df[\"Smoking_Status_level_ord\"]))\n"
   ]
  },
  {
   "cell_type": "code",
   "execution_count": null,
   "metadata": {},
   "outputs": [
    {
     "data": {
      "text/plain": [
       "{str}"
      ]
     },
     "execution_count": 37,
     "metadata": {},
     "output_type": "execute_result"
    }
   ],
   "source": [
    "set(map(type, df[\"Alcohol_Consumption_Level_ord\"]))\n"
   ]
  },
  {
   "cell_type": "code",
   "execution_count": null,
   "metadata": {},
   "outputs": [
    {
     "data": {
      "text/plain": [
       "{str}"
      ]
     },
     "execution_count": 38,
     "metadata": {},
     "output_type": "execute_result"
    }
   ],
   "source": [
    "set(map(type, df[\"Cholesterol_Level_ord\"]))\n"
   ]
  },
  {
   "cell_type": "code",
   "execution_count": null,
   "metadata": {},
   "outputs": [
    {
     "data": {
      "text/plain": [
       "{str}"
      ]
     },
     "execution_count": 39,
     "metadata": {},
     "output_type": "execute_result"
    }
   ],
   "source": [
    "set(map(type, df[\"Depression_Level_ord\"]))\n"
   ]
  },
  {
   "cell_type": "code",
   "execution_count": null,
   "metadata": {},
   "outputs": [
    {
     "data": {
      "text/plain": [
       "{str}"
      ]
     },
     "execution_count": 40,
     "metadata": {},
     "output_type": "execute_result"
    }
   ],
   "source": [
    "set(map(type, df[\"Sleep_Quality_Level_ord\"]))\n"
   ]
  },
  {
   "cell_type": "code",
   "execution_count": null,
   "metadata": {},
   "outputs": [
    {
     "data": {
      "text/plain": [
       "{str}"
      ]
     },
     "execution_count": 41,
     "metadata": {},
     "output_type": "execute_result"
    }
   ],
   "source": [
    "set(map(type, df[\"Diet_level_ord\"]))\n"
   ]
  },
  {
   "cell_type": "code",
   "execution_count": null,
   "metadata": {},
   "outputs": [
    {
     "data": {
      "text/plain": [
       "{str}"
      ]
     },
     "execution_count": 42,
     "metadata": {},
     "output_type": "execute_result"
    }
   ],
   "source": [
    "set(map(type, df[\"Air_Pollution_Exposure_level_ord\"]))\n"
   ]
  },
  {
   "cell_type": "code",
   "execution_count": null,
   "metadata": {},
   "outputs": [
    {
     "data": {
      "text/plain": [
       "{str}"
      ]
     },
     "execution_count": 43,
     "metadata": {},
     "output_type": "execute_result"
    }
   ],
   "source": [
    "set(map(type, df[\"Social_Engagement_Level_ord\"]))\n"
   ]
  },
  {
   "cell_type": "code",
   "execution_count": null,
   "metadata": {},
   "outputs": [
    {
     "data": {
      "text/plain": [
       "{str}"
      ]
     },
     "execution_count": 44,
     "metadata": {},
     "output_type": "execute_result"
    }
   ],
   "source": [
    "set(map(type, df[\"Income_Level_ord\"]))\n"
   ]
  },
  {
   "cell_type": "code",
   "execution_count": null,
   "metadata": {},
   "outputs": [
    {
     "data": {
      "text/plain": [
       "{str}"
      ]
     },
     "execution_count": 45,
     "metadata": {},
     "output_type": "execute_result"
    }
   ],
   "source": [
    "set(map(type, df[\"Stress_Levels_ord\"]))\n"
   ]
  },
  {
   "cell_type": "code",
   "execution_count": null,
   "metadata": {},
   "outputs": [
    {
     "data": {
      "text/plain": [
       "{str}"
      ]
     },
     "execution_count": 46,
     "metadata": {},
     "output_type": "execute_result"
    }
   ],
   "source": [
    "set(map(type, df[\"do_get_Alzheimer\"]))\n"
   ]
  },
  {
   "cell_type": "markdown",
   "metadata": {},
   "source": [
    "Kiem tra noi dung cac cot\n",
    "\n",
    "Cot numeric\n"
   ]
  },
  {
   "cell_type": "code",
   "execution_count": null,
   "metadata": {},
   "outputs": [
    {
     "data": {
      "text/html": [
       "<div>\n",
       "<style scoped>\n",
       "    .dataframe tbody tr th:only-of-type {\n",
       "        vertical-align: middle;\n",
       "    }\n",
       "\n",
       "    .dataframe tbody tr th {\n",
       "        vertical-align: top;\n",
       "    }\n",
       "\n",
       "    .dataframe thead th {\n",
       "        text-align: right;\n",
       "    }\n",
       "</style>\n",
       "<table border=\"1\" class=\"dataframe\">\n",
       "  <thead>\n",
       "    <tr style=\"text-align: right;\">\n",
       "      <th></th>\n",
       "      <th>Age_num</th>\n",
       "      <th>Education_Level_num</th>\n",
       "      <th>BMI_num</th>\n",
       "      <th>Cognitive_Test_Score_num</th>\n",
       "    </tr>\n",
       "  </thead>\n",
       "  <tbody>\n",
       "    <tr>\n",
       "      <th>min</th>\n",
       "      <td>50.000000</td>\n",
       "      <td>0.000000</td>\n",
       "      <td>18.500000</td>\n",
       "      <td>30.000000</td>\n",
       "    </tr>\n",
       "    <tr>\n",
       "      <th>max</th>\n",
       "      <td>94.000000</td>\n",
       "      <td>19.000000</td>\n",
       "      <td>35.000000</td>\n",
       "      <td>99.000000</td>\n",
       "    </tr>\n",
       "    <tr>\n",
       "      <th>mean</th>\n",
       "      <td>71.930969</td>\n",
       "      <td>9.489918</td>\n",
       "      <td>26.781271</td>\n",
       "      <td>64.655503</td>\n",
       "    </tr>\n",
       "  </tbody>\n",
       "</table>\n",
       "</div>"
      ],
      "text/plain": [
       "        Age_num  Education_Level_num    BMI_num  Cognitive_Test_Score_num\n",
       "min   50.000000             0.000000  18.500000                 30.000000\n",
       "max   94.000000            19.000000  35.000000                 99.000000\n",
       "mean  71.930969             9.489918  26.781271                 64.655503"
      ]
     },
     "execution_count": 47,
     "metadata": {},
     "output_type": "execute_result"
    }
   ],
   "source": [
    "df[numeric_cols].describe().loc[[\"min\", \"max\", \"mean\"]]\n"
   ]
  },
  {
   "cell_type": "markdown",
   "metadata": {},
   "source": [
    "Cot binary\n"
   ]
  },
  {
   "cell_type": "code",
   "execution_count": null,
   "metadata": {},
   "outputs": [
    {
     "name": "stdout",
     "output_type": "stream",
     "text": [
      "do_get_Diabetes_bin -> ['No', 'Yes']\n",
      "do_get_Hypertension_bin -> ['No', 'Yes']\n",
      "do_Family_History_bin -> ['No', 'Yes']\n",
      "do_get_Genetic_Risk_Factor_bin -> ['Yes', 'No']\n"
     ]
    }
   ],
   "source": [
    "for col in binary_cols:\n",
    "    print(f\"{col} -> {df[col].unique().tolist()}\")\n"
   ]
  },
  {
   "cell_type": "markdown",
   "metadata": {},
   "source": [
    "Cot nominal\n"
   ]
  },
  {
   "cell_type": "code",
   "execution_count": null,
   "metadata": {},
   "outputs": [
    {
     "name": "stdout",
     "output_type": "stream",
     "text": [
      "Country_nom -> ['France', 'Spain', 'Australia', 'Norway', 'Saudi Arabia', 'South Korea', 'Japan', 'Germany', 'Mexico', 'Argentina', 'China', 'USA', 'Brazil', 'Russia', 'Sweden', 'South Africa', 'India', 'Italy', 'UK', 'Canada']\n",
      "Gender_nom -> ['Female', 'Male']\n",
      "Employment_Status_nom -> ['Employed', 'Retired', 'Unemployed']\n",
      "Marital_Status_nom -> ['Married', 'Widowed', 'Single']\n",
      "living_place_urban_or_rural_nom -> ['Rural', 'Urban']\n"
     ]
    }
   ],
   "source": [
    "for col in nominal_cols:\n",
    "    print(f\"{col} -> {df[col].unique().tolist()}\")\n"
   ]
  },
  {
   "cell_type": "markdown",
   "metadata": {},
   "source": [
    "Cot ordinal\n"
   ]
  },
  {
   "cell_type": "code",
   "execution_count": null,
   "metadata": {},
   "outputs": [
    {
     "name": "stdout",
     "output_type": "stream",
     "text": [
      "Physical_Activity_Level_ord -> ['High', 'Low', 'Medium']\n",
      "Smoking_Status_level_ord -> ['Current', 'Former', 'Never']\n",
      "Alcohol_Consumption_Level_ord -> ['Occasionally', 'Never', 'Regularly']\n",
      "Cholesterol_Level_ord -> ['Normal', 'High']\n",
      "Depression_Level_ord -> ['Medium', 'Low', 'High']\n",
      "Sleep_Quality_Level_ord -> ['Poor', 'Good', 'Average']\n",
      "Diet_level_ord -> ['Healthy', 'Average', 'Unhealthy']\n",
      "Air_Pollution_Exposure_level_ord -> ['High', 'Medium', 'Low']\n",
      "Social_Engagement_Level_ord -> ['High', 'Low', 'Medium']\n",
      "Income_Level_ord -> ['High', 'Medium', 'Low']\n",
      "Stress_Levels_ord -> ['High', 'Medium', 'Low']\n"
     ]
    }
   ],
   "source": [
    "for col in ordinal_cols:\n",
    "    print(f\"{col} -> {df[col].unique().tolist()}\")\n"
   ]
  },
  {
   "cell_type": "markdown",
   "metadata": {},
   "source": [
    "Cot target\n"
   ]
  },
  {
   "cell_type": "code",
   "execution_count": null,
   "metadata": {},
   "outputs": [
    {
     "name": "stdout",
     "output_type": "stream",
     "text": [
      "do_get_Alzheimer -> ['Yes', 'No']\n"
     ]
    }
   ],
   "source": [
    "print(f\"{target_col} -> {df[target_col].unique().tolist()}\")\n"
   ]
  },
  {
   "cell_type": "markdown",
   "metadata": {},
   "source": [
    "Fill missing value\n"
   ]
  },
  {
   "cell_type": "code",
   "execution_count": null,
   "metadata": {},
   "outputs": [
    {
     "data": {
      "text/html": [
       "<div>\n",
       "<style scoped>\n",
       "    .dataframe tbody tr th:only-of-type {\n",
       "        vertical-align: middle;\n",
       "    }\n",
       "\n",
       "    .dataframe tbody tr th {\n",
       "        vertical-align: top;\n",
       "    }\n",
       "\n",
       "    .dataframe thead th {\n",
       "        text-align: right;\n",
       "    }\n",
       "</style>\n",
       "<table border=\"1\" class=\"dataframe\">\n",
       "  <thead>\n",
       "    <tr style=\"text-align: right;\">\n",
       "      <th></th>\n",
       "      <th>Age_num</th>\n",
       "      <th>Education_Level_num</th>\n",
       "      <th>BMI_num</th>\n",
       "      <th>Cognitive_Test_Score_num</th>\n",
       "      <th>do_get_Diabetes_bin</th>\n",
       "      <th>do_get_Hypertension_bin</th>\n",
       "      <th>do_Family_History_bin</th>\n",
       "      <th>do_get_Genetic_Risk_Factor_bin</th>\n",
       "      <th>Country_nom</th>\n",
       "      <th>Gender_nom</th>\n",
       "      <th>...</th>\n",
       "      <th>Alcohol_Consumption_Level_ord</th>\n",
       "      <th>Cholesterol_Level_ord</th>\n",
       "      <th>Depression_Level_ord</th>\n",
       "      <th>Sleep_Quality_Level_ord</th>\n",
       "      <th>Diet_level_ord</th>\n",
       "      <th>Air_Pollution_Exposure_level_ord</th>\n",
       "      <th>Social_Engagement_Level_ord</th>\n",
       "      <th>Income_Level_ord</th>\n",
       "      <th>Stress_Levels_ord</th>\n",
       "      <th>do_get_Alzheimer</th>\n",
       "    </tr>\n",
       "  </thead>\n",
       "  <tbody>\n",
       "    <tr>\n",
       "      <th>0</th>\n",
       "      <td>52.0</td>\n",
       "      <td>6.0</td>\n",
       "      <td>21.4</td>\n",
       "      <td>67.0</td>\n",
       "      <td>No</td>\n",
       "      <td>No</td>\n",
       "      <td>No</td>\n",
       "      <td>Yes</td>\n",
       "      <td>France</td>\n",
       "      <td>Female</td>\n",
       "      <td>...</td>\n",
       "      <td>Occasionally</td>\n",
       "      <td>Normal</td>\n",
       "      <td>Medium</td>\n",
       "      <td>Poor</td>\n",
       "      <td>Healthy</td>\n",
       "      <td>High</td>\n",
       "      <td>High</td>\n",
       "      <td>High</td>\n",
       "      <td>High</td>\n",
       "      <td>Yes</td>\n",
       "    </tr>\n",
       "    <tr>\n",
       "      <th>1</th>\n",
       "      <td>62.0</td>\n",
       "      <td>4.0</td>\n",
       "      <td>28.7</td>\n",
       "      <td>73.0</td>\n",
       "      <td>No</td>\n",
       "      <td>Yes</td>\n",
       "      <td>Yes</td>\n",
       "      <td>No</td>\n",
       "      <td>Spain</td>\n",
       "      <td>Female</td>\n",
       "      <td>...</td>\n",
       "      <td>Occasionally</td>\n",
       "      <td>Normal</td>\n",
       "      <td>Low</td>\n",
       "      <td>Good</td>\n",
       "      <td>Average</td>\n",
       "      <td>High</td>\n",
       "      <td>Low</td>\n",
       "      <td>Medium</td>\n",
       "      <td>Medium</td>\n",
       "      <td>No</td>\n",
       "    </tr>\n",
       "    <tr>\n",
       "      <th>2</th>\n",
       "      <td>52.0</td>\n",
       "      <td>19.0</td>\n",
       "      <td>21.3</td>\n",
       "      <td>91.0</td>\n",
       "      <td>No</td>\n",
       "      <td>No</td>\n",
       "      <td>No</td>\n",
       "      <td>No</td>\n",
       "      <td>Australia</td>\n",
       "      <td>Male</td>\n",
       "      <td>...</td>\n",
       "      <td>Occasionally</td>\n",
       "      <td>High</td>\n",
       "      <td>Low</td>\n",
       "      <td>Good</td>\n",
       "      <td>Unhealthy</td>\n",
       "      <td>Medium</td>\n",
       "      <td>High</td>\n",
       "      <td>Medium</td>\n",
       "      <td>Low</td>\n",
       "      <td>No</td>\n",
       "    </tr>\n",
       "    <tr>\n",
       "      <th>3</th>\n",
       "      <td>74.0</td>\n",
       "      <td>15.0</td>\n",
       "      <td>32.4</td>\n",
       "      <td>70.0</td>\n",
       "      <td>No</td>\n",
       "      <td>No</td>\n",
       "      <td>No</td>\n",
       "      <td>No</td>\n",
       "      <td>Norway</td>\n",
       "      <td>Male</td>\n",
       "      <td>...</td>\n",
       "      <td>Never</td>\n",
       "      <td>Normal</td>\n",
       "      <td>Medium</td>\n",
       "      <td>Average</td>\n",
       "      <td>Average</td>\n",
       "      <td>Low</td>\n",
       "      <td>Low</td>\n",
       "      <td>High</td>\n",
       "      <td>High</td>\n",
       "      <td>No</td>\n",
       "    </tr>\n",
       "    <tr>\n",
       "      <th>4</th>\n",
       "      <td>94.0</td>\n",
       "      <td>17.0</td>\n",
       "      <td>33.9</td>\n",
       "      <td>76.0</td>\n",
       "      <td>No</td>\n",
       "      <td>Yes</td>\n",
       "      <td>Yes</td>\n",
       "      <td>No</td>\n",
       "      <td>Saudi Arabia</td>\n",
       "      <td>Female</td>\n",
       "      <td>...</td>\n",
       "      <td>Regularly</td>\n",
       "      <td>High</td>\n",
       "      <td>Medium</td>\n",
       "      <td>Good</td>\n",
       "      <td>Unhealthy</td>\n",
       "      <td>Medium</td>\n",
       "      <td>Medium</td>\n",
       "      <td>High</td>\n",
       "      <td>High</td>\n",
       "      <td>Yes</td>\n",
       "    </tr>\n",
       "  </tbody>\n",
       "</table>\n",
       "<p>5 rows × 25 columns</p>\n",
       "</div>"
      ],
      "text/plain": [
       "  Age_num Education_Level_num BMI_num Cognitive_Test_Score_num  \\\n",
       "0    52.0                 6.0    21.4                     67.0   \n",
       "1    62.0                 4.0    28.7                     73.0   \n",
       "2    52.0                19.0    21.3                     91.0   \n",
       "3    74.0                15.0    32.4                     70.0   \n",
       "4    94.0                17.0    33.9                     76.0   \n",
       "\n",
       "  do_get_Diabetes_bin do_get_Hypertension_bin do_Family_History_bin  \\\n",
       "0                  No                      No                    No   \n",
       "1                  No                     Yes                   Yes   \n",
       "2                  No                      No                    No   \n",
       "3                  No                      No                    No   \n",
       "4                  No                     Yes                   Yes   \n",
       "\n",
       "  do_get_Genetic_Risk_Factor_bin   Country_nom Gender_nom  ...  \\\n",
       "0                            Yes        France     Female  ...   \n",
       "1                             No         Spain     Female  ...   \n",
       "2                             No     Australia       Male  ...   \n",
       "3                             No        Norway       Male  ...   \n",
       "4                             No  Saudi Arabia     Female  ...   \n",
       "\n",
       "  Alcohol_Consumption_Level_ord Cholesterol_Level_ord Depression_Level_ord  \\\n",
       "0                  Occasionally                Normal               Medium   \n",
       "1                  Occasionally                Normal                  Low   \n",
       "2                  Occasionally                  High                  Low   \n",
       "3                         Never                Normal               Medium   \n",
       "4                     Regularly                  High               Medium   \n",
       "\n",
       "  Sleep_Quality_Level_ord Diet_level_ord Air_Pollution_Exposure_level_ord  \\\n",
       "0                    Poor        Healthy                             High   \n",
       "1                    Good        Average                             High   \n",
       "2                    Good      Unhealthy                           Medium   \n",
       "3                 Average        Average                              Low   \n",
       "4                    Good      Unhealthy                           Medium   \n",
       "\n",
       "  Social_Engagement_Level_ord Income_Level_ord Stress_Levels_ord  \\\n",
       "0                        High             High              High   \n",
       "1                         Low           Medium            Medium   \n",
       "2                        High           Medium               Low   \n",
       "3                         Low             High              High   \n",
       "4                      Medium             High              High   \n",
       "\n",
       "  do_get_Alzheimer  \n",
       "0              Yes  \n",
       "1               No  \n",
       "2               No  \n",
       "3               No  \n",
       "4              Yes  \n",
       "\n",
       "[5 rows x 25 columns]"
      ]
     },
     "execution_count": 52,
     "metadata": {},
     "output_type": "execute_result"
    }
   ],
   "source": [
    "cat_cols = binary_cols + nominal_cols + ordinal_cols + [target_col]\n",
    "\n",
    "preprocessor = ColumnTransformer(\n",
    "    transformers=[\n",
    "        (\"num\", SimpleImputer(strategy=\"mean\"), numeric_cols),\n",
    "        (\"cat\", SimpleImputer(strategy=\"most_frequent\"), cat_cols),\n",
    "    ]\n",
    ")\n",
    "\n",
    "df_filled = preprocessor.fit_transform(df)\n",
    "df_filled = pd.DataFrame(df_filled, columns=numeric_cols + cat_cols)\n",
    "\n",
    "# Luu preprocessor lai\n",
    "folder = \"../artifacts/data_correction\"\n",
    "os.makedirs(folder, exist_ok=True)\n",
    "myfuncs.save_python_object(\n",
    "    file_path=os.path.join(folder, \"missing_value_handler.pkl\"), obj=preprocessor\n",
    ")\n",
    "\n",
    "df_filled.head()\n"
   ]
  },
  {
   "cell_type": "markdown",
   "metadata": {},
   "source": [
    "Chuyen doi ve dung kieu du lieu\n"
   ]
  },
  {
   "cell_type": "code",
   "execution_count": null,
   "metadata": {},
   "outputs": [
    {
     "name": "stdout",
     "output_type": "stream",
     "text": [
      "<class 'pandas.core.frame.DataFrame'>\n",
      "RangeIndex: 66854 entries, 0 to 66853\n",
      "Data columns (total 25 columns):\n",
      " #   Column                            Non-Null Count  Dtype   \n",
      "---  ------                            --------------  -----   \n",
      " 0   Age_num                           66854 non-null  float64 \n",
      " 1   Education_Level_num               66854 non-null  float64 \n",
      " 2   BMI_num                           66854 non-null  float64 \n",
      " 3   Cognitive_Test_Score_num          66854 non-null  float64 \n",
      " 4   do_get_Diabetes_bin               66854 non-null  category\n",
      " 5   do_get_Hypertension_bin           66854 non-null  category\n",
      " 6   do_Family_History_bin             66854 non-null  category\n",
      " 7   do_get_Genetic_Risk_Factor_bin    66854 non-null  category\n",
      " 8   Country_nom                       66854 non-null  category\n",
      " 9   Gender_nom                        66854 non-null  category\n",
      " 10  Employment_Status_nom             66854 non-null  category\n",
      " 11  Marital_Status_nom                66854 non-null  category\n",
      " 12  living_place_urban_or_rural_nom   66854 non-null  category\n",
      " 13  Physical_Activity_Level_ord       66854 non-null  category\n",
      " 14  Smoking_Status_level_ord          66854 non-null  category\n",
      " 15  Alcohol_Consumption_Level_ord     66854 non-null  category\n",
      " 16  Cholesterol_Level_ord             66854 non-null  category\n",
      " 17  Depression_Level_ord              66854 non-null  category\n",
      " 18  Sleep_Quality_Level_ord           66854 non-null  category\n",
      " 19  Diet_level_ord                    66854 non-null  category\n",
      " 20  Air_Pollution_Exposure_level_ord  66854 non-null  category\n",
      " 21  Social_Engagement_Level_ord       66854 non-null  category\n",
      " 22  Income_Level_ord                  66854 non-null  category\n",
      " 23  Stress_Levels_ord                 66854 non-null  category\n",
      " 24  do_get_Alzheimer                  66854 non-null  category\n",
      "dtypes: category(21), float64(4)\n",
      "memory usage: 3.4 MB\n"
     ]
    }
   ],
   "source": [
    "df_filled[numeric_cols] = df_filled[numeric_cols].astype(\"float\")\n",
    "\n",
    "\n",
    "df_filled[cat_cols] = df_filled[cat_cols].astype(\"category\")\n",
    "\n",
    "\n",
    "df_filled.info()\n"
   ]
  },
  {
   "cell_type": "code",
   "execution_count": null,
   "metadata": {},
   "outputs": [
    {
     "data": {
      "text/plain": [
       "Index(['Age_num', 'Education_Level_num', 'BMI_num', 'Cognitive_Test_Score_num',\n",
       "       'do_get_Diabetes_bin', 'do_get_Hypertension_bin',\n",
       "       'do_Family_History_bin', 'do_get_Genetic_Risk_Factor_bin',\n",
       "       'Country_nom', 'Gender_nom', 'Employment_Status_nom',\n",
       "       'Marital_Status_nom', 'living_place_urban_or_rural_nom',\n",
       "       'Physical_Activity_Level_ord', 'Smoking_Status_level_ord',\n",
       "       'Alcohol_Consumption_Level_ord', 'Cholesterol_Level_ord',\n",
       "       'Depression_Level_ord', 'Sleep_Quality_Level_ord', 'Diet_level_ord',\n",
       "       'Air_Pollution_Exposure_level_ord', 'Social_Engagement_Level_ord',\n",
       "       'Income_Level_ord', 'Stress_Levels_ord', 'do_get_Alzheimer'],\n",
       "      dtype='object')"
      ]
     },
     "execution_count": 55,
     "metadata": {},
     "output_type": "execute_result"
    }
   ],
   "source": [
    "df_filled.columns\n"
   ]
  },
  {
   "cell_type": "code",
   "execution_count": null,
   "metadata": {},
   "outputs": [],
   "source": [
    "ord_values_dict = {\n",
    "    \"do_get_Diabetes_bin\": [\"No\", \"Yes\"],\n",
    "    \"do_get_Hypertension_bin\": [\"No\", \"Yes\"],\n",
    "    \"do_Family_History_bin\": [\"No\", \"Yes\"],\n",
    "    \"do_get_Genetic_Risk_Factor_bin\": [\"No\", \"Yes\"],\n",
    "    \"Physical_Activity_Level_ord\": [\"Low\", \"Medium\", \"High\"],\n",
    "    \"Smoking_Status_level_ord\": [\"Never\", \"Former\", \"Current\"],\n",
    "    \"Alcohol_Consumption_Level_ord\": [\"Never\", \"Occasionally\", \"Regularly\"],\n",
    "    \"Cholesterol_Level_ord\": [\"Normal\", \"High\"],\n",
    "    \"Depression_Level_ord\": [\"Low\", \"Medium\", \"High\"],\n",
    "    \"Sleep_Quality_Level_ord\": [\"Poor\", \"Average\", \"Good\"],\n",
    "    \"Diet_level_ord\": [\"Unhealthy\", \"Average\", \"Healthy\"],\n",
    "    \"Air_Pollution_Exposure_level_ord\": [\"Low\", \"Medium\", \"High\"],\n",
    "    \"Social_Engagement_Level_ord\": [\"Low\", \"Medium\", \"High\"],\n",
    "    \"Income_Level_ord\": [\"Low\", \"Medium\", \"High\"],\n",
    "    \"Stress_Levels_ord\": [\"Low\", \"Medium\", \"High\"],\n",
    "    \"do_get_Alzheimer\": [\"No\", \"Yes\"],\n",
    "}\n",
    "\n",
    "for col, value in ord_values_dict.items():\n",
    "    df_filled[col] = df_filled[col].cat.reorder_categories(value, ordered=True)\n"
   ]
  },
  {
   "cell_type": "code",
   "execution_count": null,
   "metadata": {},
   "outputs": [],
   "source": [
    "df_filled[\"do_get_Alzheimer\"].cat.categories\n"
   ]
  },
  {
   "cell_type": "markdown",
   "metadata": {},
   "source": [
    "Check duplicates\n"
   ]
  },
  {
   "cell_type": "code",
   "execution_count": null,
   "metadata": {},
   "outputs": [
    {
     "data": {
      "text/plain": [
       "False"
      ]
     },
     "execution_count": 59,
     "metadata": {},
     "output_type": "execute_result"
    }
   ],
   "source": [
    "any(df_filled.duplicated())\n"
   ]
  },
  {
   "cell_type": "markdown",
   "metadata": {},
   "source": [
    "Khong co duplicates\n"
   ]
  },
  {
   "cell_type": "code",
   "execution_count": null,
   "metadata": {},
   "outputs": [
    {
     "data": {
      "text/plain": [
       "(66854, 25)"
      ]
     },
     "execution_count": 60,
     "metadata": {},
     "output_type": "execute_result"
    }
   ],
   "source": [
    "df_filled.shape\n"
   ]
  },
  {
   "cell_type": "markdown",
   "metadata": {},
   "source": [
    "Chia thanh tap train va tap val\n"
   ]
  },
  {
   "cell_type": "code",
   "execution_count": null,
   "metadata": {},
   "outputs": [],
   "source": [
    "df_train, df_val = train_test_split(\n",
    "    df_filled, test_size=0.2, stratify=df[target_col], random_state=42\n",
    ")\n",
    "\n",
    "myfuncs.save_python_object(os.path.join(folder, \"train_data.pkl\"), df_train)\n",
    "myfuncs.save_python_object(os.path.join(folder, \"val_data.pkl\"), df_val)\n"
   ]
  }
 ],
 "metadata": {
  "kernelspec": {
   "display_name": "Python 3",
   "language": "python",
   "name": "python3"
  },
  "language_info": {
   "codemirror_mode": {
    "name": "ipython",
    "version": 3
   },
   "file_extension": ".py",
   "mimetype": "text/x-python",
   "name": "python",
   "nbconvert_exporter": "python",
   "pygments_lexer": "ipython3",
   "version": "3.10.0"
  }
 },
 "nbformat": 4,
 "nbformat_minor": 2
}
