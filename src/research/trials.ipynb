{
 "cells": [
  {
   "cell_type": "code",
   "execution_count": 1,
   "metadata": {},
   "outputs": [
    {
     "data": {
      "text/plain": [
       "'d:\\\\DA_workspace\\\\Template_ML_projects\\\\alzheimers_prediction_newacc\\\\src'"
      ]
     },
     "execution_count": 1,
     "metadata": {},
     "output_type": "execute_result"
    }
   ],
   "source": [
    "import os\n",
    "\n",
    "\n",
    "os.chdir(\"../\")\n",
    "\n",
    "\n",
    "os.getcwd()\n"
   ]
  },
  {
   "cell_type": "code",
   "execution_count": 2,
   "metadata": {},
   "outputs": [],
   "source": [
    "from classifier.Mylib import myfuncs\n"
   ]
  },
  {
   "cell_type": "code",
   "execution_count": 3,
   "metadata": {},
   "outputs": [
    {
     "data": {
      "application/vnd.microsoft.datawrangler.viewer.v0+json": {
       "columns": [
        {
         "name": "index",
         "rawType": "int64",
         "type": "integer"
        },
        {
         "name": "Age_num",
         "rawType": "float64",
         "type": "float"
        },
        {
         "name": "Education_Level_num",
         "rawType": "float64",
         "type": "float"
        },
        {
         "name": "BMI_num",
         "rawType": "float64",
         "type": "float"
        },
        {
         "name": "Cognitive_Test_Score_num",
         "rawType": "float64",
         "type": "float"
        },
        {
         "name": "do_get_Diabetes_bin",
         "rawType": "category",
         "type": "unknown"
        },
        {
         "name": "do_get_Hypertension_bin",
         "rawType": "category",
         "type": "unknown"
        },
        {
         "name": "do_Family_History_bin",
         "rawType": "category",
         "type": "unknown"
        },
        {
         "name": "do_get_Genetic_Risk_Factor_bin",
         "rawType": "category",
         "type": "unknown"
        },
        {
         "name": "Country_nom",
         "rawType": "category",
         "type": "unknown"
        },
        {
         "name": "Gender_nom",
         "rawType": "category",
         "type": "unknown"
        },
        {
         "name": "Employment_Status_nom",
         "rawType": "category",
         "type": "unknown"
        },
        {
         "name": "Marital_Status_nom",
         "rawType": "category",
         "type": "unknown"
        },
        {
         "name": "living_place_urban_or_rural_nom",
         "rawType": "category",
         "type": "unknown"
        },
        {
         "name": "Physical_Activity_Level_ord",
         "rawType": "category",
         "type": "unknown"
        },
        {
         "name": "Smoking_Status_level_ord",
         "rawType": "category",
         "type": "unknown"
        },
        {
         "name": "Alcohol_Consumption_Level_ord",
         "rawType": "category",
         "type": "unknown"
        },
        {
         "name": "Cholesterol_Level_ord",
         "rawType": "category",
         "type": "unknown"
        },
        {
         "name": "Depression_Level_ord",
         "rawType": "category",
         "type": "unknown"
        },
        {
         "name": "Sleep_Quality_Level_ord",
         "rawType": "category",
         "type": "unknown"
        },
        {
         "name": "Diet_level_ord",
         "rawType": "category",
         "type": "unknown"
        },
        {
         "name": "Air_Pollution_Exposure_level_ord",
         "rawType": "category",
         "type": "unknown"
        },
        {
         "name": "Social_Engagement_Level_ord",
         "rawType": "category",
         "type": "unknown"
        },
        {
         "name": "Income_Level_ord",
         "rawType": "category",
         "type": "unknown"
        },
        {
         "name": "Stress_Levels_ord",
         "rawType": "category",
         "type": "unknown"
        },
        {
         "name": "do_get_Alzheimer",
         "rawType": "category",
         "type": "unknown"
        }
       ],
       "conversionMethod": "pd.DataFrame",
       "ref": "a406c1d1-3599-4160-9f19-ff2e24f008fa",
       "rows": [
        [
         "25917",
         "66.0",
         "3.0",
         "34.9",
         "81.0",
         "Yes",
         "Yes",
         "No",
         "No",
         "Australia",
         "Male",
         "Employed",
         "Married",
         "Urban",
         "Low",
         "Current",
         "Regularly",
         "High",
         "Low",
         "Average",
         "Average",
         "Low",
         "Medium",
         "Medium",
         "Low",
         "No"
        ],
        [
         "60019",
         "61.0",
         "13.0",
         "19.8",
         "70.0",
         "No",
         "No",
         "No",
         "No",
         "Canada",
         "Male",
         "Employed",
         "Widowed",
         "Urban",
         "High",
         "Never",
         "Regularly",
         "Normal",
         "Medium",
         "Good",
         "Unhealthy",
         "High",
         "Low",
         "Medium",
         "Low",
         "No"
        ],
        [
         "28540",
         "74.0",
         "10.0",
         "28.8",
         "98.0",
         "No",
         "Yes",
         "No",
         "No",
         "Spain",
         "Male",
         "Unemployed",
         "Single",
         "Rural",
         "High",
         "Current",
         "Never",
         "Normal",
         "High",
         "Good",
         "Average",
         "High",
         "Low",
         "Low",
         "Low",
         "No"
        ],
        [
         "3481",
         "66.0",
         "5.0",
         "20.5",
         "53.0",
         "No",
         "No",
         "No",
         "No",
         "China",
         "Female",
         "Retired",
         "Widowed",
         "Rural",
         "Medium",
         "Current",
         "Occasionally",
         "High",
         "Medium",
         "Poor",
         "Unhealthy",
         "Medium",
         "Low",
         "High",
         "High",
         "No"
        ],
        [
         "1733",
         "73.0",
         "0.0",
         "31.4",
         "32.0",
         "No",
         "Yes",
         "No",
         "No",
         "South Africa",
         "Female",
         "Employed",
         "Single",
         "Urban",
         "Low",
         "Former",
         "Occasionally",
         "Normal",
         "Low",
         "Poor",
         "Average",
         "Low",
         "Medium",
         "High",
         "High",
         "Yes"
        ]
       ],
       "shape": {
        "columns": 25,
        "rows": 5
       }
      },
      "text/html": [
       "<div>\n",
       "<style scoped>\n",
       "    .dataframe tbody tr th:only-of-type {\n",
       "        vertical-align: middle;\n",
       "    }\n",
       "\n",
       "    .dataframe tbody tr th {\n",
       "        vertical-align: top;\n",
       "    }\n",
       "\n",
       "    .dataframe thead th {\n",
       "        text-align: right;\n",
       "    }\n",
       "</style>\n",
       "<table border=\"1\" class=\"dataframe\">\n",
       "  <thead>\n",
       "    <tr style=\"text-align: right;\">\n",
       "      <th></th>\n",
       "      <th>Age_num</th>\n",
       "      <th>Education_Level_num</th>\n",
       "      <th>BMI_num</th>\n",
       "      <th>Cognitive_Test_Score_num</th>\n",
       "      <th>do_get_Diabetes_bin</th>\n",
       "      <th>do_get_Hypertension_bin</th>\n",
       "      <th>do_Family_History_bin</th>\n",
       "      <th>do_get_Genetic_Risk_Factor_bin</th>\n",
       "      <th>Country_nom</th>\n",
       "      <th>Gender_nom</th>\n",
       "      <th>...</th>\n",
       "      <th>Alcohol_Consumption_Level_ord</th>\n",
       "      <th>Cholesterol_Level_ord</th>\n",
       "      <th>Depression_Level_ord</th>\n",
       "      <th>Sleep_Quality_Level_ord</th>\n",
       "      <th>Diet_level_ord</th>\n",
       "      <th>Air_Pollution_Exposure_level_ord</th>\n",
       "      <th>Social_Engagement_Level_ord</th>\n",
       "      <th>Income_Level_ord</th>\n",
       "      <th>Stress_Levels_ord</th>\n",
       "      <th>do_get_Alzheimer</th>\n",
       "    </tr>\n",
       "  </thead>\n",
       "  <tbody>\n",
       "    <tr>\n",
       "      <th>25917</th>\n",
       "      <td>66.0</td>\n",
       "      <td>3.0</td>\n",
       "      <td>34.9</td>\n",
       "      <td>81.0</td>\n",
       "      <td>Yes</td>\n",
       "      <td>Yes</td>\n",
       "      <td>No</td>\n",
       "      <td>No</td>\n",
       "      <td>Australia</td>\n",
       "      <td>Male</td>\n",
       "      <td>...</td>\n",
       "      <td>Regularly</td>\n",
       "      <td>High</td>\n",
       "      <td>Low</td>\n",
       "      <td>Average</td>\n",
       "      <td>Average</td>\n",
       "      <td>Low</td>\n",
       "      <td>Medium</td>\n",
       "      <td>Medium</td>\n",
       "      <td>Low</td>\n",
       "      <td>No</td>\n",
       "    </tr>\n",
       "    <tr>\n",
       "      <th>60019</th>\n",
       "      <td>61.0</td>\n",
       "      <td>13.0</td>\n",
       "      <td>19.8</td>\n",
       "      <td>70.0</td>\n",
       "      <td>No</td>\n",
       "      <td>No</td>\n",
       "      <td>No</td>\n",
       "      <td>No</td>\n",
       "      <td>Canada</td>\n",
       "      <td>Male</td>\n",
       "      <td>...</td>\n",
       "      <td>Regularly</td>\n",
       "      <td>Normal</td>\n",
       "      <td>Medium</td>\n",
       "      <td>Good</td>\n",
       "      <td>Unhealthy</td>\n",
       "      <td>High</td>\n",
       "      <td>Low</td>\n",
       "      <td>Medium</td>\n",
       "      <td>Low</td>\n",
       "      <td>No</td>\n",
       "    </tr>\n",
       "    <tr>\n",
       "      <th>28540</th>\n",
       "      <td>74.0</td>\n",
       "      <td>10.0</td>\n",
       "      <td>28.8</td>\n",
       "      <td>98.0</td>\n",
       "      <td>No</td>\n",
       "      <td>Yes</td>\n",
       "      <td>No</td>\n",
       "      <td>No</td>\n",
       "      <td>Spain</td>\n",
       "      <td>Male</td>\n",
       "      <td>...</td>\n",
       "      <td>Never</td>\n",
       "      <td>Normal</td>\n",
       "      <td>High</td>\n",
       "      <td>Good</td>\n",
       "      <td>Average</td>\n",
       "      <td>High</td>\n",
       "      <td>Low</td>\n",
       "      <td>Low</td>\n",
       "      <td>Low</td>\n",
       "      <td>No</td>\n",
       "    </tr>\n",
       "    <tr>\n",
       "      <th>3481</th>\n",
       "      <td>66.0</td>\n",
       "      <td>5.0</td>\n",
       "      <td>20.5</td>\n",
       "      <td>53.0</td>\n",
       "      <td>No</td>\n",
       "      <td>No</td>\n",
       "      <td>No</td>\n",
       "      <td>No</td>\n",
       "      <td>China</td>\n",
       "      <td>Female</td>\n",
       "      <td>...</td>\n",
       "      <td>Occasionally</td>\n",
       "      <td>High</td>\n",
       "      <td>Medium</td>\n",
       "      <td>Poor</td>\n",
       "      <td>Unhealthy</td>\n",
       "      <td>Medium</td>\n",
       "      <td>Low</td>\n",
       "      <td>High</td>\n",
       "      <td>High</td>\n",
       "      <td>No</td>\n",
       "    </tr>\n",
       "    <tr>\n",
       "      <th>1733</th>\n",
       "      <td>73.0</td>\n",
       "      <td>0.0</td>\n",
       "      <td>31.4</td>\n",
       "      <td>32.0</td>\n",
       "      <td>No</td>\n",
       "      <td>Yes</td>\n",
       "      <td>No</td>\n",
       "      <td>No</td>\n",
       "      <td>South Africa</td>\n",
       "      <td>Female</td>\n",
       "      <td>...</td>\n",
       "      <td>Occasionally</td>\n",
       "      <td>Normal</td>\n",
       "      <td>Low</td>\n",
       "      <td>Poor</td>\n",
       "      <td>Average</td>\n",
       "      <td>Low</td>\n",
       "      <td>Medium</td>\n",
       "      <td>High</td>\n",
       "      <td>High</td>\n",
       "      <td>Yes</td>\n",
       "    </tr>\n",
       "  </tbody>\n",
       "</table>\n",
       "<p>5 rows × 25 columns</p>\n",
       "</div>"
      ],
      "text/plain": [
       "       Age_num  Education_Level_num  BMI_num  Cognitive_Test_Score_num  \\\n",
       "25917     66.0                  3.0     34.9                      81.0   \n",
       "60019     61.0                 13.0     19.8                      70.0   \n",
       "28540     74.0                 10.0     28.8                      98.0   \n",
       "3481      66.0                  5.0     20.5                      53.0   \n",
       "1733      73.0                  0.0     31.4                      32.0   \n",
       "\n",
       "      do_get_Diabetes_bin do_get_Hypertension_bin do_Family_History_bin  \\\n",
       "25917                 Yes                     Yes                    No   \n",
       "60019                  No                      No                    No   \n",
       "28540                  No                     Yes                    No   \n",
       "3481                   No                      No                    No   \n",
       "1733                   No                     Yes                    No   \n",
       "\n",
       "      do_get_Genetic_Risk_Factor_bin   Country_nom Gender_nom  ...  \\\n",
       "25917                             No     Australia       Male  ...   \n",
       "60019                             No        Canada       Male  ...   \n",
       "28540                             No         Spain       Male  ...   \n",
       "3481                              No         China     Female  ...   \n",
       "1733                              No  South Africa     Female  ...   \n",
       "\n",
       "      Alcohol_Consumption_Level_ord Cholesterol_Level_ord  \\\n",
       "25917                     Regularly                  High   \n",
       "60019                     Regularly                Normal   \n",
       "28540                         Never                Normal   \n",
       "3481                   Occasionally                  High   \n",
       "1733                   Occasionally                Normal   \n",
       "\n",
       "      Depression_Level_ord Sleep_Quality_Level_ord Diet_level_ord  \\\n",
       "25917                  Low                 Average        Average   \n",
       "60019               Medium                    Good      Unhealthy   \n",
       "28540                 High                    Good        Average   \n",
       "3481                Medium                    Poor      Unhealthy   \n",
       "1733                   Low                    Poor        Average   \n",
       "\n",
       "      Air_Pollution_Exposure_level_ord Social_Engagement_Level_ord  \\\n",
       "25917                              Low                      Medium   \n",
       "60019                             High                         Low   \n",
       "28540                             High                         Low   \n",
       "3481                            Medium                         Low   \n",
       "1733                               Low                      Medium   \n",
       "\n",
       "      Income_Level_ord Stress_Levels_ord do_get_Alzheimer  \n",
       "25917           Medium               Low               No  \n",
       "60019           Medium               Low               No  \n",
       "28540              Low               Low               No  \n",
       "3481              High              High               No  \n",
       "1733              High              High              Yes  \n",
       "\n",
       "[5 rows x 25 columns]"
      ]
     },
     "execution_count": 3,
     "metadata": {},
     "output_type": "execute_result"
    }
   ],
   "source": [
    "data = myfuncs.load_python_object(\n",
    "    \"../artifacts/data_correction/train_data.pkl\"\n",
    ")\n",
    "\n",
    "\n",
    "data.head()\n"
   ]
  },
  {
   "cell_type": "code",
   "execution_count": 8,
   "metadata": {},
   "outputs": [
    {
     "data": {
      "text/plain": [
       "(53483, 25)"
      ]
     },
     "execution_count": 8,
     "metadata": {},
     "output_type": "execute_result"
    }
   ],
   "source": [
    "data.shape\n"
   ]
  },
  {
   "cell_type": "code",
   "execution_count": 6,
   "metadata": {},
   "outputs": [
    {
     "data": {
      "text/plain": [
       "False"
      ]
     },
     "execution_count": 6,
     "metadata": {},
     "output_type": "execute_result"
    }
   ],
   "source": [
    "'do_Family_History_bin' in data.columns.tolist()\n"
   ]
  },
  {
   "cell_type": "code",
   "execution_count": null,
   "metadata": {},
   "outputs": [
    {
     "data": {
      "text/plain": [
       "42"
      ]
     },
     "execution_count": 7,
     "metadata": {},
     "output_type": "execute_result"
    }
   ],
   "source": [
    "len(data.columns)\n"
   ]
  },
  {
   "cell_type": "code",
   "execution_count": null,
   "metadata": {},
   "outputs": [
    {
     "data": {
      "text/plain": [
       "0         No\n",
       "1         No\n",
       "2         No\n",
       "3         No\n",
       "4        Yes\n",
       "        ... \n",
       "53478    Yes\n",
       "53479    Yes\n",
       "53480     No\n",
       "53481    Yes\n",
       "53482     No\n",
       "Name: do_get_Alzheimer, Length: 53483, dtype: object"
      ]
     },
     "execution_count": 6,
     "metadata": {},
     "output_type": "execute_result"
    }
   ],
   "source": [
    "label\n"
   ]
  },
  {
   "cell_type": "code",
   "execution_count": null,
   "metadata": {},
   "outputs": [
    {
     "data": {
      "text/plain": [
       "array([1.0, 0.0], dtype=object)"
      ]
     },
     "execution_count": 5,
     "metadata": {},
     "output_type": "execute_result"
    }
   ],
   "source": [
    "data[\"do_get_Hypertension_bin\"].unique()\n"
   ]
  },
  {
   "cell_type": "code",
   "execution_count": null,
   "metadata": {},
   "outputs": [
    {
     "data": {
      "text/plain": [
       "0    0.0\n",
       "1    0.0\n",
       "2    0.0\n",
       "3    0.0\n",
       "4    1.0\n",
       "Name: do_get_Alzheimer, dtype: float64"
      ]
     },
     "execution_count": 4,
     "metadata": {},
     "output_type": "execute_result"
    }
   ],
   "source": [
    "data1 = myfuncs.load_python_object(\n",
    "    \"../artifacts/data_transformation_37/train_target.pkl\"\n",
    ")\n",
    "\n",
    "data1.head()\n"
   ]
  },
  {
   "cell_type": "code",
   "execution_count": null,
   "metadata": {},
   "outputs": [
    {
     "data": {
      "text/plain": [
       "[array(['No', 'Yes'], dtype=object)]"
      ]
     },
     "execution_count": 5,
     "metadata": {},
     "output_type": "execute_result"
    }
   ],
   "source": [
    "classes = myfuncs.load_python_object(\"../artifacts/data_transformation_37/classes.pkl\")\n",
    "\n",
    "classes\n"
   ]
  }
 ],
 "metadata": {
  "kernelspec": {
   "display_name": "Python 3",
   "language": "python",
   "name": "python3"
  },
  "language_info": {
   "codemirror_mode": {
    "name": "ipython",
    "version": 3
   },
   "file_extension": ".py",
   "mimetype": "text/x-python",
   "name": "python",
   "nbconvert_exporter": "python",
   "pygments_lexer": "ipython3",
   "version": "3.10.0"
  }
 },
 "nbformat": 4,
 "nbformat_minor": 2
}
